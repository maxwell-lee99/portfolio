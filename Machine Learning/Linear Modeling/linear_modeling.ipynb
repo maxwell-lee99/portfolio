{
 "cells": [
  {
   "cell_type": "code",
   "execution_count": 976,
   "id": "sapphire-modem",
   "metadata": {},
   "outputs": [],
   "source": [
    "import pandas as pd\n",
    "import numpy as np\n",
    "import matplotlib.pyplot as plt\n",
    "import statsmodels.api as sm\n",
    "import seaborn as sns\n",
    "from sklearn.model_selection import train_test_split\n",
    "from statsmodels.stats.outliers_influence import variance_inflation_factor\n",
    "from sklearn.linear_model import LinearRegression\n",
    "from sklearn.model_selection import KFold\n",
    "from sklearn.model_selection import cross_val_score\n",
    "import sklearn\n",
    "from numpy import mean\n",
    "from numpy import std\n",
    "from numpy import sqrt\n",
    "from sklearn.linear_model import Ridge\n",
    "from sklearn.model_selection import GridSearchCV\n",
    "from sklearn.linear_model import Lasso\n",
    "from sklearn.linear_model import ElasticNet\n",
    "from sklearn.metrics import r2_score\n",
    "from sklearn.metrics import mean_squared_error"
   ]
  },
  {
   "cell_type": "code",
   "execution_count": 977,
   "id": "noticed-bracket",
   "metadata": {},
   "outputs": [],
   "source": [
    "df=pd.read_csv('../data/used_car_dataset.csv')"
   ]
  },
  {
   "cell_type": "code",
   "execution_count": 978,
   "id": "forbidden-winter",
   "metadata": {},
   "outputs": [
    {
     "data": {
      "text/plain": [
       "(9997, 14)"
      ]
     },
     "execution_count": 978,
     "metadata": {},
     "output_type": "execute_result"
    }
   ],
   "source": [
    "df.shape"
   ]
  },
  {
   "cell_type": "markdown",
   "id": "cardiac-cooler",
   "metadata": {},
   "source": [
    "The following steps are data exploration/cleansing steps"
   ]
  },
  {
   "cell_type": "code",
   "execution_count": 979,
   "id": "celtic-delivery",
   "metadata": {},
   "outputs": [
    {
     "data": {
      "text/plain": [
       "price             0\n",
       "year              0\n",
       "manufacturer      0\n",
       "condition         0\n",
       "cylinders         0\n",
       "fuel              0\n",
       "odometer        692\n",
       "transmission      0\n",
       "type              0\n",
       "paint_color       0\n",
       "F1                0\n",
       "F2                0\n",
       "F3                0\n",
       "F4                0\n",
       "dtype: int64"
      ]
     },
     "execution_count": 979,
     "metadata": {},
     "output_type": "execute_result"
    }
   ],
   "source": [
    "df.isna().sum()"
   ]
  },
  {
   "cell_type": "code",
   "execution_count": 980,
   "id": "subtle-weather",
   "metadata": {},
   "outputs": [
    {
     "data": {
      "text/plain": [
       "Index(['price', 'year', 'manufacturer', 'condition', 'cylinders', 'fuel',\n",
       "       'odometer', 'transmission', 'type', 'paint_color', 'F1', 'F2', 'F3',\n",
       "       'F4'],\n",
       "      dtype='object')"
      ]
     },
     "execution_count": 980,
     "metadata": {},
     "output_type": "execute_result"
    }
   ],
   "source": [
    "df.columns"
   ]
  },
  {
   "cell_type": "code",
   "execution_count": 981,
   "id": "wooden-customs",
   "metadata": {},
   "outputs": [
    {
     "data": {
      "text/html": [
       "<div>\n",
       "<style scoped>\n",
       "    .dataframe tbody tr th:only-of-type {\n",
       "        vertical-align: middle;\n",
       "    }\n",
       "\n",
       "    .dataframe tbody tr th {\n",
       "        vertical-align: top;\n",
       "    }\n",
       "\n",
       "    .dataframe thead th {\n",
       "        text-align: right;\n",
       "    }\n",
       "</style>\n",
       "<table border=\"1\" class=\"dataframe\">\n",
       "  <thead>\n",
       "    <tr style=\"text-align: right;\">\n",
       "      <th></th>\n",
       "      <th>price</th>\n",
       "      <th>year</th>\n",
       "      <th>manufacturer</th>\n",
       "      <th>condition</th>\n",
       "      <th>cylinders</th>\n",
       "      <th>fuel</th>\n",
       "      <th>odometer</th>\n",
       "      <th>transmission</th>\n",
       "      <th>type</th>\n",
       "      <th>paint_color</th>\n",
       "      <th>F1</th>\n",
       "      <th>F2</th>\n",
       "      <th>F3</th>\n",
       "      <th>F4</th>\n",
       "    </tr>\n",
       "  </thead>\n",
       "  <tbody>\n",
       "    <tr>\n",
       "      <th>0</th>\n",
       "      <td>21978.0</td>\n",
       "      <td>2016.0</td>\n",
       "      <td>ford</td>\n",
       "      <td>like new</td>\n",
       "      <td>6 cylinders</td>\n",
       "      <td>gas</td>\n",
       "      <td>80813.0</td>\n",
       "      <td>automatic</td>\n",
       "      <td>SUV</td>\n",
       "      <td>black</td>\n",
       "      <td>138</td>\n",
       "      <td>2.472286</td>\n",
       "      <td>0.059031</td>\n",
       "      <td>b</td>\n",
       "    </tr>\n",
       "    <tr>\n",
       "      <th>1</th>\n",
       "      <td>4185.0</td>\n",
       "      <td>2008.0</td>\n",
       "      <td>ford</td>\n",
       "      <td>good</td>\n",
       "      <td>8 cylinders</td>\n",
       "      <td>gas</td>\n",
       "      <td>201800.0</td>\n",
       "      <td>automatic</td>\n",
       "      <td>SUV</td>\n",
       "      <td>white</td>\n",
       "      <td>415</td>\n",
       "      <td>2.285245</td>\n",
       "      <td>0.046328</td>\n",
       "      <td>c</td>\n",
       "    </tr>\n",
       "    <tr>\n",
       "      <th>2</th>\n",
       "      <td>7693.0</td>\n",
       "      <td>2002.0</td>\n",
       "      <td>ford</td>\n",
       "      <td>excellent</td>\n",
       "      <td>6 cylinders</td>\n",
       "      <td>gas</td>\n",
       "      <td>145000.0</td>\n",
       "      <td>automatic</td>\n",
       "      <td>pickup</td>\n",
       "      <td>white</td>\n",
       "      <td>535</td>\n",
       "      <td>1.861461</td>\n",
       "      <td>0.158554</td>\n",
       "      <td>b</td>\n",
       "    </tr>\n",
       "    <tr>\n",
       "      <th>3</th>\n",
       "      <td>15778.0</td>\n",
       "      <td>2016.0</td>\n",
       "      <td>ford</td>\n",
       "      <td>excellent</td>\n",
       "      <td>4 cylinders</td>\n",
       "      <td>gas</td>\n",
       "      <td>50103.0</td>\n",
       "      <td>automatic</td>\n",
       "      <td>sedan</td>\n",
       "      <td>white</td>\n",
       "      <td>3435</td>\n",
       "      <td>2.331671</td>\n",
       "      <td>0.213665</td>\n",
       "      <td>c</td>\n",
       "    </tr>\n",
       "    <tr>\n",
       "      <th>4</th>\n",
       "      <td>10520.0</td>\n",
       "      <td>2005.0</td>\n",
       "      <td>ford</td>\n",
       "      <td>good</td>\n",
       "      <td>8 cylinders</td>\n",
       "      <td>gas</td>\n",
       "      <td>207663.0</td>\n",
       "      <td>automatic</td>\n",
       "      <td>truck</td>\n",
       "      <td>white</td>\n",
       "      <td>1212</td>\n",
       "      <td>2.061082</td>\n",
       "      <td>0.388724</td>\n",
       "      <td>b</td>\n",
       "    </tr>\n",
       "  </tbody>\n",
       "</table>\n",
       "</div>"
      ],
      "text/plain": [
       "     price    year manufacturer  condition    cylinders fuel  odometer  \\\n",
       "0  21978.0  2016.0         ford   like new  6 cylinders  gas   80813.0   \n",
       "1   4185.0  2008.0         ford       good  8 cylinders  gas  201800.0   \n",
       "2   7693.0  2002.0         ford  excellent  6 cylinders  gas  145000.0   \n",
       "3  15778.0  2016.0         ford  excellent  4 cylinders  gas   50103.0   \n",
       "4  10520.0  2005.0         ford       good  8 cylinders  gas  207663.0   \n",
       "\n",
       "  transmission    type paint_color    F1        F2        F3 F4  \n",
       "0    automatic     SUV       black   138  2.472286  0.059031  b  \n",
       "1    automatic     SUV       white   415  2.285245  0.046328  c  \n",
       "2    automatic  pickup       white   535  1.861461  0.158554  b  \n",
       "3    automatic   sedan       white  3435  2.331671  0.213665  c  \n",
       "4    automatic   truck       white  1212  2.061082  0.388724  b  "
      ]
     },
     "execution_count": 981,
     "metadata": {},
     "output_type": "execute_result"
    }
   ],
   "source": [
    "df.head()"
   ]
  },
  {
   "cell_type": "code",
   "execution_count": 982,
   "id": "conservative-terror",
   "metadata": {},
   "outputs": [
    {
     "name": "stderr",
     "output_type": "stream",
     "text": [
      "/Users/maxlee/dsci552/virtual_env/lib/python3.7/site-packages/seaborn/_decorators.py:43: FutureWarning: Pass the following variable as a keyword arg: x. From version 0.12, the only valid positional argument will be `data`, and passing other arguments without an explicit keyword will result in an error or misinterpretation.\n",
      "  FutureWarning\n"
     ]
    },
    {
     "data": {
      "text/plain": [
       "<AxesSubplot:xlabel='price'>"
      ]
     },
     "execution_count": 982,
     "metadata": {},
     "output_type": "execute_result"
    },
    {
     "data": {
      "image/png": "[encoded data removed]",
      "text/plain": [
       "<Figure size 432x288 with 1 Axes>"
      ]
     },
     "metadata": {
      "needs_background": "light"
     },
     "output_type": "display_data"
    }
   ],
   "source": [
    "sns.boxplot(df['price'])"
   ]
  },
  {
   "cell_type": "markdown",
   "id": "congressional-amount",
   "metadata": {},
   "source": [
    "Unfortunately, I don't think that truck is actually $400,000"
   ]
  },
  {
   "cell_type": "code",
   "execution_count": 983,
   "id": "passive-baker",
   "metadata": {},
   "outputs": [
    {
     "name": "stdout",
     "output_type": "stream",
     "text": [
      "         price    year manufacturer  condition    cylinders fuel  odometer  \\\n",
      "1722  402498.0  2016.0         ford  excellent  6 cylinders  gas   59000.0   \n",
      "\n",
      "     transmission    type paint_color   F1        F2        F3 F4  \n",
      "1722    automatic  pickup       black  155  2.443044  0.166662  c  \n"
     ]
    }
   ],
   "source": [
    "print(df[df['price']>300000])"
   ]
  },
  {
   "cell_type": "code",
   "execution_count": 984,
   "id": "sorted-complex",
   "metadata": {},
   "outputs": [],
   "source": [
    "df=df[df['price']<300000]\n",
    "df=df[df['price']>0]\n"
   ]
  },
  {
   "cell_type": "code",
   "execution_count": 985,
   "id": "curious-bruce",
   "metadata": {},
   "outputs": [
    {
     "data": {
      "text/plain": [
       "Text(0, 0.5, 'Frequency')"
      ]
     },
     "execution_count": 985,
     "metadata": {},
     "output_type": "execute_result"
    },
    {
     "data": {
      "image/png": "[encoded data removed]",
      "text/plain": [
       "<Figure size 432x288 with 1 Axes>"
      ]
     },
     "metadata": {
      "needs_background": "light"
     },
     "output_type": "display_data"
    }
   ],
   "source": [
    "plt.hist(df['price'],bins=100)\n",
    "plt.title('Histogram of Price')\n",
    "plt.xlabel('Price')\n",
    "plt.ylabel('Frequency')"
   ]
  },
  {
   "cell_type": "markdown",
   "id": "periodic-simple",
   "metadata": {},
   "source": [
    "Having gotten rid of the clear outlier, we now have more of a choice of what to do with the points that the boxplot characterization still believes are outliers. They're prices that make sense for some types of cars, so ultimately I decide to leave these points in as I don't want to unnecessarily restrict the dataset. But the data is clearly skewed, which may pose problems for linear regression."
   ]
  },
  {
   "cell_type": "code",
   "execution_count": 986,
   "id": "boxed-thriller",
   "metadata": {},
   "outputs": [
    {
     "name": "stderr",
     "output_type": "stream",
     "text": [
      "/Users/maxlee/dsci552/virtual_env/lib/python3.7/site-packages/seaborn/_decorators.py:43: FutureWarning: Pass the following variable as a keyword arg: x. From version 0.12, the only valid positional argument will be `data`, and passing other arguments without an explicit keyword will result in an error or misinterpretation.\n",
      "  FutureWarning\n"
     ]
    },
    {
     "data": {
      "text/plain": [
       "<AxesSubplot:xlabel='price'>"
      ]
     },
     "execution_count": 986,
     "metadata": {},
     "output_type": "execute_result"
    },
    {
     "data": {
      "image/png": "[encoded data removed]",
      "text/plain": [
       "<Figure size 432x288 with 1 Axes>"
      ]
     },
     "metadata": {
      "needs_background": "light"
     },
     "output_type": "display_data"
    }
   ],
   "source": [
    "sns.boxplot(df['price'])"
   ]
  },
  {
   "cell_type": "code",
   "execution_count": 987,
   "id": "foster-forward",
   "metadata": {},
   "outputs": [
    {
     "name": "stderr",
     "output_type": "stream",
     "text": [
      "/Users/maxlee/dsci552/virtual_env/lib/python3.7/site-packages/seaborn/_decorators.py:43: FutureWarning: Pass the following variable as a keyword arg: x. From version 0.12, the only valid positional argument will be `data`, and passing other arguments without an explicit keyword will result in an error or misinterpretation.\n",
      "  FutureWarning\n"
     ]
    },
    {
     "data": {
      "text/plain": [
       "<AxesSubplot:xlabel='year'>"
      ]
     },
     "execution_count": 987,
     "metadata": {},
     "output_type": "execute_result"
    },
    {
     "data": {
      "image/png": "[encoded data removed]",
      "text/plain": [
       "<Figure size 432x288 with 1 Axes>"
      ]
     },
     "metadata": {
      "needs_background": "light"
     },
     "output_type": "display_data"
    }
   ],
   "source": [
    "sns.boxplot(df['year'])"
   ]
  },
  {
   "cell_type": "markdown",
   "id": "occupational-gregory",
   "metadata": {},
   "source": [
    "The following are to find the right level to cut the odometer at, which was a bit difficult as a few major outliers\n",
    "made it difficult to see. I set the values to na as I assume they are mostly entry errors. Eventually I drop all na's, but setting these to na would allow imputation to these values if one chose to do so"
   ]
  },
  {
   "cell_type": "code",
   "execution_count": 988,
   "id": "korean-welsh",
   "metadata": {},
   "outputs": [
    {
     "name": "stderr",
     "output_type": "stream",
     "text": [
      "/Users/maxlee/dsci552/virtual_env/lib/python3.7/site-packages/seaborn/_decorators.py:43: FutureWarning: Pass the following variable as a keyword arg: x. From version 0.12, the only valid positional argument will be `data`, and passing other arguments without an explicit keyword will result in an error or misinterpretation.\n",
      "  FutureWarning\n"
     ]
    },
    {
     "data": {
      "text/plain": [
       "<AxesSubplot:xlabel='odometer'>"
      ]
     },
     "execution_count": 988,
     "metadata": {},
     "output_type": "execute_result"
    },
    {
     "data": {
      "image/png": "[encoded data removed]",
      "text/plain": [
       "<Figure size 432x288 with 1 Axes>"
      ]
     },
     "metadata": {
      "needs_background": "light"
     },
     "output_type": "display_data"
    }
   ],
   "source": [
    "sns.boxplot(df['odometer'].dropna())"
   ]
  },
  {
   "cell_type": "code",
   "execution_count": 989,
   "id": "responsible-expression",
   "metadata": {},
   "outputs": [
    {
     "name": "stdout",
     "output_type": "stream",
     "text": [
      "       price    year manufacturer condition    cylinders fuel   odometer  \\\n",
      "3351  2603.0  1996.0         ford      good  8 cylinders  gas  9999999.0   \n",
      "\n",
      "     transmission type paint_color  F1        F2        F3 F4  \n",
      "3351    automatic  SUV       white  78  1.898153  0.051428  a  \n"
     ]
    }
   ],
   "source": [
    "print(df[df['odometer']>5000000])"
   ]
  },
  {
   "cell_type": "code",
   "execution_count": 990,
   "id": "backed-orange",
   "metadata": {},
   "outputs": [
    {
     "name": "stdout",
     "output_type": "stream",
     "text": [
      "price                9828.0\n",
      "year                 2013.0\n",
      "manufacturer           ford\n",
      "condition         excellent\n",
      "cylinders       6 cylinders\n",
      "fuel                    gas\n",
      "odometer           138633.0\n",
      "transmission      automatic\n",
      "type                    SUV\n",
      "paint_color           white\n",
      "F1                     1690\n",
      "F2                 2.195113\n",
      "F3                 0.129267\n",
      "F4                        b\n",
      "Name: 3395, dtype: object\n"
     ]
    }
   ],
   "source": [
    "df.loc[df['odometer']>5000000,'odometer']=np.nan\n",
    "print(df.iloc[3351,:])"
   ]
  },
  {
   "cell_type": "code",
   "execution_count": 991,
   "id": "handled-venezuela",
   "metadata": {},
   "outputs": [
    {
     "name": "stderr",
     "output_type": "stream",
     "text": [
      "/Users/maxlee/dsci552/virtual_env/lib/python3.7/site-packages/seaborn/_decorators.py:43: FutureWarning: Pass the following variable as a keyword arg: x. From version 0.12, the only valid positional argument will be `data`, and passing other arguments without an explicit keyword will result in an error or misinterpretation.\n",
      "  FutureWarning\n"
     ]
    },
    {
     "data": {
      "text/plain": [
       "<AxesSubplot:xlabel='odometer'>"
      ]
     },
     "execution_count": 991,
     "metadata": {},
     "output_type": "execute_result"
    },
    {
     "data": {
      "image/png": "[encoded data removed]",
      "text/plain": [
       "<Figure size 432x288 with 1 Axes>"
      ]
     },
     "metadata": {
      "needs_background": "light"
     },
     "output_type": "display_data"
    }
   ],
   "source": [
    "sns.boxplot(df['odometer'].dropna())"
   ]
  },
  {
   "cell_type": "code",
   "execution_count": 992,
   "id": "international-principle",
   "metadata": {},
   "outputs": [
    {
     "name": "stdout",
     "output_type": "stream",
     "text": [
      "       price    year manufacturer  condition    cylinders fuel   odometer  \\\n",
      "683   1949.0  1997.0         ford       good  6 cylinders  gas  2110000.0   \n",
      "1959  7825.0  2003.0         ford  excellent  8 cylinders  gas  1690000.0   \n",
      "3869  4024.0  2002.0         ford  excellent  6 cylinders  gas  2074484.0   \n",
      "4454  6588.0  2003.0         ford       good  8 cylinders  gas  1330000.0   \n",
      "7231  8475.0  1995.0         ford       good  6 cylinders  gas  1062450.0   \n",
      "9063  3812.0  2003.0         ford       good  8 cylinders  gas  1737004.0   \n",
      "9632  2597.0  2007.0         ford       fair  6 cylinders  gas  2000000.0   \n",
      "9645   500.0  1999.0         ford       good  8 cylinders  gas  1234567.0   \n",
      "\n",
      "     transmission    type paint_color   F1        F2        F3 F4  \n",
      "683     automatic   sedan      silver  103  1.923743  0.218098  c  \n",
      "1959    automatic     SUV       white  345  2.082982  0.089149  b  \n",
      "3869    automatic     SUV      silver  259  2.016615  0.074513  b  \n",
      "4454    automatic     SUV       white  156  2.042484  0.231447  b  \n",
      "7231    automatic  pickup       white  890  1.919086  0.023367  b  \n",
      "9063    automatic  pickup      silver  852  1.910999  0.089028  c  \n",
      "9632    automatic   truck       white   14  2.190252  0.048524  a  \n",
      "9645    automatic   truck         red   82  1.966039  0.210560  a  \n"
     ]
    }
   ],
   "source": [
    "print(df[df['odometer']>1000000])"
   ]
  },
  {
   "cell_type": "code",
   "execution_count": 993,
   "id": "transsexual-disorder",
   "metadata": {},
   "outputs": [],
   "source": [
    "df.loc[df['odometer']>1000000,'odometer']=np.nan"
   ]
  },
  {
   "cell_type": "code",
   "execution_count": 994,
   "id": "premier-designer",
   "metadata": {},
   "outputs": [
    {
     "name": "stderr",
     "output_type": "stream",
     "text": [
      "/Users/maxlee/dsci552/virtual_env/lib/python3.7/site-packages/seaborn/_decorators.py:43: FutureWarning: Pass the following variable as a keyword arg: x. From version 0.12, the only valid positional argument will be `data`, and passing other arguments without an explicit keyword will result in an error or misinterpretation.\n",
      "  FutureWarning\n"
     ]
    },
    {
     "data": {
      "text/plain": [
       "<AxesSubplot:xlabel='odometer'>"
      ]
     },
     "execution_count": 994,
     "metadata": {},
     "output_type": "execute_result"
    },
    {
     "data": {
      "image/png": "[encoded data removed]",
      "text/plain": [
       "<Figure size 432x288 with 1 Axes>"
      ]
     },
     "metadata": {
      "needs_background": "light"
     },
     "output_type": "display_data"
    }
   ],
   "source": [
    "sns.boxplot(df['odometer'].dropna())"
   ]
  },
  {
   "cell_type": "code",
   "execution_count": 995,
   "id": "behind-device",
   "metadata": {},
   "outputs": [
    {
     "name": "stdout",
     "output_type": "stream",
     "text": [
      "        price    year manufacturer  condition    cylinders fuel   odometer  \\\n",
      "618    2033.0  2004.0         ford       good  8 cylinders  gas  1000000.0   \n",
      "690   10172.0  2008.0         ford  excellent  4 cylinders  gas   990000.0   \n",
      "1205  16204.0  2016.0         ford  excellent  4 cylinders  gas   999745.0   \n",
      "1345  12390.0  2014.0         ford  excellent  6 cylinders  gas   771354.0   \n",
      "2062  24151.0  1940.0         ford       good  8 cylinders  gas   999999.0   \n",
      "3035   1743.0  1978.0         ford       fair  8 cylinders  gas   606030.0   \n",
      "8088   1792.0  1955.0         ford       fair  8 cylinders  gas   888999.0   \n",
      "9198  19632.0  1940.0         ford       good  8 cylinders  gas   999999.0   \n",
      "\n",
      "     transmission    type paint_color   F1        F2        F3 F4  \n",
      "618     automatic     SUV       black  557  1.924468  0.022897  a  \n",
      "690     automatic   sedan       black  113  2.105780  0.130174  c  \n",
      "1205    automatic   sedan       black   68  2.251897  0.121695  a  \n",
      "1345    automatic     SUV       white  578  2.366769 -0.008761  c  \n",
      "2062    automatic   sedan         red  757  0.699462  0.111949  b  \n",
      "3035       manual   truck       white   60  1.403369  0.243304  a  \n",
      "8088       manual  pickup        blue  342  0.964568  0.102570  b  \n",
      "9198    automatic   sedan         red  741  0.649803 -0.065161  c  \n"
     ]
    }
   ],
   "source": [
    "print(df[df['odometer']>500000])"
   ]
  },
  {
   "cell_type": "code",
   "execution_count": 996,
   "id": "stuffed-player",
   "metadata": {},
   "outputs": [],
   "source": [
    "df.loc[df['odometer']>500000,'odometer']=np.nan"
   ]
  },
  {
   "cell_type": "code",
   "execution_count": 997,
   "id": "smoking-minnesota",
   "metadata": {},
   "outputs": [
    {
     "name": "stderr",
     "output_type": "stream",
     "text": [
      "/Users/maxlee/dsci552/virtual_env/lib/python3.7/site-packages/seaborn/_decorators.py:43: FutureWarning: Pass the following variable as a keyword arg: x. From version 0.12, the only valid positional argument will be `data`, and passing other arguments without an explicit keyword will result in an error or misinterpretation.\n",
      "  FutureWarning\n"
     ]
    },
    {
     "data": {
      "text/plain": [
       "<AxesSubplot:xlabel='odometer'>"
      ]
     },
     "execution_count": 997,
     "metadata": {},
     "output_type": "execute_result"
    },
    {
     "data": {
      "image/png": "[encoded data removed]",
      "text/plain": [
       "<Figure size 432x288 with 1 Axes>"
      ]
     },
     "metadata": {
      "needs_background": "light"
     },
     "output_type": "display_data"
    }
   ],
   "source": [
    "sns.boxplot(df['odometer'].dropna())"
   ]
  },
  {
   "cell_type": "markdown",
   "id": "beginning-sample",
   "metadata": {},
   "source": [
    "Rescaling odometer to be more interpretable"
   ]
  },
  {
   "cell_type": "code",
   "execution_count": 998,
   "id": "motivated-explosion",
   "metadata": {},
   "outputs": [],
   "source": [
    "df['odometer']=df['odometer']/1000"
   ]
  },
  {
   "cell_type": "code",
   "execution_count": 999,
   "id": "hungarian-spread",
   "metadata": {},
   "outputs": [
    {
     "name": "stderr",
     "output_type": "stream",
     "text": [
      "/Users/maxlee/dsci552/virtual_env/lib/python3.7/site-packages/seaborn/_decorators.py:43: FutureWarning: Pass the following variable as a keyword arg: x. From version 0.12, the only valid positional argument will be `data`, and passing other arguments without an explicit keyword will result in an error or misinterpretation.\n",
      "  FutureWarning\n"
     ]
    },
    {
     "data": {
      "text/plain": [
       "<AxesSubplot:xlabel='F1'>"
      ]
     },
     "execution_count": 999,
     "metadata": {},
     "output_type": "execute_result"
    },
    {
     "data": {
      "image/png": "[encoded data removed]",
      "text/plain": [
       "<Figure size 432x288 with 1 Axes>"
      ]
     },
     "metadata": {
      "needs_background": "light"
     },
     "output_type": "display_data"
    }
   ],
   "source": [
    "sns.boxplot(df['F1'])"
   ]
  },
  {
   "cell_type": "code",
   "execution_count": 1000,
   "id": "clean-childhood",
   "metadata": {},
   "outputs": [
    {
     "name": "stderr",
     "output_type": "stream",
     "text": [
      "/Users/maxlee/dsci552/virtual_env/lib/python3.7/site-packages/seaborn/_decorators.py:43: FutureWarning: Pass the following variable as a keyword arg: x. From version 0.12, the only valid positional argument will be `data`, and passing other arguments without an explicit keyword will result in an error or misinterpretation.\n",
      "  FutureWarning\n"
     ]
    },
    {
     "data": {
      "text/plain": [
       "<AxesSubplot:xlabel='F2'>"
      ]
     },
     "execution_count": 1000,
     "metadata": {},
     "output_type": "execute_result"
    },
    {
     "data": {
      "image/png": "[encoded data removed]",
      "text/plain": [
       "<Figure size 432x288 with 1 Axes>"
      ]
     },
     "metadata": {
      "needs_background": "light"
     },
     "output_type": "display_data"
    }
   ],
   "source": [
    "sns.boxplot(df['F2'])"
   ]
  },
  {
   "cell_type": "code",
   "execution_count": 1001,
   "id": "swiss-bacon",
   "metadata": {},
   "outputs": [
    {
     "name": "stderr",
     "output_type": "stream",
     "text": [
      "/Users/maxlee/dsci552/virtual_env/lib/python3.7/site-packages/seaborn/_decorators.py:43: FutureWarning: Pass the following variable as a keyword arg: x. From version 0.12, the only valid positional argument will be `data`, and passing other arguments without an explicit keyword will result in an error or misinterpretation.\n",
      "  FutureWarning\n"
     ]
    },
    {
     "data": {
      "text/plain": [
       "<AxesSubplot:xlabel='F3'>"
      ]
     },
     "execution_count": 1001,
     "metadata": {},
     "output_type": "execute_result"
    },
    {
     "data": {
      "image/png": "[encoded data removed]",
      "text/plain": [
       "<Figure size 432x288 with 1 Axes>"
      ]
     },
     "metadata": {
      "needs_background": "light"
     },
     "output_type": "display_data"
    }
   ],
   "source": [
    "sns.boxplot(df['F3'])"
   ]
  },
  {
   "cell_type": "code",
   "execution_count": 1002,
   "id": "global-eugene",
   "metadata": {},
   "outputs": [
    {
     "data": {
      "text/plain": [
       "price             0\n",
       "year              0\n",
       "manufacturer      0\n",
       "condition         0\n",
       "cylinders         0\n",
       "fuel              0\n",
       "odometer        692\n",
       "transmission      0\n",
       "type              0\n",
       "paint_color       0\n",
       "F1                0\n",
       "F2                0\n",
       "F3                0\n",
       "F4                0\n",
       "dtype: int64"
      ]
     },
     "execution_count": 1002,
     "metadata": {},
     "output_type": "execute_result"
    }
   ],
   "source": [
    "df.isna().sum()"
   ]
  },
  {
   "cell_type": "code",
   "execution_count": 1003,
   "id": "adjusted-administration",
   "metadata": {},
   "outputs": [
    {
     "data": {
      "text/plain": [
       "(9866, 14)"
      ]
     },
     "execution_count": 1003,
     "metadata": {},
     "output_type": "execute_result"
    }
   ],
   "source": [
    "df.shape"
   ]
  },
  {
   "cell_type": "code",
   "execution_count": 1004,
   "id": "abstract-faculty",
   "metadata": {},
   "outputs": [
    {
     "data": {
      "text/plain": [
       "(9174, 14)"
      ]
     },
     "execution_count": 1004,
     "metadata": {},
     "output_type": "execute_result"
    }
   ],
   "source": [
    "clean=df.dropna()\n",
    "clean.shape"
   ]
  },
  {
   "cell_type": "markdown",
   "id": "elegant-beast",
   "metadata": {},
   "source": [
    "These are now the distributions of the categorical variables, run to ensure there were no erroneous/nonsensical categories"
   ]
  },
  {
   "cell_type": "code",
   "execution_count": 1005,
   "id": "settled-technique",
   "metadata": {},
   "outputs": [
    {
     "data": {
      "text/plain": [
       "Text(0.5, 0, 'manufacturer')"
      ]
     },
     "execution_count": 1005,
     "metadata": {},
     "output_type": "execute_result"
    },
    {
     "data": {
      "image/png": "[encoded data removed]",
      "text/plain": [
       "<Figure size 432x288 with 1 Axes>"
      ]
     },
     "metadata": {
      "needs_background": "light"
     },
     "output_type": "display_data"
    }
   ],
   "source": [
    "x='manufacturer'\n",
    "plt.hist(clean[x])\n",
    "plt.xlabel(x)"
   ]
  },
  {
   "cell_type": "code",
   "execution_count": 1006,
   "id": "young-farmer",
   "metadata": {},
   "outputs": [
    {
     "data": {
      "text/plain": [
       "Text(0.5, 0, 'condition')"
      ]
     },
     "execution_count": 1006,
     "metadata": {},
     "output_type": "execute_result"
    },
    {
     "data": {
      "image/png": "[encoded data removed]",
      "text/plain": [
       "<Figure size 432x288 with 1 Axes>"
      ]
     },
     "metadata": {
      "needs_background": "light"
     },
     "output_type": "display_data"
    }
   ],
   "source": [
    "x='condition'\n",
    "plt.hist(clean[x])\n",
    "plt.xlabel(x)"
   ]
  },
  {
   "cell_type": "code",
   "execution_count": 1007,
   "id": "indonesian-consent",
   "metadata": {},
   "outputs": [
    {
     "data": {
      "text/plain": [
       "Text(0.5, 0, 'cylinders')"
      ]
     },
     "execution_count": 1007,
     "metadata": {},
     "output_type": "execute_result"
    },
    {
     "data": {
      "image/png": "[encoded data removed]",
      "text/plain": [
       "<Figure size 432x288 with 1 Axes>"
      ]
     },
     "metadata": {
      "needs_background": "light"
     },
     "output_type": "display_data"
    }
   ],
   "source": [
    "x='cylinders'\n",
    "plt.hist(clean[x])\n",
    "plt.xlabel(x)"
   ]
  },
  {
   "cell_type": "markdown",
   "id": "herbal-monte",
   "metadata": {},
   "source": [
    "Gas is the only fuel type, so it will be dropped as a feature as there can't be any signal from the feature"
   ]
  },
  {
   "cell_type": "code",
   "execution_count": 1008,
   "id": "comparative-circulation",
   "metadata": {},
   "outputs": [
    {
     "data": {
      "text/plain": [
       "Text(0.5, 0, 'fuel')"
      ]
     },
     "execution_count": 1008,
     "metadata": {},
     "output_type": "execute_result"
    },
    {
     "data": {
      "image/png": "[encoded data removed]",
      "text/plain": [
       "<Figure size 432x288 with 1 Axes>"
      ]
     },
     "metadata": {
      "needs_background": "light"
     },
     "output_type": "display_data"
    }
   ],
   "source": [
    "x='fuel'\n",
    "plt.hist(clean[x])\n",
    "plt.xlabel(x)"
   ]
  },
  {
   "cell_type": "code",
   "execution_count": 1009,
   "id": "suspected-fitness",
   "metadata": {},
   "outputs": [],
   "source": [
    "clean=clean.drop(columns=['fuel'])"
   ]
  },
  {
   "cell_type": "code",
   "execution_count": 1010,
   "id": "automotive-workplace",
   "metadata": {},
   "outputs": [
    {
     "data": {
      "text/plain": [
       "Text(0.5, 0, 'transmission')"
      ]
     },
     "execution_count": 1010,
     "metadata": {},
     "output_type": "execute_result"
    },
    {
     "data": {
      "image/png": "[encoded data removed]",
      "text/plain": [
       "<Figure size 432x288 with 1 Axes>"
      ]
     },
     "metadata": {
      "needs_background": "light"
     },
     "output_type": "display_data"
    }
   ],
   "source": [
    "x='transmission'\n",
    "plt.hist(clean[x])\n",
    "plt.xlabel(x)"
   ]
  },
  {
   "cell_type": "code",
   "execution_count": 1011,
   "id": "expensive-citizenship",
   "metadata": {},
   "outputs": [
    {
     "data": {
      "text/plain": [
       "Text(0.5, 0, 'type')"
      ]
     },
     "execution_count": 1011,
     "metadata": {},
     "output_type": "execute_result"
    },
    {
     "data": {
      "image/png": "[encoded data removed]",
      "text/plain": [
       "<Figure size 432x288 with 1 Axes>"
      ]
     },
     "metadata": {
      "needs_background": "light"
     },
     "output_type": "display_data"
    }
   ],
   "source": [
    "x='type'\n",
    "plt.hist(clean[x])\n",
    "plt.xlabel(x)"
   ]
  },
  {
   "cell_type": "code",
   "execution_count": 1012,
   "id": "suburban-pursuit",
   "metadata": {},
   "outputs": [
    {
     "data": {
      "text/plain": [
       "Text(0.5, 0, 'paint_color')"
      ]
     },
     "execution_count": 1012,
     "metadata": {},
     "output_type": "execute_result"
    },
    {
     "data": {
      "image/png": "[encoded data removed]",
      "text/plain": [
       "<Figure size 432x288 with 1 Axes>"
      ]
     },
     "metadata": {
      "needs_background": "light"
     },
     "output_type": "display_data"
    }
   ],
   "source": [
    "x='paint_color'\n",
    "plt.hist(clean[x])\n",
    "plt.xlabel(x)"
   ]
  },
  {
   "cell_type": "code",
   "execution_count": 1013,
   "id": "sporting-distribution",
   "metadata": {},
   "outputs": [
    {
     "data": {
      "text/plain": [
       "Text(0.5, 0, 'F4')"
      ]
     },
     "execution_count": 1013,
     "metadata": {},
     "output_type": "execute_result"
    },
    {
     "data": {
      "image/png": "[encoded data removed]",
      "text/plain": [
       "<Figure size 432x288 with 1 Axes>"
      ]
     },
     "metadata": {
      "needs_background": "light"
     },
     "output_type": "display_data"
    }
   ],
   "source": [
    "x='F4'\n",
    "plt.hist(clean[x])\n",
    "plt.xlabel(x)"
   ]
  },
  {
   "cell_type": "markdown",
   "id": "single-organic",
   "metadata": {},
   "source": [
    "We now get dummy variables for each of the categorical variables. Importantly, we drop one of the columns for each category. Failing to do so would result in perfect colinearity between that category."
   ]
  },
  {
   "cell_type": "code",
   "execution_count": 1014,
   "id": "hydraulic-sample",
   "metadata": {},
   "outputs": [],
   "source": [
    "clean=pd.get_dummies(clean,columns=['manufacturer','F4','paint_color','type','transmission','cylinders','condition'],drop_first=True)"
   ]
  },
  {
   "cell_type": "code",
   "execution_count": 1015,
   "id": "nearby-symposium",
   "metadata": {},
   "outputs": [
    {
     "data": {
      "text/html": [
       "<div>\n",
       "<style scoped>\n",
       "    .dataframe tbody tr th:only-of-type {\n",
       "        vertical-align: middle;\n",
       "    }\n",
       "\n",
       "    .dataframe tbody tr th {\n",
       "        vertical-align: top;\n",
       "    }\n",
       "\n",
       "    .dataframe thead th {\n",
       "        text-align: right;\n",
       "    }\n",
       "</style>\n",
       "<table border=\"1\" class=\"dataframe\">\n",
       "  <thead>\n",
       "    <tr style=\"text-align: right;\">\n",
       "      <th></th>\n",
       "      <th>price</th>\n",
       "      <th>year</th>\n",
       "      <th>odometer</th>\n",
       "      <th>F1</th>\n",
       "      <th>F2</th>\n",
       "      <th>F3</th>\n",
       "      <th>manufacturer_subaru</th>\n",
       "      <th>F4_b</th>\n",
       "      <th>F4_c</th>\n",
       "      <th>paint_color_blue</th>\n",
       "      <th>...</th>\n",
       "      <th>paint_color_white</th>\n",
       "      <th>type_pickup</th>\n",
       "      <th>type_sedan</th>\n",
       "      <th>type_truck</th>\n",
       "      <th>transmission_manual</th>\n",
       "      <th>cylinders_6 cylinders</th>\n",
       "      <th>cylinders_8 cylinders</th>\n",
       "      <th>condition_fair</th>\n",
       "      <th>condition_good</th>\n",
       "      <th>condition_like new</th>\n",
       "    </tr>\n",
       "  </thead>\n",
       "  <tbody>\n",
       "    <tr>\n",
       "      <th>0</th>\n",
       "      <td>21978.0</td>\n",
       "      <td>2016.0</td>\n",
       "      <td>80.813</td>\n",
       "      <td>138</td>\n",
       "      <td>2.472286</td>\n",
       "      <td>0.059031</td>\n",
       "      <td>0</td>\n",
       "      <td>1</td>\n",
       "      <td>0</td>\n",
       "      <td>0</td>\n",
       "      <td>...</td>\n",
       "      <td>0</td>\n",
       "      <td>0</td>\n",
       "      <td>0</td>\n",
       "      <td>0</td>\n",
       "      <td>0</td>\n",
       "      <td>1</td>\n",
       "      <td>0</td>\n",
       "      <td>0</td>\n",
       "      <td>0</td>\n",
       "      <td>1</td>\n",
       "    </tr>\n",
       "    <tr>\n",
       "      <th>1</th>\n",
       "      <td>4185.0</td>\n",
       "      <td>2008.0</td>\n",
       "      <td>201.800</td>\n",
       "      <td>415</td>\n",
       "      <td>2.285245</td>\n",
       "      <td>0.046328</td>\n",
       "      <td>0</td>\n",
       "      <td>0</td>\n",
       "      <td>1</td>\n",
       "      <td>0</td>\n",
       "      <td>...</td>\n",
       "      <td>1</td>\n",
       "      <td>0</td>\n",
       "      <td>0</td>\n",
       "      <td>0</td>\n",
       "      <td>0</td>\n",
       "      <td>0</td>\n",
       "      <td>1</td>\n",
       "      <td>0</td>\n",
       "      <td>1</td>\n",
       "      <td>0</td>\n",
       "    </tr>\n",
       "    <tr>\n",
       "      <th>2</th>\n",
       "      <td>7693.0</td>\n",
       "      <td>2002.0</td>\n",
       "      <td>145.000</td>\n",
       "      <td>535</td>\n",
       "      <td>1.861461</td>\n",
       "      <td>0.158554</td>\n",
       "      <td>0</td>\n",
       "      <td>1</td>\n",
       "      <td>0</td>\n",
       "      <td>0</td>\n",
       "      <td>...</td>\n",
       "      <td>1</td>\n",
       "      <td>1</td>\n",
       "      <td>0</td>\n",
       "      <td>0</td>\n",
       "      <td>0</td>\n",
       "      <td>1</td>\n",
       "      <td>0</td>\n",
       "      <td>0</td>\n",
       "      <td>0</td>\n",
       "      <td>0</td>\n",
       "    </tr>\n",
       "    <tr>\n",
       "      <th>3</th>\n",
       "      <td>15778.0</td>\n",
       "      <td>2016.0</td>\n",
       "      <td>50.103</td>\n",
       "      <td>3435</td>\n",
       "      <td>2.331671</td>\n",
       "      <td>0.213665</td>\n",
       "      <td>0</td>\n",
       "      <td>0</td>\n",
       "      <td>1</td>\n",
       "      <td>0</td>\n",
       "      <td>...</td>\n",
       "      <td>1</td>\n",
       "      <td>0</td>\n",
       "      <td>1</td>\n",
       "      <td>0</td>\n",
       "      <td>0</td>\n",
       "      <td>0</td>\n",
       "      <td>0</td>\n",
       "      <td>0</td>\n",
       "      <td>0</td>\n",
       "      <td>0</td>\n",
       "    </tr>\n",
       "    <tr>\n",
       "      <th>4</th>\n",
       "      <td>10520.0</td>\n",
       "      <td>2005.0</td>\n",
       "      <td>207.663</td>\n",
       "      <td>1212</td>\n",
       "      <td>2.061082</td>\n",
       "      <td>0.388724</td>\n",
       "      <td>0</td>\n",
       "      <td>1</td>\n",
       "      <td>0</td>\n",
       "      <td>0</td>\n",
       "      <td>...</td>\n",
       "      <td>1</td>\n",
       "      <td>0</td>\n",
       "      <td>0</td>\n",
       "      <td>1</td>\n",
       "      <td>0</td>\n",
       "      <td>0</td>\n",
       "      <td>1</td>\n",
       "      <td>0</td>\n",
       "      <td>1</td>\n",
       "      <td>0</td>\n",
       "    </tr>\n",
       "  </tbody>\n",
       "</table>\n",
       "<p>5 rows × 22 columns</p>\n",
       "</div>"
      ],
      "text/plain": [
       "     price    year  odometer    F1        F2        F3  manufacturer_subaru  \\\n",
       "0  21978.0  2016.0    80.813   138  2.472286  0.059031                    0   \n",
       "1   4185.0  2008.0   201.800   415  2.285245  0.046328                    0   \n",
       "2   7693.0  2002.0   145.000   535  1.861461  0.158554                    0   \n",
       "3  15778.0  2016.0    50.103  3435  2.331671  0.213665                    0   \n",
       "4  10520.0  2005.0   207.663  1212  2.061082  0.388724                    0   \n",
       "\n",
       "   F4_b  F4_c  paint_color_blue  ...  paint_color_white  type_pickup  \\\n",
       "0     1     0                 0  ...                  0            0   \n",
       "1     0     1                 0  ...                  1            0   \n",
       "2     1     0                 0  ...                  1            1   \n",
       "3     0     1                 0  ...                  1            0   \n",
       "4     1     0                 0  ...                  1            0   \n",
       "\n",
       "   type_sedan  type_truck  transmission_manual  cylinders_6 cylinders  \\\n",
       "0           0           0                    0                      1   \n",
       "1           0           0                    0                      0   \n",
       "2           0           0                    0                      1   \n",
       "3           1           0                    0                      0   \n",
       "4           0           1                    0                      0   \n",
       "\n",
       "   cylinders_8 cylinders  condition_fair  condition_good  condition_like new  \n",
       "0                      0               0               0                   1  \n",
       "1                      1               0               1                   0  \n",
       "2                      0               0               0                   0  \n",
       "3                      0               0               0                   0  \n",
       "4                      1               0               1                   0  \n",
       "\n",
       "[5 rows x 22 columns]"
      ]
     },
     "execution_count": 1015,
     "metadata": {},
     "output_type": "execute_result"
    }
   ],
   "source": [
    "clean.head()"
   ]
  },
  {
   "cell_type": "code",
   "execution_count": 1016,
   "id": "breathing-thought",
   "metadata": {},
   "outputs": [
    {
     "data": {
      "text/plain": [
       "Index(['price', 'year', 'odometer', 'F1', 'F2', 'F3', 'manufacturer_subaru',\n",
       "       'F4_b', 'F4_c', 'paint_color_blue', 'paint_color_red',\n",
       "       'paint_color_silver', 'paint_color_white', 'type_pickup', 'type_sedan',\n",
       "       'type_truck', 'transmission_manual', 'cylinders_6 cylinders',\n",
       "       'cylinders_8 cylinders', 'condition_fair', 'condition_good',\n",
       "       'condition_like new'],\n",
       "      dtype='object')"
      ]
     },
     "execution_count": 1016,
     "metadata": {},
     "output_type": "execute_result"
    }
   ],
   "source": [
    "clean.columns"
   ]
  },
  {
   "cell_type": "markdown",
   "id": "completed-thumb",
   "metadata": {},
   "source": [
    "A correlation matrix is shown below, to try to anticipate what features might be important to the price as well as any issues of colinearity we might see"
   ]
  },
  {
   "cell_type": "code",
   "execution_count": 1017,
   "id": "closing-prize",
   "metadata": {},
   "outputs": [
    {
     "data": {
      "text/html": [
       "<style  type=\"text/css\" >\n",
       "#T_67866_row0_col0,#T_67866_row1_col1,#T_67866_row2_col2,#T_67866_row3_col3,#T_67866_row4_col4,#T_67866_row5_col5,#T_67866_row6_col6,#T_67866_row7_col7,#T_67866_row8_col8,#T_67866_row9_col9,#T_67866_row10_col10,#T_67866_row11_col11,#T_67866_row12_col12,#T_67866_row13_col13,#T_67866_row14_col14,#T_67866_row15_col15,#T_67866_row16_col16,#T_67866_row17_col17,#T_67866_row18_col18,#T_67866_row19_col19,#T_67866_row20_col20,#T_67866_row21_col21{\n",
       "            background-color:  #b40426;\n",
       "            color:  #f1f1f1;\n",
       "        }#T_67866_row0_col1{\n",
       "            background-color:  #ecd3c5;\n",
       "            color:  #000000;\n",
       "        }#T_67866_row0_col2,#T_67866_row1_col16,#T_67866_row1_col19,#T_67866_row2_col0,#T_67866_row2_col1,#T_67866_row2_col3,#T_67866_row2_col4,#T_67866_row2_col5,#T_67866_row7_col8,#T_67866_row8_col7,#T_67866_row10_col12,#T_67866_row12_col5,#T_67866_row12_col9,#T_67866_row12_col10,#T_67866_row12_col11,#T_67866_row14_col13,#T_67866_row14_col15,#T_67866_row15_col14,#T_67866_row17_col18,#T_67866_row18_col6,#T_67866_row18_col17,#T_67866_row20_col21,#T_67866_row21_col20{\n",
       "            background-color:  #3b4cc0;\n",
       "            color:  #f1f1f1;\n",
       "        }#T_67866_row0_col3,#T_67866_row3_col17{\n",
       "            background-color:  #b6cefa;\n",
       "            color:  #000000;\n",
       "        }#T_67866_row0_col4{\n",
       "            background-color:  #dedcdb;\n",
       "            color:  #000000;\n",
       "        }#T_67866_row0_col5,#T_67866_row6_col15,#T_67866_row14_col18{\n",
       "            background-color:  #5f7fe8;\n",
       "            color:  #000000;\n",
       "        }#T_67866_row0_col6,#T_67866_row11_col3,#T_67866_row11_col13,#T_67866_row12_col16,#T_67866_row15_col11,#T_67866_row16_col3,#T_67866_row20_col6{\n",
       "            background-color:  #688aef;\n",
       "            color:  #000000;\n",
       "        }#T_67866_row0_col7,#T_67866_row1_col7,#T_67866_row1_col21,#T_67866_row4_col7,#T_67866_row10_col17,#T_67866_row14_col6,#T_67866_row19_col7,#T_67866_row20_col8,#T_67866_row21_col7{\n",
       "            background-color:  #a7c5fe;\n",
       "            color:  #000000;\n",
       "        }#T_67866_row0_col8,#T_67866_row2_col7,#T_67866_row2_col8,#T_67866_row5_col2,#T_67866_row5_col17,#T_67866_row5_col18,#T_67866_row6_col8,#T_67866_row7_col0,#T_67866_row11_col14,#T_67866_row14_col8,#T_67866_row17_col2{\n",
       "            background-color:  #adc9fd;\n",
       "            color:  #000000;\n",
       "        }#T_67866_row0_col9,#T_67866_row1_col15,#T_67866_row3_col2,#T_67866_row7_col21,#T_67866_row8_col20,#T_67866_row9_col15,#T_67866_row19_col11{\n",
       "            background-color:  #7da0f9;\n",
       "            color:  #000000;\n",
       "        }#T_67866_row0_col10,#T_67866_row4_col6,#T_67866_row5_col10,#T_67866_row7_col12,#T_67866_row19_col9,#T_67866_row19_col13,#T_67866_row20_col12,#T_67866_row21_col11{\n",
       "            background-color:  #8badfd;\n",
       "            color:  #000000;\n",
       "        }#T_67866_row0_col11,#T_67866_row3_col21,#T_67866_row6_col20,#T_67866_row7_col6,#T_67866_row11_col15,#T_67866_row21_col16{\n",
       "            background-color:  #7295f4;\n",
       "            color:  #000000;\n",
       "        }#T_67866_row0_col12,#T_67866_row1_col11,#T_67866_row2_col12{\n",
       "            background-color:  #94b6ff;\n",
       "            color:  #000000;\n",
       "        }#T_67866_row0_col13{\n",
       "            background-color:  #bcd2f7;\n",
       "            color:  #000000;\n",
       "        }#T_67866_row0_col14,#T_67866_row0_col19,#T_67866_row18_col4{\n",
       "            background-color:  #485fd1;\n",
       "            color:  #f1f1f1;\n",
       "        }#T_67866_row0_col15{\n",
       "            background-color:  #c5d6f2;\n",
       "            color:  #000000;\n",
       "        }#T_67866_row0_col16,#T_67866_row18_col11,#T_67866_row20_col3{\n",
       "            background-color:  #6485ec;\n",
       "            color:  #000000;\n",
       "        }#T_67866_row0_col17,#T_67866_row3_col1{\n",
       "            background-color:  #c1d4f4;\n",
       "            color:  #000000;\n",
       "        }#T_67866_row0_col18,#T_67866_row12_col15,#T_67866_row17_col0{\n",
       "            background-color:  #c4d5f3;\n",
       "            color:  #000000;\n",
       "        }#T_67866_row0_col20,#T_67866_row15_col3,#T_67866_row20_col1{\n",
       "            background-color:  #6687ed;\n",
       "            color:  #000000;\n",
       "        }#T_67866_row0_col21,#T_67866_row5_col7,#T_67866_row5_col8,#T_67866_row8_col17,#T_67866_row11_col8,#T_67866_row11_col17,#T_67866_row16_col8,#T_67866_row17_col7,#T_67866_row19_col17,#T_67866_row20_col7,#T_67866_row21_col8{\n",
       "            background-color:  #abc8fd;\n",
       "            color:  #000000;\n",
       "        }#T_67866_row1_col0{\n",
       "            background-color:  #f4c6af;\n",
       "            color:  #000000;\n",
       "        }#T_67866_row1_col2,#T_67866_row18_col16{\n",
       "            background-color:  #6282ea;\n",
       "            color:  #000000;\n",
       "        }#T_67866_row1_col3,#T_67866_row7_col17,#T_67866_row10_col8,#T_67866_row10_col18,#T_67866_row16_col2,#T_67866_row18_col7,#T_67866_row21_col17{\n",
       "            background-color:  #aec9fc;\n",
       "            color:  #000000;\n",
       "        }#T_67866_row1_col4,#T_67866_row4_col1{\n",
       "            background-color:  #d55042;\n",
       "            color:  #000000;\n",
       "        }#T_67866_row1_col5,#T_67866_row7_col5,#T_67866_row8_col5,#T_67866_row15_col5{\n",
       "            background-color:  #4055c8;\n",
       "            color:  #f1f1f1;\n",
       "        }#T_67866_row1_col6,#T_67866_row2_col11,#T_67866_row5_col4,#T_67866_row8_col11,#T_67866_row9_col13,#T_67866_row13_col9,#T_67866_row14_col17,#T_67866_row20_col9,#T_67866_row21_col2{\n",
       "            background-color:  #89acfd;\n",
       "            color:  #000000;\n",
       "        }#T_67866_row1_col8,#T_67866_row2_col17,#T_67866_row2_col19,#T_67866_row9_col0,#T_67866_row9_col7,#T_67866_row11_col7,#T_67866_row12_col7,#T_67866_row16_col7{\n",
       "            background-color:  #aac7fd;\n",
       "            color:  #000000;\n",
       "        }#T_67866_row1_col9,#T_67866_row5_col3,#T_67866_row10_col4,#T_67866_row10_col6,#T_67866_row13_col21,#T_67866_row14_col20,#T_67866_row17_col19{\n",
       "            background-color:  #7597f6;\n",
       "            color:  #000000;\n",
       "        }#T_67866_row1_col10,#T_67866_row2_col13,#T_67866_row2_col16,#T_67866_row4_col9,#T_67866_row4_col18,#T_67866_row5_col6,#T_67866_row5_col19,#T_67866_row8_col19,#T_67866_row13_col4,#T_67866_row13_col16{\n",
       "            background-color:  #7699f6;\n",
       "            color:  #000000;\n",
       "        }#T_67866_row1_col12,#T_67866_row4_col11,#T_67866_row4_col12,#T_67866_row5_col15,#T_67866_row20_col10,#T_67866_row21_col14{\n",
       "            background-color:  #92b4fe;\n",
       "            color:  #000000;\n",
       "        }#T_67866_row1_col13,#T_67866_row4_col13,#T_67866_row7_col3,#T_67866_row7_col19,#T_67866_row8_col3,#T_67866_row11_col16,#T_67866_row12_col19,#T_67866_row15_col4{\n",
       "            background-color:  #7396f5;\n",
       "            color:  #000000;\n",
       "        }#T_67866_row1_col14,#T_67866_row4_col14,#T_67866_row12_col1,#T_67866_row14_col1{\n",
       "            background-color:  #96b7ff;\n",
       "            color:  #000000;\n",
       "        }#T_67866_row1_col17,#T_67866_row6_col14{\n",
       "            background-color:  #bbd1f8;\n",
       "            color:  #000000;\n",
       "        }#T_67866_row1_col18,#T_67866_row13_col11,#T_67866_row18_col21,#T_67866_row19_col6{\n",
       "            background-color:  #6f92f3;\n",
       "            color:  #000000;\n",
       "        }#T_67866_row1_col20{\n",
       "            background-color:  #5673e0;\n",
       "            color:  #000000;\n",
       "        }#T_67866_row2_col6,#T_67866_row6_col3,#T_67866_row12_col14{\n",
       "            background-color:  #6a8bef;\n",
       "            color:  #000000;\n",
       "        }#T_67866_row2_col9,#T_67866_row8_col6,#T_67866_row9_col3,#T_67866_row10_col16,#T_67866_row10_col19,#T_67866_row21_col6{\n",
       "            background-color:  #7a9df8;\n",
       "            color:  #000000;\n",
       "        }#T_67866_row2_col10,#T_67866_row4_col15,#T_67866_row8_col13,#T_67866_row9_col19,#T_67866_row9_col21,#T_67866_row10_col21,#T_67866_row17_col12{\n",
       "            background-color:  #7ea1fa;\n",
       "            color:  #000000;\n",
       "        }#T_67866_row2_col14,#T_67866_row3_col15,#T_67866_row5_col21,#T_67866_row7_col20,#T_67866_row8_col9,#T_67866_row9_col1,#T_67866_row13_col1,#T_67866_row15_col21,#T_67866_row16_col13{\n",
       "            background-color:  #81a4fb;\n",
       "            color:  #000000;\n",
       "        }#T_67866_row2_col15,#T_67866_row14_col16,#T_67866_row16_col9,#T_67866_row20_col0,#T_67866_row20_col13{\n",
       "            background-color:  #9abbff;\n",
       "            color:  #000000;\n",
       "        }#T_67866_row2_col18{\n",
       "            background-color:  #cdd9ec;\n",
       "            color:  #000000;\n",
       "        }#T_67866_row2_col20,#T_67866_row3_col18,#T_67866_row4_col3,#T_67866_row6_col7,#T_67866_row10_col2,#T_67866_row13_col2,#T_67866_row13_col8,#T_67866_row14_col11,#T_67866_row15_col7,#T_67866_row18_col8,#T_67866_row21_col4{\n",
       "            background-color:  #a6c4fe;\n",
       "            color:  #000000;\n",
       "        }#T_67866_row2_col21,#T_67866_row16_col1,#T_67866_row19_col4{\n",
       "            background-color:  #536edd;\n",
       "            color:  #000000;\n",
       "        }#T_67866_row3_col0{\n",
       "            background-color:  #dcdddd;\n",
       "            color:  #000000;\n",
       "        }#T_67866_row3_col4,#T_67866_row21_col1{\n",
       "            background-color:  #b3cdfb;\n",
       "            color:  #000000;\n",
       "        }#T_67866_row3_col5,#T_67866_row13_col5,#T_67866_row17_col5,#T_67866_row17_col6,#T_67866_row18_col5,#T_67866_row19_col5,#T_67866_row20_col5{\n",
       "            background-color:  #3e51c5;\n",
       "            color:  #f1f1f1;\n",
       "        }#T_67866_row3_col6,#T_67866_row3_col16,#T_67866_row4_col2,#T_67866_row11_col19{\n",
       "            background-color:  #6b8df0;\n",
       "            color:  #000000;\n",
       "        }#T_67866_row3_col7,#T_67866_row3_col8,#T_67866_row4_col8,#T_67866_row8_col18,#T_67866_row9_col2,#T_67866_row9_col8,#T_67866_row14_col7,#T_67866_row15_col8,#T_67866_row17_col8,#T_67866_row19_col8,#T_67866_row20_col17{\n",
       "            background-color:  #a9c6fd;\n",
       "            color:  #000000;\n",
       "        }#T_67866_row3_col9,#T_67866_row3_col14,#T_67866_row6_col10,#T_67866_row7_col11,#T_67866_row7_col13,#T_67866_row10_col20,#T_67866_row19_col0,#T_67866_row19_col12,#T_67866_row19_col14,#T_67866_row21_col10{\n",
       "            background-color:  #88abfd;\n",
       "            color:  #000000;\n",
       "        }#T_67866_row3_col10,#T_67866_row7_col1,#T_67866_row7_col15,#T_67866_row11_col6,#T_67866_row14_col4,#T_67866_row16_col10,#T_67866_row18_col10{\n",
       "            background-color:  #8caffe;\n",
       "            color:  #000000;\n",
       "        }#T_67866_row3_col11,#T_67866_row6_col17,#T_67866_row10_col1,#T_67866_row15_col1,#T_67866_row16_col12,#T_67866_row16_col21,#T_67866_row17_col20,#T_67866_row20_col16{\n",
       "            background-color:  #7b9ff9;\n",
       "            color:  #000000;\n",
       "        }#T_67866_row3_col12,#T_67866_row7_col14,#T_67866_row8_col1,#T_67866_row11_col18,#T_67866_row12_col4,#T_67866_row13_col12,#T_67866_row14_col10,#T_67866_row16_col19,#T_67866_row19_col10,#T_67866_row21_col12{\n",
       "            background-color:  #8db0fe;\n",
       "            color:  #000000;\n",
       "        }#T_67866_row3_col13,#T_67866_row21_col18{\n",
       "            background-color:  #9fbfff;\n",
       "            color:  #000000;\n",
       "        }#T_67866_row3_col19,#T_67866_row9_col10{\n",
       "            background-color:  #5b7ae5;\n",
       "            color:  #000000;\n",
       "        }#T_67866_row3_col20,#T_67866_row15_col9{\n",
       "            background-color:  #7093f3;\n",
       "            color:  #000000;\n",
       "        }#T_67866_row4_col0{\n",
       "            background-color:  #efcebd;\n",
       "            color:  #000000;\n",
       "        }#T_67866_row4_col5{\n",
       "            background-color:  #4358cb;\n",
       "            color:  #f1f1f1;\n",
       "        }#T_67866_row4_col10,#T_67866_row5_col16,#T_67866_row8_col16,#T_67866_row9_col4,#T_67866_row12_col3{\n",
       "            background-color:  #799cf8;\n",
       "            color:  #000000;\n",
       "        }#T_67866_row4_col16,#T_67866_row4_col19,#T_67866_row9_col12{\n",
       "            background-color:  #4257c9;\n",
       "            color:  #f1f1f1;\n",
       "        }#T_67866_row4_col17,#T_67866_row12_col2,#T_67866_row13_col17,#T_67866_row19_col18{\n",
       "            background-color:  #b9d0f9;\n",
       "            color:  #000000;\n",
       "        }#T_67866_row4_col20{\n",
       "            background-color:  #5d7ce6;\n",
       "            color:  #000000;\n",
       "        }#T_67866_row4_col21,#T_67866_row6_col9,#T_67866_row15_col17,#T_67866_row18_col20{\n",
       "            background-color:  #a2c1ff;\n",
       "            color:  #000000;\n",
       "        }#T_67866_row5_col0,#T_67866_row18_col0{\n",
       "            background-color:  #c6d6f1;\n",
       "            color:  #000000;\n",
       "        }#T_67866_row5_col1,#T_67866_row11_col4,#T_67866_row15_col20,#T_67866_row17_col13,#T_67866_row21_col15{\n",
       "            background-color:  #90b2fe;\n",
       "            color:  #000000;\n",
       "        }#T_67866_row5_col9,#T_67866_row10_col15,#T_67866_row12_col13,#T_67866_row16_col20,#T_67866_row18_col19{\n",
       "            background-color:  #85a8fc;\n",
       "            color:  #000000;\n",
       "        }#T_67866_row5_col11,#T_67866_row5_col12,#T_67866_row9_col20,#T_67866_row16_col15,#T_67866_row17_col9,#T_67866_row17_col11{\n",
       "            background-color:  #86a9fc;\n",
       "            color:  #000000;\n",
       "        }#T_67866_row5_col13,#T_67866_row7_col4,#T_67866_row8_col12,#T_67866_row8_col21,#T_67866_row11_col21,#T_67866_row14_col21,#T_67866_row17_col10,#T_67866_row17_col21,#T_67866_row21_col9{\n",
       "            background-color:  #82a6fb;\n",
       "            color:  #000000;\n",
       "        }#T_67866_row5_col14,#T_67866_row8_col10,#T_67866_row8_col15,#T_67866_row9_col16,#T_67866_row14_col9,#T_67866_row19_col16{\n",
       "            background-color:  #8fb1fe;\n",
       "            color:  #000000;\n",
       "        }#T_67866_row5_col20,#T_67866_row12_col20,#T_67866_row13_col19,#T_67866_row15_col10,#T_67866_row15_col19,#T_67866_row17_col3,#T_67866_row20_col11{\n",
       "            background-color:  #80a3fa;\n",
       "            color:  #000000;\n",
       "        }#T_67866_row6_col0,#T_67866_row12_col8,#T_67866_row12_col17,#T_67866_row14_col2{\n",
       "            background-color:  #a3c2fe;\n",
       "            color:  #000000;\n",
       "        }#T_67866_row6_col1,#T_67866_row16_col0,#T_67866_row17_col1{\n",
       "            background-color:  #a1c0ff;\n",
       "            color:  #000000;\n",
       "        }#T_67866_row6_col2,#T_67866_row10_col7{\n",
       "            background-color:  #a5c3fe;\n",
       "            color:  #000000;\n",
       "        }#T_67866_row6_col4,#T_67866_row13_col20,#T_67866_row19_col15{\n",
       "            background-color:  #98b9ff;\n",
       "            color:  #000000;\n",
       "        }#T_67866_row6_col5,#T_67866_row11_col5,#T_67866_row14_col5{\n",
       "            background-color:  #3d50c3;\n",
       "            color:  #f1f1f1;\n",
       "        }#T_67866_row6_col11,#T_67866_row9_col14,#T_67866_row9_col18,#T_67866_row11_col1,#T_67866_row16_col18{\n",
       "            background-color:  #9bbcff;\n",
       "            color:  #000000;\n",
       "        }#T_67866_row6_col12,#T_67866_row14_col3,#T_67866_row18_col3,#T_67866_row19_col21{\n",
       "            background-color:  #6c8ff1;\n",
       "            color:  #000000;\n",
       "        }#T_67866_row6_col13,#T_67866_row9_col11,#T_67866_row19_col3{\n",
       "            background-color:  #5a78e4;\n",
       "            color:  #000000;\n",
       "        }#T_67866_row6_col16,#T_67866_row12_col0,#T_67866_row15_col2,#T_67866_row16_col6{\n",
       "            background-color:  #b7cff9;\n",
       "            color:  #000000;\n",
       "        }#T_67866_row6_col18,#T_67866_row7_col16,#T_67866_row10_col3,#T_67866_row11_col20,#T_67866_row21_col13{\n",
       "            background-color:  #779af7;\n",
       "            color:  #000000;\n",
       "        }#T_67866_row6_col19,#T_67866_row14_col0,#T_67866_row14_col19,#T_67866_row15_col16,#T_67866_row18_col9{\n",
       "            background-color:  #6e90f2;\n",
       "            color:  #000000;\n",
       "        }#T_67866_row6_col21,#T_67866_row7_col9,#T_67866_row7_col10,#T_67866_row8_col4,#T_67866_row12_col21,#T_67866_row16_col11,#T_67866_row17_col15,#T_67866_row20_col14{\n",
       "            background-color:  #84a7fc;\n",
       "            color:  #000000;\n",
       "        }#T_67866_row7_col2,#T_67866_row8_col0,#T_67866_row8_col2{\n",
       "            background-color:  #b2ccfb;\n",
       "            color:  #000000;\n",
       "        }#T_67866_row7_col18,#T_67866_row10_col0,#T_67866_row11_col2{\n",
       "            background-color:  #b1cbfc;\n",
       "            color:  #000000;\n",
       "        }#T_67866_row8_col14,#T_67866_row10_col14,#T_67866_row13_col3,#T_67866_row17_col4{\n",
       "            background-color:  #93b5fe;\n",
       "            color:  #000000;\n",
       "        }#T_67866_row9_col5,#T_67866_row10_col5,#T_67866_row16_col5,#T_67866_row21_col5{\n",
       "            background-color:  #3f53c6;\n",
       "            color:  #f1f1f1;\n",
       "        }#T_67866_row9_col6,#T_67866_row10_col13{\n",
       "            background-color:  #97b8ff;\n",
       "            color:  #000000;\n",
       "        }#T_67866_row9_col17,#T_67866_row13_col7,#T_67866_row16_col14{\n",
       "            background-color:  #afcafc;\n",
       "            color:  #000000;\n",
       "        }#T_67866_row10_col9,#T_67866_row19_col1{\n",
       "            background-color:  #5470de;\n",
       "            color:  #000000;\n",
       "        }#T_67866_row10_col11,#T_67866_row11_col9{\n",
       "            background-color:  #5572df;\n",
       "            color:  #000000;\n",
       "        }#T_67866_row11_col0,#T_67866_row13_col10,#T_67866_row20_col15{\n",
       "            background-color:  #9ebeff;\n",
       "            color:  #000000;\n",
       "        }#T_67866_row11_col10,#T_67866_row12_col6{\n",
       "            background-color:  #5875e1;\n",
       "            color:  #000000;\n",
       "        }#T_67866_row11_col12,#T_67866_row15_col13,#T_67866_row18_col14{\n",
       "            background-color:  #3c4ec2;\n",
       "            color:  #f1f1f1;\n",
       "        }#T_67866_row12_col18{\n",
       "            background-color:  #d5dbe5;\n",
       "            color:  #000000;\n",
       "        }#T_67866_row13_col0,#T_67866_row13_col18,#T_67866_row15_col0{\n",
       "            background-color:  #dadce0;\n",
       "            color:  #000000;\n",
       "        }#T_67866_row13_col6{\n",
       "            background-color:  #4e68d8;\n",
       "            color:  #000000;\n",
       "        }#T_67866_row13_col14{\n",
       "            background-color:  #4961d2;\n",
       "            color:  #f1f1f1;\n",
       "        }#T_67866_row13_col15,#T_67866_row18_col1{\n",
       "            background-color:  #4b64d5;\n",
       "            color:  #f1f1f1;\n",
       "        }#T_67866_row14_col12,#T_67866_row17_col16,#T_67866_row20_col4,#T_67866_row21_col19{\n",
       "            background-color:  #6384eb;\n",
       "            color:  #000000;\n",
       "        }#T_67866_row15_col6{\n",
       "            background-color:  #445acc;\n",
       "            color:  #f1f1f1;\n",
       "        }#T_67866_row15_col12{\n",
       "            background-color:  #c0d4f5;\n",
       "            color:  #000000;\n",
       "        }#T_67866_row15_col18{\n",
       "            background-color:  #f2c9b4;\n",
       "            color:  #000000;\n",
       "        }#T_67866_row16_col4{\n",
       "            background-color:  #506bda;\n",
       "            color:  #000000;\n",
       "        }#T_67866_row16_col17{\n",
       "            background-color:  #9dbdff;\n",
       "            color:  #000000;\n",
       "        }#T_67866_row17_col14,#T_67866_row21_col3{\n",
       "            background-color:  #6788ee;\n",
       "            color:  #000000;\n",
       "        }#T_67866_row18_col2,#T_67866_row21_col0{\n",
       "            background-color:  #cfdaea;\n",
       "            color:  #000000;\n",
       "        }#T_67866_row18_col12{\n",
       "            background-color:  #bed2f6;\n",
       "            color:  #000000;\n",
       "        }#T_67866_row18_col13{\n",
       "            background-color:  #bfd3f6;\n",
       "            color:  #000000;\n",
       "        }#T_67866_row18_col15{\n",
       "            background-color:  #ebd3c6;\n",
       "            color:  #000000;\n",
       "        }#T_67866_row19_col2{\n",
       "            background-color:  #d4dbe6;\n",
       "            color:  #000000;\n",
       "        }#T_67866_row19_col20{\n",
       "            background-color:  #5977e3;\n",
       "            color:  #000000;\n",
       "        }#T_67866_row20_col2{\n",
       "            background-color:  #ccd9ed;\n",
       "            color:  #000000;\n",
       "        }#T_67866_row20_col18{\n",
       "            background-color:  #c7d7f0;\n",
       "            color:  #000000;\n",
       "        }#T_67866_row20_col19{\n",
       "            background-color:  #4f69d9;\n",
       "            color:  #000000;\n",
       "        }</style><table id=\"T_67866_\" ><thead>    <tr>        <th class=\"blank level0\" ></th>        <th class=\"col_heading level0 col0\" >price</th>        <th class=\"col_heading level0 col1\" >year</th>        <th class=\"col_heading level0 col2\" >odometer</th>        <th class=\"col_heading level0 col3\" >F1</th>        <th class=\"col_heading level0 col4\" >F2</th>        <th class=\"col_heading level0 col5\" >F3</th>        <th class=\"col_heading level0 col6\" >manufacturer_subaru</th>        <th class=\"col_heading level0 col7\" >F4_b</th>        <th class=\"col_heading level0 col8\" >F4_c</th>        <th class=\"col_heading level0 col9\" >paint_color_blue</th>        <th class=\"col_heading level0 col10\" >paint_color_red</th>        <th class=\"col_heading level0 col11\" >paint_color_silver</th>        <th class=\"col_heading level0 col12\" >paint_color_white</th>        <th class=\"col_heading level0 col13\" >type_pickup</th>        <th class=\"col_heading level0 col14\" >type_sedan</th>        <th class=\"col_heading level0 col15\" >type_truck</th>        <th class=\"col_heading level0 col16\" >transmission_manual</th>        <th class=\"col_heading level0 col17\" >cylinders_6 cylinders</th>        <th class=\"col_heading level0 col18\" >cylinders_8 cylinders</th>        <th class=\"col_heading level0 col19\" >condition_fair</th>        <th class=\"col_heading level0 col20\" >condition_good</th>        <th class=\"col_heading level0 col21\" >condition_like new</th>    </tr></thead><tbody>\n",
       "                <tr>\n",
       "                        <th id=\"T_67866_level0_row0\" class=\"row_heading level0 row0\" >price</th>\n",
       "                        <td id=\"T_67866_row0_col0\" class=\"data row0 col0\" >1.000000</td>\n",
       "                        <td id=\"T_67866_row0_col1\" class=\"data row0 col1\" >0.417142</td>\n",
       "                        <td id=\"T_67866_row0_col2\" class=\"data row0 col2\" >-0.534579</td>\n",
       "                        <td id=\"T_67866_row0_col3\" class=\"data row0 col3\" >0.229151</td>\n",
       "                        <td id=\"T_67866_row0_col4\" class=\"data row0 col4\" >0.361340</td>\n",
       "                        <td id=\"T_67866_row0_col5\" class=\"data row0 col5\" >0.108461</td>\n",
       "                        <td id=\"T_67866_row0_col6\" class=\"data row0 col6\" >-0.049789</td>\n",
       "                        <td id=\"T_67866_row0_col7\" class=\"data row0 col7\" >-0.009402</td>\n",
       "                        <td id=\"T_67866_row0_col8\" class=\"data row0 col8\" >0.011558</td>\n",
       "                        <td id=\"T_67866_row0_col9\" class=\"data row0 col9\" >-0.022307</td>\n",
       "                        <td id=\"T_67866_row0_col10\" class=\"data row0 col10\" >0.007200</td>\n",
       "                        <td id=\"T_67866_row0_col11\" class=\"data row0 col11\" >-0.078088</td>\n",
       "                        <td id=\"T_67866_row0_col12\" class=\"data row0 col12\" >0.038463</td>\n",
       "                        <td id=\"T_67866_row0_col13\" class=\"data row0 col13\" >0.220416</td>\n",
       "                        <td id=\"T_67866_row0_col14\" class=\"data row0 col14\" >-0.283242</td>\n",
       "                        <td id=\"T_67866_row0_col15\" class=\"data row0 col15\" >0.214951</td>\n",
       "                        <td id=\"T_67866_row0_col16\" class=\"data row0 col16\" >-0.066430</td>\n",
       "                        <td id=\"T_67866_row0_col17\" class=\"data row0 col17\" >0.098011</td>\n",
       "                        <td id=\"T_67866_row0_col18\" class=\"data row0 col18\" >0.107904</td>\n",
       "                        <td id=\"T_67866_row0_col19\" class=\"data row0 col19\" >-0.171231</td>\n",
       "                        <td id=\"T_67866_row0_col20\" class=\"data row0 col20\" >-0.092388</td>\n",
       "                        <td id=\"T_67866_row0_col21\" class=\"data row0 col21\" >0.158559</td>\n",
       "            </tr>\n",
       "            <tr>\n",
       "                        <th id=\"T_67866_level0_row1\" class=\"row_heading level0 row1\" >year</th>\n",
       "                        <td id=\"T_67866_row1_col0\" class=\"data row1 col0\" >0.417142</td>\n",
       "                        <td id=\"T_67866_row1_col1\" class=\"data row1 col1\" >1.000000</td>\n",
       "                        <td id=\"T_67866_row1_col2\" class=\"data row1 col2\" >-0.340593</td>\n",
       "                        <td id=\"T_67866_row1_col3\" class=\"data row1 col3\" >0.201439</td>\n",
       "                        <td id=\"T_67866_row1_col4\" class=\"data row1 col4\" >0.873843</td>\n",
       "                        <td id=\"T_67866_row1_col5\" class=\"data row1 col5\" >0.008075</td>\n",
       "                        <td id=\"T_67866_row1_col6\" class=\"data row1 col6\" >0.068793</td>\n",
       "                        <td id=\"T_67866_row1_col7\" class=\"data row1 col7\" >-0.009907</td>\n",
       "                        <td id=\"T_67866_row1_col8\" class=\"data row1 col8\" >-0.000476</td>\n",
       "                        <td id=\"T_67866_row1_col9\" class=\"data row1 col9\" >-0.048347</td>\n",
       "                        <td id=\"T_67866_row1_col10\" class=\"data row1 col10\" >-0.070705</td>\n",
       "                        <td id=\"T_67866_row1_col11\" class=\"data row1 col11\" >0.048275</td>\n",
       "                        <td id=\"T_67866_row1_col12\" class=\"data row1 col12\" >0.030951</td>\n",
       "                        <td id=\"T_67866_row1_col13\" class=\"data row1 col13\" >-0.049670</td>\n",
       "                        <td id=\"T_67866_row1_col14\" class=\"data row1 col14\" >0.028040</td>\n",
       "                        <td id=\"T_67866_row1_col15\" class=\"data row1 col15\" >-0.070166</td>\n",
       "                        <td id=\"T_67866_row1_col16\" class=\"data row1 col16\" >-0.232027</td>\n",
       "                        <td id=\"T_67866_row1_col17\" class=\"data row1 col17\" >0.068606</td>\n",
       "                        <td id=\"T_67866_row1_col18\" class=\"data row1 col18\" >-0.266054</td>\n",
       "                        <td id=\"T_67866_row1_col19\" class=\"data row1 col19\" >-0.226319</td>\n",
       "                        <td id=\"T_67866_row1_col20\" class=\"data row1 col20\" >-0.152767</td>\n",
       "                        <td id=\"T_67866_row1_col21\" class=\"data row1 col21\" >0.143012</td>\n",
       "            </tr>\n",
       "            <tr>\n",
       "                        <th id=\"T_67866_level0_row2\" class=\"row_heading level0 row2\" >odometer</th>\n",
       "                        <td id=\"T_67866_row2_col0\" class=\"data row2 col0\" >-0.534579</td>\n",
       "                        <td id=\"T_67866_row2_col1\" class=\"data row2 col1\" >-0.340593</td>\n",
       "                        <td id=\"T_67866_row2_col2\" class=\"data row2 col2\" >1.000000</td>\n",
       "                        <td id=\"T_67866_row2_col3\" class=\"data row2 col3\" >-0.220372</td>\n",
       "                        <td id=\"T_67866_row2_col4\" class=\"data row2 col4\" >-0.296012</td>\n",
       "                        <td id=\"T_67866_row2_col5\" class=\"data row2 col5\" >-0.012179</td>\n",
       "                        <td id=\"T_67866_row2_col6\" class=\"data row2 col6\" >-0.044500</td>\n",
       "                        <td id=\"T_67866_row2_col7\" class=\"data row2 col7\" >0.013684</td>\n",
       "                        <td id=\"T_67866_row2_col8\" class=\"data row2 col8\" >0.013984</td>\n",
       "                        <td id=\"T_67866_row2_col9\" class=\"data row2 col9\" >-0.030769</td>\n",
       "                        <td id=\"T_67866_row2_col10\" class=\"data row2 col10\" >-0.038961</td>\n",
       "                        <td id=\"T_67866_row2_col11\" class=\"data row2 col11\" >0.007836</td>\n",
       "                        <td id=\"T_67866_row2_col12\" class=\"data row2 col12\" >0.043250</td>\n",
       "                        <td id=\"T_67866_row2_col13\" class=\"data row2 col13\" >-0.041118</td>\n",
       "                        <td id=\"T_67866_row2_col14\" class=\"data row2 col14\" >-0.051456</td>\n",
       "                        <td id=\"T_67866_row2_col15\" class=\"data row2 col15\" >0.039117</td>\n",
       "                        <td id=\"T_67866_row2_col16\" class=\"data row2 col16\" >-0.002245</td>\n",
       "                        <td id=\"T_67866_row2_col17\" class=\"data row2 col17\" >-0.011132</td>\n",
       "                        <td id=\"T_67866_row2_col18\" class=\"data row2 col18\" >0.155812</td>\n",
       "                        <td id=\"T_67866_row2_col19\" class=\"data row2 col19\" >0.183650</td>\n",
       "                        <td id=\"T_67866_row2_col20\" class=\"data row2 col20\" >0.139687</td>\n",
       "                        <td id=\"T_67866_row2_col21\" class=\"data row2 col21\" >-0.166262</td>\n",
       "            </tr>\n",
       "            <tr>\n",
       "                        <th id=\"T_67866_level0_row3\" class=\"row_heading level0 row3\" >F1</th>\n",
       "                        <td id=\"T_67866_row3_col0\" class=\"data row3 col0\" >0.229151</td>\n",
       "                        <td id=\"T_67866_row3_col1\" class=\"data row3 col1\" >0.201439</td>\n",
       "                        <td id=\"T_67866_row3_col2\" class=\"data row3 col2\" >-0.220372</td>\n",
       "                        <td id=\"T_67866_row3_col3\" class=\"data row3 col3\" >1.000000</td>\n",
       "                        <td id=\"T_67866_row3_col4\" class=\"data row3 col4\" >0.172647</td>\n",
       "                        <td id=\"T_67866_row3_col5\" class=\"data row3 col5\" >0.002321</td>\n",
       "                        <td id=\"T_67866_row3_col6\" class=\"data row3 col6\" >-0.037717</td>\n",
       "                        <td id=\"T_67866_row3_col7\" class=\"data row3 col7\" >-0.002066</td>\n",
       "                        <td id=\"T_67866_row3_col8\" class=\"data row3 col8\" >-0.005452</td>\n",
       "                        <td id=\"T_67866_row3_col9\" class=\"data row3 col9\" >0.021905</td>\n",
       "                        <td id=\"T_67866_row3_col10\" class=\"data row3 col10\" >0.009523</td>\n",
       "                        <td id=\"T_67866_row3_col11\" class=\"data row3 col11\" >-0.041533</td>\n",
       "                        <td id=\"T_67866_row3_col12\" class=\"data row3 col12\" >0.013662</td>\n",
       "                        <td id=\"T_67866_row3_col13\" class=\"data row3 col13\" >0.107554</td>\n",
       "                        <td id=\"T_67866_row3_col14\" class=\"data row3 col14\" >-0.025453</td>\n",
       "                        <td id=\"T_67866_row3_col15\" class=\"data row3 col15\" >-0.052456</td>\n",
       "                        <td id=\"T_67866_row3_col16\" class=\"data row3 col16\" >-0.039721</td>\n",
       "                        <td id=\"T_67866_row3_col17\" class=\"data row3 col17\" >0.040377</td>\n",
       "                        <td id=\"T_67866_row3_col18\" class=\"data row3 col18\" >-0.026696</td>\n",
       "                        <td id=\"T_67866_row3_col19\" class=\"data row3 col19\" >-0.093445</td>\n",
       "                        <td id=\"T_67866_row3_col20\" class=\"data row3 col20\" >-0.054485</td>\n",
       "                        <td id=\"T_67866_row3_col21\" class=\"data row3 col21\" >-0.047251</td>\n",
       "            </tr>\n",
       "            <tr>\n",
       "                        <th id=\"T_67866_level0_row4\" class=\"row_heading level0 row4\" >F2</th>\n",
       "                        <td id=\"T_67866_row4_col0\" class=\"data row4 col0\" >0.361340</td>\n",
       "                        <td id=\"T_67866_row4_col1\" class=\"data row4 col1\" >0.873843</td>\n",
       "                        <td id=\"T_67866_row4_col2\" class=\"data row4 col2\" >-0.296012</td>\n",
       "                        <td id=\"T_67866_row4_col3\" class=\"data row4 col3\" >0.172647</td>\n",
       "                        <td id=\"T_67866_row4_col4\" class=\"data row4 col4\" >1.000000</td>\n",
       "                        <td id=\"T_67866_row4_col5\" class=\"data row4 col5\" >0.017404</td>\n",
       "                        <td id=\"T_67866_row4_col6\" class=\"data row4 col6\" >0.073337</td>\n",
       "                        <td id=\"T_67866_row4_col7\" class=\"data row4 col7\" >-0.009291</td>\n",
       "                        <td id=\"T_67866_row4_col8\" class=\"data row4 col8\" >-0.005487</td>\n",
       "                        <td id=\"T_67866_row4_col9\" class=\"data row4 col9\" >-0.044502</td>\n",
       "                        <td id=\"T_67866_row4_col10\" class=\"data row4 col10\" >-0.060837</td>\n",
       "                        <td id=\"T_67866_row4_col11\" class=\"data row4 col11\" >0.038848</td>\n",
       "                        <td id=\"T_67866_row4_col12\" class=\"data row4 col12\" >0.032860</td>\n",
       "                        <td id=\"T_67866_row4_col13\" class=\"data row4 col13\" >-0.053353</td>\n",
       "                        <td id=\"T_67866_row4_col14\" class=\"data row4 col14\" >0.027355</td>\n",
       "                        <td id=\"T_67866_row4_col15\" class=\"data row4 col15\" >-0.063431</td>\n",
       "                        <td id=\"T_67866_row4_col16\" class=\"data row4 col16\" >-0.200085</td>\n",
       "                        <td id=\"T_67866_row4_col17\" class=\"data row4 col17\" >0.052350</td>\n",
       "                        <td id=\"T_67866_row4_col18\" class=\"data row4 col18\" >-0.237473</td>\n",
       "                        <td id=\"T_67866_row4_col19\" class=\"data row4 col19\" >-0.193025</td>\n",
       "                        <td id=\"T_67866_row4_col20\" class=\"data row4 col20\" >-0.127517</td>\n",
       "                        <td id=\"T_67866_row4_col21\" class=\"data row4 col21\" >0.123202</td>\n",
       "            </tr>\n",
       "            <tr>\n",
       "                        <th id=\"T_67866_level0_row5\" class=\"row_heading level0 row5\" >F3</th>\n",
       "                        <td id=\"T_67866_row5_col0\" class=\"data row5 col0\" >0.108461</td>\n",
       "                        <td id=\"T_67866_row5_col1\" class=\"data row5 col1\" >0.008075</td>\n",
       "                        <td id=\"T_67866_row5_col2\" class=\"data row5 col2\" >-0.012179</td>\n",
       "                        <td id=\"T_67866_row5_col3\" class=\"data row5 col3\" >0.002321</td>\n",
       "                        <td id=\"T_67866_row5_col4\" class=\"data row5 col4\" >0.017404</td>\n",
       "                        <td id=\"T_67866_row5_col5\" class=\"data row5 col5\" >1.000000</td>\n",
       "                        <td id=\"T_67866_row5_col6\" class=\"data row5 col6\" >-0.002947</td>\n",
       "                        <td id=\"T_67866_row5_col7\" class=\"data row5 col7\" >0.007723</td>\n",
       "                        <td id=\"T_67866_row5_col8\" class=\"data row5 col8\" >0.009816</td>\n",
       "                        <td id=\"T_67866_row5_col9\" class=\"data row5 col9\" >0.007167</td>\n",
       "                        <td id=\"T_67866_row5_col10\" class=\"data row5 col10\" >0.006179</td>\n",
       "                        <td id=\"T_67866_row5_col11\" class=\"data row5 col11\" >-0.001015</td>\n",
       "                        <td id=\"T_67866_row5_col12\" class=\"data row5 col12\" >-0.009456</td>\n",
       "                        <td id=\"T_67866_row5_col13\" class=\"data row5 col13\" >0.001294</td>\n",
       "                        <td id=\"T_67866_row5_col14\" class=\"data row5 col14\" >-0.001317</td>\n",
       "                        <td id=\"T_67866_row5_col15\" class=\"data row5 col15\" >0.010285</td>\n",
       "                        <td id=\"T_67866_row5_col16\" class=\"data row5 col16\" >0.003870</td>\n",
       "                        <td id=\"T_67866_row5_col17\" class=\"data row5 col17\" >0.002226</td>\n",
       "                        <td id=\"T_67866_row5_col18\" class=\"data row5 col18\" >-0.000305</td>\n",
       "                        <td id=\"T_67866_row5_col19\" class=\"data row5 col19\" >-0.000157</td>\n",
       "                        <td id=\"T_67866_row5_col20\" class=\"data row5 col20\" >0.000574</td>\n",
       "                        <td id=\"T_67866_row5_col21\" class=\"data row5 col21\" >0.007256</td>\n",
       "            </tr>\n",
       "            <tr>\n",
       "                        <th id=\"T_67866_level0_row6\" class=\"row_heading level0 row6\" >manufacturer_subaru</th>\n",
       "                        <td id=\"T_67866_row6_col0\" class=\"data row6 col0\" >-0.049789</td>\n",
       "                        <td id=\"T_67866_row6_col1\" class=\"data row6 col1\" >0.068793</td>\n",
       "                        <td id=\"T_67866_row6_col2\" class=\"data row6 col2\" >-0.044500</td>\n",
       "                        <td id=\"T_67866_row6_col3\" class=\"data row6 col3\" >-0.037717</td>\n",
       "                        <td id=\"T_67866_row6_col4\" class=\"data row6 col4\" >0.073337</td>\n",
       "                        <td id=\"T_67866_row6_col5\" class=\"data row6 col5\" >-0.002947</td>\n",
       "                        <td id=\"T_67866_row6_col6\" class=\"data row6 col6\" >1.000000</td>\n",
       "                        <td id=\"T_67866_row6_col7\" class=\"data row6 col7\" >-0.013577</td>\n",
       "                        <td id=\"T_67866_row6_col8\" class=\"data row6 col8\" >0.014920</td>\n",
       "                        <td id=\"T_67866_row6_col9\" class=\"data row6 col9\" >0.114747</td>\n",
       "                        <td id=\"T_67866_row6_col10\" class=\"data row6 col10\" >-0.004704</td>\n",
       "                        <td id=\"T_67866_row6_col11\" class=\"data row6 col11\" >0.076134</td>\n",
       "                        <td id=\"T_67866_row6_col12\" class=\"data row6 col12\" >-0.110537</td>\n",
       "                        <td id=\"T_67866_row6_col13\" class=\"data row6 col13\" >-0.148172</td>\n",
       "                        <td id=\"T_67866_row6_col14\" class=\"data row6 col14\" >0.170403</td>\n",
       "                        <td id=\"T_67866_row6_col15\" class=\"data row6 col15\" >-0.186279</td>\n",
       "                        <td id=\"T_67866_row6_col16\" class=\"data row6 col16\" >0.229954</td>\n",
       "                        <td id=\"T_67866_row6_col17\" class=\"data row6 col17\" >-0.210376</td>\n",
       "                        <td id=\"T_67866_row6_col18\" class=\"data row6 col18\" >-0.228676</td>\n",
       "                        <td id=\"T_67866_row6_col19\" class=\"data row6 col19\" >-0.026813</td>\n",
       "                        <td id=\"T_67866_row6_col20\" class=\"data row6 col20\" >-0.049338</td>\n",
       "                        <td id=\"T_67866_row6_col21\" class=\"data row6 col21\" >0.015962</td>\n",
       "            </tr>\n",
       "            <tr>\n",
       "                        <th id=\"T_67866_level0_row7\" class=\"row_heading level0 row7\" >F4_b</th>\n",
       "                        <td id=\"T_67866_row7_col0\" class=\"data row7 col0\" >-0.009402</td>\n",
       "                        <td id=\"T_67866_row7_col1\" class=\"data row7 col1\" >-0.009907</td>\n",
       "                        <td id=\"T_67866_row7_col2\" class=\"data row7 col2\" >0.013684</td>\n",
       "                        <td id=\"T_67866_row7_col3\" class=\"data row7 col3\" >-0.002066</td>\n",
       "                        <td id=\"T_67866_row7_col4\" class=\"data row7 col4\" >-0.009291</td>\n",
       "                        <td id=\"T_67866_row7_col5\" class=\"data row7 col5\" >0.007723</td>\n",
       "                        <td id=\"T_67866_row7_col6\" class=\"data row7 col6\" >-0.013577</td>\n",
       "                        <td id=\"T_67866_row7_col7\" class=\"data row7 col7\" >1.000000</td>\n",
       "                        <td id=\"T_67866_row7_col8\" class=\"data row7 col8\" >-0.497987</td>\n",
       "                        <td id=\"T_67866_row7_col9\" class=\"data row7 col9\" >0.004753</td>\n",
       "                        <td id=\"T_67866_row7_col10\" class=\"data row7 col10\" >-0.019760</td>\n",
       "                        <td id=\"T_67866_row7_col11\" class=\"data row7 col11\" >0.001370</td>\n",
       "                        <td id=\"T_67866_row7_col12\" class=\"data row7 col12\" >0.003909</td>\n",
       "                        <td id=\"T_67866_row7_col13\" class=\"data row7 col13\" >0.023639</td>\n",
       "                        <td id=\"T_67866_row7_col14\" class=\"data row7 col14\" >-0.003965</td>\n",
       "                        <td id=\"T_67866_row7_col15\" class=\"data row7 col15\" >-0.012552</td>\n",
       "                        <td id=\"T_67866_row7_col16\" class=\"data row7 col16\" >0.000934</td>\n",
       "                        <td id=\"T_67866_row7_col17\" class=\"data row7 col17\" >0.008683</td>\n",
       "                        <td id=\"T_67866_row7_col18\" class=\"data row7 col18\" >0.019100</td>\n",
       "                        <td id=\"T_67866_row7_col19\" class=\"data row7 col19\" >-0.010557</td>\n",
       "                        <td id=\"T_67866_row7_col20\" class=\"data row7 col20\" >0.005975</td>\n",
       "                        <td id=\"T_67866_row7_col21\" class=\"data row7 col21\" >-0.008162</td>\n",
       "            </tr>\n",
       "            <tr>\n",
       "                        <th id=\"T_67866_level0_row8\" class=\"row_heading level0 row8\" >F4_c</th>\n",
       "                        <td id=\"T_67866_row8_col0\" class=\"data row8 col0\" >0.011558</td>\n",
       "                        <td id=\"T_67866_row8_col1\" class=\"data row8 col1\" >-0.000476</td>\n",
       "                        <td id=\"T_67866_row8_col2\" class=\"data row8 col2\" >0.013984</td>\n",
       "                        <td id=\"T_67866_row8_col3\" class=\"data row8 col3\" >-0.005452</td>\n",
       "                        <td id=\"T_67866_row8_col4\" class=\"data row8 col4\" >-0.005487</td>\n",
       "                        <td id=\"T_67866_row8_col5\" class=\"data row8 col5\" >0.009816</td>\n",
       "                        <td id=\"T_67866_row8_col6\" class=\"data row8 col6\" >0.014920</td>\n",
       "                        <td id=\"T_67866_row8_col7\" class=\"data row8 col7\" >-0.497987</td>\n",
       "                        <td id=\"T_67866_row8_col8\" class=\"data row8 col8\" >1.000000</td>\n",
       "                        <td id=\"T_67866_row8_col9\" class=\"data row8 col9\" >-0.006383</td>\n",
       "                        <td id=\"T_67866_row8_col10\" class=\"data row8 col10\" >0.018635</td>\n",
       "                        <td id=\"T_67866_row8_col11\" class=\"data row8 col11\" >0.006582</td>\n",
       "                        <td id=\"T_67866_row8_col12\" class=\"data row8 col12\" >-0.024454</td>\n",
       "                        <td id=\"T_67866_row8_col13\" class=\"data row8 col13\" >-0.013213</td>\n",
       "                        <td id=\"T_67866_row8_col14\" class=\"data row8 col14\" >0.012975</td>\n",
       "                        <td id=\"T_67866_row8_col15\" class=\"data row8 col15\" >-0.001999</td>\n",
       "                        <td id=\"T_67866_row8_col16\" class=\"data row8 col16\" >0.005516</td>\n",
       "                        <td id=\"T_67866_row8_col17\" class=\"data row8 col17\" >-0.005628</td>\n",
       "                        <td id=\"T_67866_row8_col18\" class=\"data row8 col18\" >-0.016126</td>\n",
       "                        <td id=\"T_67866_row8_col19\" class=\"data row8 col19\" >-0.000642</td>\n",
       "                        <td id=\"T_67866_row8_col20\" class=\"data row8 col20\" >-0.007555</td>\n",
       "                        <td id=\"T_67866_row8_col21\" class=\"data row8 col21\" >0.009201</td>\n",
       "            </tr>\n",
       "            <tr>\n",
       "                        <th id=\"T_67866_level0_row9\" class=\"row_heading level0 row9\" >paint_color_blue</th>\n",
       "                        <td id=\"T_67866_row9_col0\" class=\"data row9 col0\" >-0.022307</td>\n",
       "                        <td id=\"T_67866_row9_col1\" class=\"data row9 col1\" >-0.048347</td>\n",
       "                        <td id=\"T_67866_row9_col2\" class=\"data row9 col2\" >-0.030769</td>\n",
       "                        <td id=\"T_67866_row9_col3\" class=\"data row9 col3\" >0.021905</td>\n",
       "                        <td id=\"T_67866_row9_col4\" class=\"data row9 col4\" >-0.044502</td>\n",
       "                        <td id=\"T_67866_row9_col5\" class=\"data row9 col5\" >0.007167</td>\n",
       "                        <td id=\"T_67866_row9_col6\" class=\"data row9 col6\" >0.114747</td>\n",
       "                        <td id=\"T_67866_row9_col7\" class=\"data row9 col7\" >0.004753</td>\n",
       "                        <td id=\"T_67866_row9_col8\" class=\"data row9 col8\" >-0.006383</td>\n",
       "                        <td id=\"T_67866_row9_col9\" class=\"data row9 col9\" >1.000000</td>\n",
       "                        <td id=\"T_67866_row9_col10\" class=\"data row9 col10\" >-0.176413</td>\n",
       "                        <td id=\"T_67866_row9_col11\" class=\"data row9 col11\" >-0.170919</td>\n",
       "                        <td id=\"T_67866_row9_col12\" class=\"data row9 col12\" >-0.284061</td>\n",
       "                        <td id=\"T_67866_row9_col13\" class=\"data row9 col13\" >0.026827</td>\n",
       "                        <td id=\"T_67866_row9_col14\" class=\"data row9 col14\" >0.046245</td>\n",
       "                        <td id=\"T_67866_row9_col15\" class=\"data row9 col15\" >-0.067930</td>\n",
       "                        <td id=\"T_67866_row9_col16\" class=\"data row9 col16\" >0.084174</td>\n",
       "                        <td id=\"T_67866_row9_col17\" class=\"data row9 col17\" >0.015655</td>\n",
       "                        <td id=\"T_67866_row9_col18\" class=\"data row9 col18\" >-0.074719</td>\n",
       "                        <td id=\"T_67866_row9_col19\" class=\"data row9 col19\" >0.028063</td>\n",
       "                        <td id=\"T_67866_row9_col20\" class=\"data row9 col20\" >0.022886</td>\n",
       "                        <td id=\"T_67866_row9_col21\" class=\"data row9 col21\" >-0.003161</td>\n",
       "            </tr>\n",
       "            <tr>\n",
       "                        <th id=\"T_67866_level0_row10\" class=\"row_heading level0 row10\" >paint_color_red</th>\n",
       "                        <td id=\"T_67866_row10_col0\" class=\"data row10 col0\" >0.007200</td>\n",
       "                        <td id=\"T_67866_row10_col1\" class=\"data row10 col1\" >-0.070705</td>\n",
       "                        <td id=\"T_67866_row10_col2\" class=\"data row10 col2\" >-0.038961</td>\n",
       "                        <td id=\"T_67866_row10_col3\" class=\"data row10 col3\" >0.009523</td>\n",
       "                        <td id=\"T_67866_row10_col4\" class=\"data row10 col4\" >-0.060837</td>\n",
       "                        <td id=\"T_67866_row10_col5\" class=\"data row10 col5\" >0.006179</td>\n",
       "                        <td id=\"T_67866_row10_col6\" class=\"data row10 col6\" >-0.004704</td>\n",
       "                        <td id=\"T_67866_row10_col7\" class=\"data row10 col7\" >-0.019760</td>\n",
       "                        <td id=\"T_67866_row10_col8\" class=\"data row10 col8\" >0.018635</td>\n",
       "                        <td id=\"T_67866_row10_col9\" class=\"data row10 col9\" >-0.176413</td>\n",
       "                        <td id=\"T_67866_row10_col10\" class=\"data row10 col10\" >1.000000</td>\n",
       "                        <td id=\"T_67866_row10_col11\" class=\"data row10 col11\" >-0.190436</td>\n",
       "                        <td id=\"T_67866_row10_col12\" class=\"data row10 col12\" >-0.316497</td>\n",
       "                        <td id=\"T_67866_row10_col13\" class=\"data row10 col13\" >0.077575</td>\n",
       "                        <td id=\"T_67866_row10_col14\" class=\"data row10 col14\" >0.017119</td>\n",
       "                        <td id=\"T_67866_row10_col15\" class=\"data row10 col15\" >-0.038547</td>\n",
       "                        <td id=\"T_67866_row10_col16\" class=\"data row10 col16\" >0.009409</td>\n",
       "                        <td id=\"T_67866_row10_col17\" class=\"data row10 col17\" >-0.023626</td>\n",
       "                        <td id=\"T_67866_row10_col18\" class=\"data row10 col18\" >0.008023</td>\n",
       "                        <td id=\"T_67866_row10_col19\" class=\"data row10 col19\" >0.016860</td>\n",
       "                        <td id=\"T_67866_row10_col20\" class=\"data row10 col20\" >0.032314</td>\n",
       "                        <td id=\"T_67866_row10_col21\" class=\"data row10 col21\" >-0.003563</td>\n",
       "            </tr>\n",
       "            <tr>\n",
       "                        <th id=\"T_67866_level0_row11\" class=\"row_heading level0 row11\" >paint_color_silver</th>\n",
       "                        <td id=\"T_67866_row11_col0\" class=\"data row11 col0\" >-0.078088</td>\n",
       "                        <td id=\"T_67866_row11_col1\" class=\"data row11 col1\" >0.048275</td>\n",
       "                        <td id=\"T_67866_row11_col2\" class=\"data row11 col2\" >0.007836</td>\n",
       "                        <td id=\"T_67866_row11_col3\" class=\"data row11 col3\" >-0.041533</td>\n",
       "                        <td id=\"T_67866_row11_col4\" class=\"data row11 col4\" >0.038848</td>\n",
       "                        <td id=\"T_67866_row11_col5\" class=\"data row11 col5\" >-0.001015</td>\n",
       "                        <td id=\"T_67866_row11_col6\" class=\"data row11 col6\" >0.076134</td>\n",
       "                        <td id=\"T_67866_row11_col7\" class=\"data row11 col7\" >0.001370</td>\n",
       "                        <td id=\"T_67866_row11_col8\" class=\"data row11 col8\" >0.006582</td>\n",
       "                        <td id=\"T_67866_row11_col9\" class=\"data row11 col9\" >-0.170919</td>\n",
       "                        <td id=\"T_67866_row11_col10\" class=\"data row11 col10\" >-0.190436</td>\n",
       "                        <td id=\"T_67866_row11_col11\" class=\"data row11 col11\" >1.000000</td>\n",
       "                        <td id=\"T_67866_row11_col12\" class=\"data row11 col12\" >-0.306642</td>\n",
       "                        <td id=\"T_67866_row11_col13\" class=\"data row11 col13\" >-0.091662</td>\n",
       "                        <td id=\"T_67866_row11_col14\" class=\"data row11 col14\" >0.116157</td>\n",
       "                        <td id=\"T_67866_row11_col15\" class=\"data row11 col15\" >-0.112729</td>\n",
       "                        <td id=\"T_67866_row11_col16\" class=\"data row11 col16\" >-0.012861</td>\n",
       "                        <td id=\"T_67866_row11_col17\" class=\"data row11 col17\" >-0.003399</td>\n",
       "                        <td id=\"T_67866_row11_col18\" class=\"data row11 col18\" >-0.132724</td>\n",
       "                        <td id=\"T_67866_row11_col19\" class=\"data row11 col19\" >-0.036225</td>\n",
       "                        <td id=\"T_67866_row11_col20\" class=\"data row11 col20\" >-0.028039</td>\n",
       "                        <td id=\"T_67866_row11_col21\" class=\"data row11 col21\" >0.010432</td>\n",
       "            </tr>\n",
       "            <tr>\n",
       "                        <th id=\"T_67866_level0_row12\" class=\"row_heading level0 row12\" >paint_color_white</th>\n",
       "                        <td id=\"T_67866_row12_col0\" class=\"data row12 col0\" >0.038463</td>\n",
       "                        <td id=\"T_67866_row12_col1\" class=\"data row12 col1\" >0.030951</td>\n",
       "                        <td id=\"T_67866_row12_col2\" class=\"data row12 col2\" >0.043250</td>\n",
       "                        <td id=\"T_67866_row12_col3\" class=\"data row12 col3\" >0.013662</td>\n",
       "                        <td id=\"T_67866_row12_col4\" class=\"data row12 col4\" >0.032860</td>\n",
       "                        <td id=\"T_67866_row12_col5\" class=\"data row12 col5\" >-0.009456</td>\n",
       "                        <td id=\"T_67866_row12_col6\" class=\"data row12 col6\" >-0.110537</td>\n",
       "                        <td id=\"T_67866_row12_col7\" class=\"data row12 col7\" >0.003909</td>\n",
       "                        <td id=\"T_67866_row12_col8\" class=\"data row12 col8\" >-0.024454</td>\n",
       "                        <td id=\"T_67866_row12_col9\" class=\"data row12 col9\" >-0.284061</td>\n",
       "                        <td id=\"T_67866_row12_col10\" class=\"data row12 col10\" >-0.316497</td>\n",
       "                        <td id=\"T_67866_row12_col11\" class=\"data row12 col11\" >-0.306642</td>\n",
       "                        <td id=\"T_67866_row12_col12\" class=\"data row12 col12\" >1.000000</td>\n",
       "                        <td id=\"T_67866_row12_col13\" class=\"data row12 col13\" >0.012834</td>\n",
       "                        <td id=\"T_67866_row12_col14\" class=\"data row12 col14\" >-0.143763</td>\n",
       "                        <td id=\"T_67866_row12_col15\" class=\"data row12 col15\" >0.209376</td>\n",
       "                        <td id=\"T_67866_row12_col16\" class=\"data row12 col16\" >-0.053575</td>\n",
       "                        <td id=\"T_67866_row12_col17\" class=\"data row12 col17\" >-0.041794</td>\n",
       "                        <td id=\"T_67866_row12_col18\" class=\"data row12 col18\" >0.197835</td>\n",
       "                        <td id=\"T_67866_row12_col19\" class=\"data row12 col19\" >-0.006341</td>\n",
       "                        <td id=\"T_67866_row12_col20\" class=\"data row12 col20\" >0.002639</td>\n",
       "                        <td id=\"T_67866_row12_col21\" class=\"data row12 col21\" >0.016659</td>\n",
       "            </tr>\n",
       "            <tr>\n",
       "                        <th id=\"T_67866_level0_row13\" class=\"row_heading level0 row13\" >type_pickup</th>\n",
       "                        <td id=\"T_67866_row13_col0\" class=\"data row13 col0\" >0.220416</td>\n",
       "                        <td id=\"T_67866_row13_col1\" class=\"data row13 col1\" >-0.049670</td>\n",
       "                        <td id=\"T_67866_row13_col2\" class=\"data row13 col2\" >-0.041118</td>\n",
       "                        <td id=\"T_67866_row13_col3\" class=\"data row13 col3\" >0.107554</td>\n",
       "                        <td id=\"T_67866_row13_col4\" class=\"data row13 col4\" >-0.053353</td>\n",
       "                        <td id=\"T_67866_row13_col5\" class=\"data row13 col5\" >0.001294</td>\n",
       "                        <td id=\"T_67866_row13_col6\" class=\"data row13 col6\" >-0.148172</td>\n",
       "                        <td id=\"T_67866_row13_col7\" class=\"data row13 col7\" >0.023639</td>\n",
       "                        <td id=\"T_67866_row13_col8\" class=\"data row13 col8\" >-0.013213</td>\n",
       "                        <td id=\"T_67866_row13_col9\" class=\"data row13 col9\" >0.026827</td>\n",
       "                        <td id=\"T_67866_row13_col10\" class=\"data row13 col10\" >0.077575</td>\n",
       "                        <td id=\"T_67866_row13_col11\" class=\"data row13 col11\" >-0.091662</td>\n",
       "                        <td id=\"T_67866_row13_col12\" class=\"data row13 col12\" >0.012834</td>\n",
       "                        <td id=\"T_67866_row13_col13\" class=\"data row13 col13\" >1.000000</td>\n",
       "                        <td id=\"T_67866_row13_col14\" class=\"data row13 col14\" >-0.279039</td>\n",
       "                        <td id=\"T_67866_row13_col15\" class=\"data row13 col15\" >-0.269160</td>\n",
       "                        <td id=\"T_67866_row13_col16\" class=\"data row13 col16\" >-0.002329</td>\n",
       "                        <td id=\"T_67866_row13_col17\" class=\"data row13 col17\" >0.055283</td>\n",
       "                        <td id=\"T_67866_row13_col18\" class=\"data row13 col18\" >0.228914</td>\n",
       "                        <td id=\"T_67866_row13_col19\" class=\"data row13 col19\" >0.034032</td>\n",
       "                        <td id=\"T_67866_row13_col20\" class=\"data row13 col20\" >0.087753</td>\n",
       "                        <td id=\"T_67866_row13_col21\" class=\"data row13 col21\" >-0.038788</td>\n",
       "            </tr>\n",
       "            <tr>\n",
       "                        <th id=\"T_67866_level0_row14\" class=\"row_heading level0 row14\" >type_sedan</th>\n",
       "                        <td id=\"T_67866_row14_col0\" class=\"data row14 col0\" >-0.283242</td>\n",
       "                        <td id=\"T_67866_row14_col1\" class=\"data row14 col1\" >0.028040</td>\n",
       "                        <td id=\"T_67866_row14_col2\" class=\"data row14 col2\" >-0.051456</td>\n",
       "                        <td id=\"T_67866_row14_col3\" class=\"data row14 col3\" >-0.025453</td>\n",
       "                        <td id=\"T_67866_row14_col4\" class=\"data row14 col4\" >0.027355</td>\n",
       "                        <td id=\"T_67866_row14_col5\" class=\"data row14 col5\" >-0.001317</td>\n",
       "                        <td id=\"T_67866_row14_col6\" class=\"data row14 col6\" >0.170403</td>\n",
       "                        <td id=\"T_67866_row14_col7\" class=\"data row14 col7\" >-0.003965</td>\n",
       "                        <td id=\"T_67866_row14_col8\" class=\"data row14 col8\" >0.012975</td>\n",
       "                        <td id=\"T_67866_row14_col9\" class=\"data row14 col9\" >0.046245</td>\n",
       "                        <td id=\"T_67866_row14_col10\" class=\"data row14 col10\" >0.017119</td>\n",
       "                        <td id=\"T_67866_row14_col11\" class=\"data row14 col11\" >0.116157</td>\n",
       "                        <td id=\"T_67866_row14_col12\" class=\"data row14 col12\" >-0.143763</td>\n",
       "                        <td id=\"T_67866_row14_col13\" class=\"data row14 col13\" >-0.279039</td>\n",
       "                        <td id=\"T_67866_row14_col14\" class=\"data row14 col14\" >1.000000</td>\n",
       "                        <td id=\"T_67866_row14_col15\" class=\"data row14 col15\" >-0.344264</td>\n",
       "                        <td id=\"T_67866_row14_col16\" class=\"data row14 col16\" >0.124103</td>\n",
       "                        <td id=\"T_67866_row14_col17\" class=\"data row14 col17\" >-0.153308</td>\n",
       "                        <td id=\"T_67866_row14_col18\" class=\"data row14 col18\" >-0.338454</td>\n",
       "                        <td id=\"T_67866_row14_col19\" class=\"data row14 col19\" >-0.028038</td>\n",
       "                        <td id=\"T_67866_row14_col20\" class=\"data row14 col20\" >-0.039714</td>\n",
       "                        <td id=\"T_67866_row14_col21\" class=\"data row14 col21\" >0.012068</td>\n",
       "            </tr>\n",
       "            <tr>\n",
       "                        <th id=\"T_67866_level0_row15\" class=\"row_heading level0 row15\" >type_truck</th>\n",
       "                        <td id=\"T_67866_row15_col0\" class=\"data row15 col0\" >0.214951</td>\n",
       "                        <td id=\"T_67866_row15_col1\" class=\"data row15 col1\" >-0.070166</td>\n",
       "                        <td id=\"T_67866_row15_col2\" class=\"data row15 col2\" >0.039117</td>\n",
       "                        <td id=\"T_67866_row15_col3\" class=\"data row15 col3\" >-0.052456</td>\n",
       "                        <td id=\"T_67866_row15_col4\" class=\"data row15 col4\" >-0.063431</td>\n",
       "                        <td id=\"T_67866_row15_col5\" class=\"data row15 col5\" >0.010285</td>\n",
       "                        <td id=\"T_67866_row15_col6\" class=\"data row15 col6\" >-0.186279</td>\n",
       "                        <td id=\"T_67866_row15_col7\" class=\"data row15 col7\" >-0.012552</td>\n",
       "                        <td id=\"T_67866_row15_col8\" class=\"data row15 col8\" >-0.001999</td>\n",
       "                        <td id=\"T_67866_row15_col9\" class=\"data row15 col9\" >-0.067930</td>\n",
       "                        <td id=\"T_67866_row15_col10\" class=\"data row15 col10\" >-0.038547</td>\n",
       "                        <td id=\"T_67866_row15_col11\" class=\"data row15 col11\" >-0.112729</td>\n",
       "                        <td id=\"T_67866_row15_col12\" class=\"data row15 col12\" >0.209376</td>\n",
       "                        <td id=\"T_67866_row15_col13\" class=\"data row15 col13\" >-0.269160</td>\n",
       "                        <td id=\"T_67866_row15_col14\" class=\"data row15 col14\" >-0.344264</td>\n",
       "                        <td id=\"T_67866_row15_col15\" class=\"data row15 col15\" >1.000000</td>\n",
       "                        <td id=\"T_67866_row15_col16\" class=\"data row15 col16\" >-0.030803</td>\n",
       "                        <td id=\"T_67866_row15_col17\" class=\"data row15 col17\" >-0.044027</td>\n",
       "                        <td id=\"T_67866_row15_col18\" class=\"data row15 col18\" >0.406879</td>\n",
       "                        <td id=\"T_67866_row15_col19\" class=\"data row15 col19\" >0.034263</td>\n",
       "                        <td id=\"T_67866_row15_col20\" class=\"data row15 col20\" >0.060052</td>\n",
       "                        <td id=\"T_67866_row15_col21\" class=\"data row15 col21\" >0.006944</td>\n",
       "            </tr>\n",
       "            <tr>\n",
       "                        <th id=\"T_67866_level0_row16\" class=\"row_heading level0 row16\" >transmission_manual</th>\n",
       "                        <td id=\"T_67866_row16_col0\" class=\"data row16 col0\" >-0.066430</td>\n",
       "                        <td id=\"T_67866_row16_col1\" class=\"data row16 col1\" >-0.232027</td>\n",
       "                        <td id=\"T_67866_row16_col2\" class=\"data row16 col2\" >-0.002245</td>\n",
       "                        <td id=\"T_67866_row16_col3\" class=\"data row16 col3\" >-0.039721</td>\n",
       "                        <td id=\"T_67866_row16_col4\" class=\"data row16 col4\" >-0.200085</td>\n",
       "                        <td id=\"T_67866_row16_col5\" class=\"data row16 col5\" >0.003870</td>\n",
       "                        <td id=\"T_67866_row16_col6\" class=\"data row16 col6\" >0.229954</td>\n",
       "                        <td id=\"T_67866_row16_col7\" class=\"data row16 col7\" >0.000934</td>\n",
       "                        <td id=\"T_67866_row16_col8\" class=\"data row16 col8\" >0.005516</td>\n",
       "                        <td id=\"T_67866_row16_col9\" class=\"data row16 col9\" >0.084174</td>\n",
       "                        <td id=\"T_67866_row16_col10\" class=\"data row16 col10\" >0.009409</td>\n",
       "                        <td id=\"T_67866_row16_col11\" class=\"data row16 col11\" >-0.012861</td>\n",
       "                        <td id=\"T_67866_row16_col12\" class=\"data row16 col12\" >-0.053575</td>\n",
       "                        <td id=\"T_67866_row16_col13\" class=\"data row16 col13\" >-0.002329</td>\n",
       "                        <td id=\"T_67866_row16_col14\" class=\"data row16 col14\" >0.124103</td>\n",
       "                        <td id=\"T_67866_row16_col15\" class=\"data row16 col15\" >-0.030803</td>\n",
       "                        <td id=\"T_67866_row16_col16\" class=\"data row16 col16\" >1.000000</td>\n",
       "                        <td id=\"T_67866_row16_col17\" class=\"data row16 col17\" >-0.068951</td>\n",
       "                        <td id=\"T_67866_row16_col18\" class=\"data row16 col18\" >-0.073334</td>\n",
       "                        <td id=\"T_67866_row16_col19\" class=\"data row16 col19\" >0.081981</td>\n",
       "                        <td id=\"T_67866_row16_col20\" class=\"data row16 col20\" >0.018081</td>\n",
       "                        <td id=\"T_67866_row16_col21\" class=\"data row16 col21\" >-0.016105</td>\n",
       "            </tr>\n",
       "            <tr>\n",
       "                        <th id=\"T_67866_level0_row17\" class=\"row_heading level0 row17\" >cylinders_6 cylinders</th>\n",
       "                        <td id=\"T_67866_row17_col0\" class=\"data row17 col0\" >0.098011</td>\n",
       "                        <td id=\"T_67866_row17_col1\" class=\"data row17 col1\" >0.068606</td>\n",
       "                        <td id=\"T_67866_row17_col2\" class=\"data row17 col2\" >-0.011132</td>\n",
       "                        <td id=\"T_67866_row17_col3\" class=\"data row17 col3\" >0.040377</td>\n",
       "                        <td id=\"T_67866_row17_col4\" class=\"data row17 col4\" >0.052350</td>\n",
       "                        <td id=\"T_67866_row17_col5\" class=\"data row17 col5\" >0.002226</td>\n",
       "                        <td id=\"T_67866_row17_col6\" class=\"data row17 col6\" >-0.210376</td>\n",
       "                        <td id=\"T_67866_row17_col7\" class=\"data row17 col7\" >0.008683</td>\n",
       "                        <td id=\"T_67866_row17_col8\" class=\"data row17 col8\" >-0.005628</td>\n",
       "                        <td id=\"T_67866_row17_col9\" class=\"data row17 col9\" >0.015655</td>\n",
       "                        <td id=\"T_67866_row17_col10\" class=\"data row17 col10\" >-0.023626</td>\n",
       "                        <td id=\"T_67866_row17_col11\" class=\"data row17 col11\" >-0.003399</td>\n",
       "                        <td id=\"T_67866_row17_col12\" class=\"data row17 col12\" >-0.041794</td>\n",
       "                        <td id=\"T_67866_row17_col13\" class=\"data row17 col13\" >0.055283</td>\n",
       "                        <td id=\"T_67866_row17_col14\" class=\"data row17 col14\" >-0.153308</td>\n",
       "                        <td id=\"T_67866_row17_col15\" class=\"data row17 col15\" >-0.044027</td>\n",
       "                        <td id=\"T_67866_row17_col16\" class=\"data row17 col16\" >-0.068951</td>\n",
       "                        <td id=\"T_67866_row17_col17\" class=\"data row17 col17\" >1.000000</td>\n",
       "                        <td id=\"T_67866_row17_col18\" class=\"data row17 col18\" >-0.516861</td>\n",
       "                        <td id=\"T_67866_row17_col19\" class=\"data row17 col19\" >-0.004067</td>\n",
       "                        <td id=\"T_67866_row17_col20\" class=\"data row17 col20\" >-0.014382</td>\n",
       "                        <td id=\"T_67866_row17_col21\" class=\"data row17 col21\" >0.009221</td>\n",
       "            </tr>\n",
       "            <tr>\n",
       "                        <th id=\"T_67866_level0_row18\" class=\"row_heading level0 row18\" >cylinders_8 cylinders</th>\n",
       "                        <td id=\"T_67866_row18_col0\" class=\"data row18 col0\" >0.107904</td>\n",
       "                        <td id=\"T_67866_row18_col1\" class=\"data row18 col1\" >-0.266054</td>\n",
       "                        <td id=\"T_67866_row18_col2\" class=\"data row18 col2\" >0.155812</td>\n",
       "                        <td id=\"T_67866_row18_col3\" class=\"data row18 col3\" >-0.026696</td>\n",
       "                        <td id=\"T_67866_row18_col4\" class=\"data row18 col4\" >-0.237473</td>\n",
       "                        <td id=\"T_67866_row18_col5\" class=\"data row18 col5\" >-0.000305</td>\n",
       "                        <td id=\"T_67866_row18_col6\" class=\"data row18 col6\" >-0.228676</td>\n",
       "                        <td id=\"T_67866_row18_col7\" class=\"data row18 col7\" >0.019100</td>\n",
       "                        <td id=\"T_67866_row18_col8\" class=\"data row18 col8\" >-0.016126</td>\n",
       "                        <td id=\"T_67866_row18_col9\" class=\"data row18 col9\" >-0.074719</td>\n",
       "                        <td id=\"T_67866_row18_col10\" class=\"data row18 col10\" >0.008023</td>\n",
       "                        <td id=\"T_67866_row18_col11\" class=\"data row18 col11\" >-0.132724</td>\n",
       "                        <td id=\"T_67866_row18_col12\" class=\"data row18 col12\" >0.197835</td>\n",
       "                        <td id=\"T_67866_row18_col13\" class=\"data row18 col13\" >0.228914</td>\n",
       "                        <td id=\"T_67866_row18_col14\" class=\"data row18 col14\" >-0.338454</td>\n",
       "                        <td id=\"T_67866_row18_col15\" class=\"data row18 col15\" >0.406879</td>\n",
       "                        <td id=\"T_67866_row18_col16\" class=\"data row18 col16\" >-0.073334</td>\n",
       "                        <td id=\"T_67866_row18_col17\" class=\"data row18 col17\" >-0.516861</td>\n",
       "                        <td id=\"T_67866_row18_col18\" class=\"data row18 col18\" >1.000000</td>\n",
       "                        <td id=\"T_67866_row18_col19\" class=\"data row18 col19\" >0.054047</td>\n",
       "                        <td id=\"T_67866_row18_col20\" class=\"data row18 col20\" >0.125523</td>\n",
       "                        <td id=\"T_67866_row18_col21\" class=\"data row18 col21\" >-0.056836</td>\n",
       "            </tr>\n",
       "            <tr>\n",
       "                        <th id=\"T_67866_level0_row19\" class=\"row_heading level0 row19\" >condition_fair</th>\n",
       "                        <td id=\"T_67866_row19_col0\" class=\"data row19 col0\" >-0.171231</td>\n",
       "                        <td id=\"T_67866_row19_col1\" class=\"data row19 col1\" >-0.226319</td>\n",
       "                        <td id=\"T_67866_row19_col2\" class=\"data row19 col2\" >0.183650</td>\n",
       "                        <td id=\"T_67866_row19_col3\" class=\"data row19 col3\" >-0.093445</td>\n",
       "                        <td id=\"T_67866_row19_col4\" class=\"data row19 col4\" >-0.193025</td>\n",
       "                        <td id=\"T_67866_row19_col5\" class=\"data row19 col5\" >-0.000157</td>\n",
       "                        <td id=\"T_67866_row19_col6\" class=\"data row19 col6\" >-0.026813</td>\n",
       "                        <td id=\"T_67866_row19_col7\" class=\"data row19 col7\" >-0.010557</td>\n",
       "                        <td id=\"T_67866_row19_col8\" class=\"data row19 col8\" >-0.000642</td>\n",
       "                        <td id=\"T_67866_row19_col9\" class=\"data row19 col9\" >0.028063</td>\n",
       "                        <td id=\"T_67866_row19_col10\" class=\"data row19 col10\" >0.016860</td>\n",
       "                        <td id=\"T_67866_row19_col11\" class=\"data row19 col11\" >-0.036225</td>\n",
       "                        <td id=\"T_67866_row19_col12\" class=\"data row19 col12\" >-0.006341</td>\n",
       "                        <td id=\"T_67866_row19_col13\" class=\"data row19 col13\" >0.034032</td>\n",
       "                        <td id=\"T_67866_row19_col14\" class=\"data row19 col14\" >-0.028038</td>\n",
       "                        <td id=\"T_67866_row19_col15\" class=\"data row19 col15\" >0.034263</td>\n",
       "                        <td id=\"T_67866_row19_col16\" class=\"data row19 col16\" >0.081981</td>\n",
       "                        <td id=\"T_67866_row19_col17\" class=\"data row19 col17\" >-0.004067</td>\n",
       "                        <td id=\"T_67866_row19_col18\" class=\"data row19 col18\" >0.054047</td>\n",
       "                        <td id=\"T_67866_row19_col19\" class=\"data row19 col19\" >1.000000</td>\n",
       "                        <td id=\"T_67866_row19_col20\" class=\"data row19 col20\" >-0.142140</td>\n",
       "                        <td id=\"T_67866_row19_col21\" class=\"data row19 col21\" >-0.067315</td>\n",
       "            </tr>\n",
       "            <tr>\n",
       "                        <th id=\"T_67866_level0_row20\" class=\"row_heading level0 row20\" >condition_good</th>\n",
       "                        <td id=\"T_67866_row20_col0\" class=\"data row20 col0\" >-0.092388</td>\n",
       "                        <td id=\"T_67866_row20_col1\" class=\"data row20 col1\" >-0.152767</td>\n",
       "                        <td id=\"T_67866_row20_col2\" class=\"data row20 col2\" >0.139687</td>\n",
       "                        <td id=\"T_67866_row20_col3\" class=\"data row20 col3\" >-0.054485</td>\n",
       "                        <td id=\"T_67866_row20_col4\" class=\"data row20 col4\" >-0.127517</td>\n",
       "                        <td id=\"T_67866_row20_col5\" class=\"data row20 col5\" >0.000574</td>\n",
       "                        <td id=\"T_67866_row20_col6\" class=\"data row20 col6\" >-0.049338</td>\n",
       "                        <td id=\"T_67866_row20_col7\" class=\"data row20 col7\" >0.005975</td>\n",
       "                        <td id=\"T_67866_row20_col8\" class=\"data row20 col8\" >-0.007555</td>\n",
       "                        <td id=\"T_67866_row20_col9\" class=\"data row20 col9\" >0.022886</td>\n",
       "                        <td id=\"T_67866_row20_col10\" class=\"data row20 col10\" >0.032314</td>\n",
       "                        <td id=\"T_67866_row20_col11\" class=\"data row20 col11\" >-0.028039</td>\n",
       "                        <td id=\"T_67866_row20_col12\" class=\"data row20 col12\" >0.002639</td>\n",
       "                        <td id=\"T_67866_row20_col13\" class=\"data row20 col13\" >0.087753</td>\n",
       "                        <td id=\"T_67866_row20_col14\" class=\"data row20 col14\" >-0.039714</td>\n",
       "                        <td id=\"T_67866_row20_col15\" class=\"data row20 col15\" >0.060052</td>\n",
       "                        <td id=\"T_67866_row20_col16\" class=\"data row20 col16\" >0.018081</td>\n",
       "                        <td id=\"T_67866_row20_col17\" class=\"data row20 col17\" >-0.014382</td>\n",
       "                        <td id=\"T_67866_row20_col18\" class=\"data row20 col18\" >0.125523</td>\n",
       "                        <td id=\"T_67866_row20_col19\" class=\"data row20 col19\" >-0.142140</td>\n",
       "                        <td id=\"T_67866_row20_col20\" class=\"data row20 col20\" >1.000000</td>\n",
       "                        <td id=\"T_67866_row20_col21\" class=\"data row20 col21\" >-0.269981</td>\n",
       "            </tr>\n",
       "            <tr>\n",
       "                        <th id=\"T_67866_level0_row21\" class=\"row_heading level0 row21\" >condition_like new</th>\n",
       "                        <td id=\"T_67866_row21_col0\" class=\"data row21 col0\" >0.158559</td>\n",
       "                        <td id=\"T_67866_row21_col1\" class=\"data row21 col1\" >0.143012</td>\n",
       "                        <td id=\"T_67866_row21_col2\" class=\"data row21 col2\" >-0.166262</td>\n",
       "                        <td id=\"T_67866_row21_col3\" class=\"data row21 col3\" >-0.047251</td>\n",
       "                        <td id=\"T_67866_row21_col4\" class=\"data row21 col4\" >0.123202</td>\n",
       "                        <td id=\"T_67866_row21_col5\" class=\"data row21 col5\" >0.007256</td>\n",
       "                        <td id=\"T_67866_row21_col6\" class=\"data row21 col6\" >0.015962</td>\n",
       "                        <td id=\"T_67866_row21_col7\" class=\"data row21 col7\" >-0.008162</td>\n",
       "                        <td id=\"T_67866_row21_col8\" class=\"data row21 col8\" >0.009201</td>\n",
       "                        <td id=\"T_67866_row21_col9\" class=\"data row21 col9\" >-0.003161</td>\n",
       "                        <td id=\"T_67866_row21_col10\" class=\"data row21 col10\" >-0.003563</td>\n",
       "                        <td id=\"T_67866_row21_col11\" class=\"data row21 col11\" >0.010432</td>\n",
       "                        <td id=\"T_67866_row21_col12\" class=\"data row21 col12\" >0.016659</td>\n",
       "                        <td id=\"T_67866_row21_col13\" class=\"data row21 col13\" >-0.038788</td>\n",
       "                        <td id=\"T_67866_row21_col14\" class=\"data row21 col14\" >0.012068</td>\n",
       "                        <td id=\"T_67866_row21_col15\" class=\"data row21 col15\" >0.006944</td>\n",
       "                        <td id=\"T_67866_row21_col16\" class=\"data row21 col16\" >-0.016105</td>\n",
       "                        <td id=\"T_67866_row21_col17\" class=\"data row21 col17\" >0.009221</td>\n",
       "                        <td id=\"T_67866_row21_col18\" class=\"data row21 col18\" >-0.056836</td>\n",
       "                        <td id=\"T_67866_row21_col19\" class=\"data row21 col19\" >-0.067315</td>\n",
       "                        <td id=\"T_67866_row21_col20\" class=\"data row21 col20\" >-0.269981</td>\n",
       "                        <td id=\"T_67866_row21_col21\" class=\"data row21 col21\" >1.000000</td>\n",
       "            </tr>\n",
       "    </tbody></table>"
      ],
      "text/plain": [
       "<pandas.io.formats.style.Styler at 0x140ef3a10>"
      ]
     },
     "execution_count": 1017,
     "metadata": {},
     "output_type": "execute_result"
    }
   ],
   "source": [
    "corr=clean.corr()\n",
    "corr.style.background_gradient(cmap='coolwarm')"
   ]
  },
  {
   "cell_type": "markdown",
   "id": "sealed-desire",
   "metadata": {},
   "source": [
    "Getting an understanding of the relationship between year and price for general understanding"
   ]
  },
  {
   "cell_type": "code",
   "execution_count": 1018,
   "id": "abandoned-irish",
   "metadata": {},
   "outputs": [],
   "source": [
    "price_by_year=clean[['year','price']].groupby('year',as_index=False).median()\n",
    "diffs=[]\n",
    "for i in range(len(price_by_year)):\n",
    "    if i!=len(price_by_year)-1:\n",
    "        diff=price_by_year.iloc[i+1,1]-price_by_year.iloc[i,1]\n",
    "    else:\n",
    "        diff=0\n",
    "    diffs.append(diff)\n",
    "price_by_year['diff']=diffs\n",
    "price_by_year=price_by_year[price_by_year['year']>1980]"
   ]
  },
  {
   "cell_type": "code",
   "execution_count": 1019,
   "id": "pressing-basement",
   "metadata": {},
   "outputs": [
    {
     "data": {
      "text/plain": [
       "Text(0, 0.5, 'Yearly Change')"
      ]
     },
     "execution_count": 1019,
     "metadata": {},
     "output_type": "execute_result"
    },
    {
     "data": {
      "image/png": "[encoded data removed]",
      "text/plain": [
       "<Figure size 432x288 with 1 Axes>"
      ]
     },
     "metadata": {
      "needs_background": "light"
     },
     "output_type": "display_data"
    }
   ],
   "source": [
    "plt.scatter(price_by_year['year'],price_by_year['diff'])\n",
    "plt.title('Yearly Change in Median Price')\n",
    "plt.xlabel('Year')\n",
    "plt.ylabel('Yearly Change')"
   ]
  },
  {
   "cell_type": "markdown",
   "id": "subjective-recipient",
   "metadata": {},
   "source": [
    "Fitting a basic linear model"
   ]
  },
  {
   "cell_type": "code",
   "execution_count": 1020,
   "id": "sapphire-rhythm",
   "metadata": {},
   "outputs": [],
   "source": [
    "X=clean[['year', 'odometer', 'F1', 'F2', 'F3', 'manufacturer_subaru',\n",
    "       'F4_b', 'F4_c', 'paint_color_blue', 'paint_color_red',\n",
    "       'paint_color_silver', 'paint_color_white', 'type_pickup', 'type_sedan',\n",
    "       'type_truck', 'transmission_manual', 'cylinders_6 cylinders',\n",
    "       'cylinders_8 cylinders', 'condition_fair', 'condition_good',\n",
    "       'condition_like new']]\n",
    "Y=clean['price']"
   ]
  },
  {
   "cell_type": "code",
   "execution_count": 1021,
   "id": "widespread-plasma",
   "metadata": {},
   "outputs": [
    {
     "name": "stdout",
     "output_type": "stream",
     "text": [
      "                            OLS Regression Results                            \n",
      "==============================================================================\n",
      "Dep. Variable:                  price   R-squared:                       0.559\n",
      "Model:                            OLS   Adj. R-squared:                  0.558\n",
      "Method:                 Least Squares   F-statistic:                     551.8\n",
      "Date:                Wed, 10 Feb 2021   Prob (F-statistic):               0.00\n",
      "Time:                        19:57:48   Log-Likelihood:                -95475.\n",
      "No. Observations:                9174   AIC:                         1.910e+05\n",
      "Df Residuals:                    9152   BIC:                         1.912e+05\n",
      "Df Model:                          21                                         \n",
      "Covariance Type:            nonrobust                                         \n",
      "=========================================================================================\n",
      "                            coef    std err          t      P>|t|      [0.025      0.975]\n",
      "-----------------------------------------------------------------------------------------\n",
      "const                 -9.438e+05   4.48e+04    -21.051      0.000   -1.03e+06   -8.56e+05\n",
      "year                    477.8970     23.048     20.735      0.000     432.718     523.076\n",
      "odometer                -84.0585      1.541    -54.555      0.000     -87.079     -81.038\n",
      "F1                        0.3294      0.041      8.053      0.000       0.249       0.410\n",
      "F2                      411.0295    836.128      0.492      0.623   -1227.968    2050.027\n",
      "F3                     1.154e+04    829.842     13.909      0.000    9915.541    1.32e+04\n",
      "manufacturer_subaru    2915.8134    321.813      9.061      0.000    2284.988    3546.639\n",
      "F4_b                    105.3250    202.885      0.519      0.604    -292.375     503.025\n",
      "F4_c                    641.0338    207.729      3.086      0.002     233.839    1048.228\n",
      "paint_color_blue      -1367.8525    295.455     -4.630      0.000   -1947.010    -788.695\n",
      "paint_color_red        -960.8440    279.554     -3.437      0.001   -1508.832    -412.856\n",
      "paint_color_silver    -1563.7829    283.262     -5.521      0.000   -2119.040   -1008.526\n",
      "paint_color_white     -1958.1469    238.191     -8.221      0.000   -2425.054   -1491.240\n",
      "type_pickup            6257.3842    278.046     22.505      0.000    5712.351    6802.417\n",
      "type_sedan            -2889.0869    236.375    -12.222      0.000   -3352.436   -2425.738\n",
      "type_truck             6055.7524    262.309     23.086      0.000    5541.568    6569.937\n",
      "transmission_manual    2446.5942    419.710      5.829      0.000    1623.869    3269.319\n",
      "cylinders_6 cylinders  4465.4706    252.283     17.700      0.000    3970.939    4960.002\n",
      "cylinders_8 cylinders  5626.3446    311.031     18.089      0.000    5016.654    6236.036\n",
      "condition_fair        -3130.3612    489.687     -6.393      0.000   -4090.257   -2170.465\n",
      "condition_good         -749.6174    188.797     -3.971      0.000   -1119.701    -379.534\n",
      "condition_like new     2001.6380    280.172      7.144      0.000    1452.438    2550.838\n",
      "==============================================================================\n",
      "Omnibus:                     2575.426   Durbin-Watson:                   2.000\n",
      "Prob(Omnibus):                  0.000   Jarque-Bera (JB):            37967.902\n",
      "Skew:                           0.941   Prob(JB):                         0.00\n",
      "Kurtosis:                      12.787   Cond. No.                     1.61e+06\n",
      "==============================================================================\n",
      "\n",
      "Notes:\n",
      "[1] Standard Errors assume that the covariance matrix of the errors is correctly specified.\n",
      "[2] The condition number is large, 1.61e+06. This might indicate that there are\n",
      "strong multicollinearity or other numerical problems.\n"
     ]
    }
   ],
   "source": [
    "X_sm=sm.add_constant(X)\n",
    "model=sm.OLS(Y,X_sm)\n",
    "results=model.fit()\n",
    "print(results.summary())"
   ]
  },
  {
   "cell_type": "markdown",
   "id": "juvenile-cowboy",
   "metadata": {},
   "source": [
    "Getting the VIF values for each feature. They are very high for year and F2, so they will be dropped as features for now. The model will then be refit without these features."
   ]
  },
  {
   "cell_type": "code",
   "execution_count": 1022,
   "id": "antique-female",
   "metadata": {},
   "outputs": [
    {
     "data": {
      "text/plain": [
       "year                     204.251489\n",
       "odometer                   5.330760\n",
       "F1                         1.667025\n",
       "F2                       164.920209\n",
       "F3                         1.981887\n",
       "manufacturer_subaru        1.478843\n",
       "F4_b                       2.046408\n",
       "F4_c                       1.951188\n",
       "paint_color_blue           1.700829\n",
       "paint_color_red            1.827682\n",
       "paint_color_silver         1.783599\n",
       "paint_color_white          2.733247\n",
       "type_pickup                1.973096\n",
       "type_sedan                 2.095363\n",
       "type_truck                 2.443639\n",
       "transmission_manual        1.207553\n",
       "cylinders_6 cylinders      3.264272\n",
       "cylinders_8 cylinders      4.354145\n",
       "condition_fair             1.158635\n",
       "condition_good             1.839358\n",
       "condition_like new         1.268233\n",
       "dtype: float64"
      ]
     },
     "execution_count": 1022,
     "metadata": {},
     "output_type": "execute_result"
    }
   ],
   "source": [
    "pd.Series([variance_inflation_factor(X.values, i) \n",
    "               for i in range(X.shape[1])], \n",
    "              index=X.columns)"
   ]
  },
  {
   "cell_type": "code",
   "execution_count": 1023,
   "id": "sitting-divorce",
   "metadata": {},
   "outputs": [
    {
     "data": {
      "text/plain": [
       "odometer                 4.191041\n",
       "F1                       1.514463\n",
       "F3                       1.882204\n",
       "manufacturer_subaru      1.372674\n",
       "F4_b                     1.898383\n",
       "F4_c                     1.810329\n",
       "paint_color_blue         1.547419\n",
       "paint_color_red          1.620272\n",
       "paint_color_silver       1.571189\n",
       "paint_color_white        2.362882\n",
       "type_pickup              1.934056\n",
       "type_sedan               1.769882\n",
       "type_truck               2.379090\n",
       "transmission_manual      1.148276\n",
       "cylinders_6 cylinders    2.706238\n",
       "cylinders_8 cylinders    3.819306\n",
       "condition_fair           1.140284\n",
       "condition_good           1.807724\n",
       "condition_like new       1.213048\n",
       "dtype: float64"
      ]
     },
     "execution_count": 1023,
     "metadata": {},
     "output_type": "execute_result"
    }
   ],
   "source": [
    "X1=X.drop(columns=['year','F2'])\n",
    "pd.Series([variance_inflation_factor(X1.values, i) \n",
    "               for i in range(X1.shape[1])], \n",
    "              index=X1.columns)"
   ]
  },
  {
   "cell_type": "code",
   "execution_count": 1024,
   "id": "completed-chick",
   "metadata": {},
   "outputs": [
    {
     "name": "stdout",
     "output_type": "stream",
     "text": [
      "                            OLS Regression Results                            \n",
      "==============================================================================\n",
      "Dep. Variable:                  price   R-squared:                       0.488\n",
      "Model:                            OLS   Adj. R-squared:                  0.487\n",
      "Method:                 Least Squares   F-statistic:                     459.6\n",
      "Date:                Wed, 10 Feb 2021   Prob (F-statistic):               0.00\n",
      "Time:                        19:57:50   Log-Likelihood:                -96155.\n",
      "No. Observations:                9174   AIC:                         1.924e+05\n",
      "Df Residuals:                    9154   BIC:                         1.925e+05\n",
      "Df Model:                          19                                         \n",
      "Covariance Type:            nonrobust                                         \n",
      "=========================================================================================\n",
      "                            coef    std err          t      P>|t|      [0.025      0.975]\n",
      "-----------------------------------------------------------------------------------------\n",
      "const                  2.083e+04    391.613     53.190      0.000    2.01e+04    2.16e+04\n",
      "odometer                -97.8520      1.613    -60.661      0.000    -101.014     -94.690\n",
      "F1                        0.5508      0.044     12.633      0.000       0.465       0.636\n",
      "F3                     1.179e+04    893.367     13.194      0.000       1e+04    1.35e+04\n",
      "manufacturer_subaru    3397.8846    346.228      9.814      0.000    2719.201    4076.568\n",
      "F4_b                    100.6573    218.470      0.461      0.645    -327.592     528.907\n",
      "F4_c                    632.3919    223.671      2.827      0.005     193.946    1070.838\n",
      "paint_color_blue      -2047.3367    317.581     -6.447      0.000   -2669.865   -1424.808\n",
      "paint_color_red       -1749.9521    300.209     -5.829      0.000   -2338.428   -1161.476\n",
      "paint_color_silver    -1614.0434    305.020     -5.292      0.000   -2211.952   -1016.135\n",
      "paint_color_white     -1744.8728    256.404     -6.805      0.000   -2247.482   -1242.263\n",
      "type_pickup            6727.5215    299.077     22.494      0.000    6141.265    7313.778\n",
      "type_sedan            -3441.0880    254.053    -13.545      0.000   -3939.088   -2943.088\n",
      "type_truck             6703.2403    281.867     23.782      0.000    6150.717    7255.763\n",
      "transmission_manual   -1822.6006    435.682     -4.183      0.000   -2676.634    -968.567\n",
      "cylinders_6 cylinders  3291.1118    269.622     12.206      0.000    2762.592    3819.631\n",
      "cylinders_8 cylinders  2639.0670    324.184      8.141      0.000    2003.594    3274.540\n",
      "condition_fair        -6160.4749    520.303    -11.840      0.000   -7180.385   -5140.565\n",
      "condition_good        -1362.7453    202.534     -6.728      0.000   -1759.757    -965.733\n",
      "condition_like new     2714.2489    301.032      9.016      0.000    2124.158    3304.339\n",
      "==============================================================================\n",
      "Omnibus:                     1552.904   Durbin-Watson:                   1.993\n",
      "Prob(Omnibus):                  0.000   Jarque-Bera (JB):            13661.885\n",
      "Skew:                           0.554   Prob(JB):                         0.00\n",
      "Kurtosis:                       8.875   Cond. No.                     2.64e+04\n",
      "==============================================================================\n",
      "\n",
      "Notes:\n",
      "[1] Standard Errors assume that the covariance matrix of the errors is correctly specified.\n",
      "[2] The condition number is large, 2.64e+04. This might indicate that there are\n",
      "strong multicollinearity or other numerical problems.\n"
     ]
    }
   ],
   "source": [
    "X_sm=sm.add_constant(X1)\n",
    "model=sm.OLS(Y,X_sm)\n",
    "results=model.fit()\n",
    "print(results.summary())"
   ]
  },
  {
   "cell_type": "markdown",
   "id": "american-shock",
   "metadata": {},
   "source": [
    "A plot of the residuals is shown below. There is a major issue. The actual vs predicted plot looks gross and the residuals are clearly decreasing, which violates an assumption of OLS. Like I hinted at earlier, this might have to do with the values the boxplot classified as outliers beyond a price of about $40,000."
   ]
  },
  {
   "cell_type": "code",
   "execution_count": 1025,
   "id": "civic-location",
   "metadata": {},
   "outputs": [
    {
     "name": "stdout",
     "output_type": "stream",
     "text": [
      "R2 score: 0.4881888611430819\n",
      "RMSE: 8624.468759139147\n"
     ]
    },
    {
     "data": {
      "text/plain": [
       "Text(0, 0.5, 'predicted_price')"
      ]
     },
     "execution_count": 1025,
     "metadata": {},
     "output_type": "execute_result"
    },
    {
     "data": {
      "image/png": "[encoded data removed]",
      "text/plain": [
       "<Figure size 432x288 with 1 Axes>"
      ]
     },
     "metadata": {
      "needs_background": "light"
     },
     "output_type": "display_data"
    }
   ],
   "source": [
    "preds=results.predict(X_sm)\n",
    "print('R2 score:', r2_score(Y,preds))\n",
    "print('RMSE:', sqrt(mean_squared_error(Y,preds)))\n",
    "plt.scatter(Y,preds,s=1)\n",
    "plt.plot([0, 80000], [0, 80000], color = 'black', linewidth = 2)\n",
    "plt.xlim(0,80000)\n",
    "plt.ylim(0,80000)\n",
    "plt.title('Initial Linear Fit')\n",
    "plt.xlabel('actual_price')\n",
    "plt.ylabel('predicted_price')"
   ]
  },
  {
   "cell_type": "code",
   "execution_count": 1026,
   "id": "transsexual-simon",
   "metadata": {},
   "outputs": [
    {
     "data": {
      "text/plain": [
       "Text(0.5, 1.0, 'Residuals')"
      ]
     },
     "execution_count": 1026,
     "metadata": {},
     "output_type": "execute_result"
    },
    {
     "data": {
      "image/png": "[encoded data removed]",
      "text/plain": [
       "<Figure size 432x288 with 1 Axes>"
      ]
     },
     "metadata": {
      "needs_background": "light"
     },
     "output_type": "display_data"
    }
   ],
   "source": [
    "preds=results.predict(X_sm)\n",
    "residuals=preds-Y\n",
    "plt.scatter(Y,residuals,s=1)\n",
    "plt.plot([0, 120000], [0, 0], color = 'black', linewidth = 2)\n",
    "plt.xlabel('actual_price')\n",
    "plt.ylabel('residual')\n",
    "plt.title('Residuals')"
   ]
  },
  {
   "cell_type": "markdown",
   "id": "round-marsh",
   "metadata": {},
   "source": [
    "To try to remedy this, a log transform of the price+1 is taken as will be fit to as the new response variable. The +1 is to simply be able to include values of 0 and will not affect the overall results of the model as 1 is negligible to the overall price."
   ]
  },
  {
   "cell_type": "code",
   "execution_count": 1027,
   "id": "excessive-assignment",
   "metadata": {},
   "outputs": [],
   "source": [
    "clean['price']+=1\n",
    "clean['log_price']=np.log(clean['price'])"
   ]
  },
  {
   "cell_type": "code",
   "execution_count": 1028,
   "id": "direct-portrait",
   "metadata": {},
   "outputs": [
    {
     "name": "stdout",
     "output_type": "stream",
     "text": [
      "                            OLS Regression Results                            \n",
      "==============================================================================\n",
      "Dep. Variable:              log_price   R-squared:                       0.339\n",
      "Model:                            OLS   Adj. R-squared:                  0.337\n",
      "Method:                 Least Squares   F-statistic:                     246.8\n",
      "Date:                Wed, 10 Feb 2021   Prob (F-statistic):               0.00\n",
      "Time:                        19:57:51   Log-Likelihood:                -10708.\n",
      "No. Observations:                9174   AIC:                         2.146e+04\n",
      "Df Residuals:                    9154   BIC:                         2.160e+04\n",
      "Df Model:                          19                                         \n",
      "Covariance Type:            nonrobust                                         \n",
      "=========================================================================================\n",
      "                            coef    std err          t      P>|t|      [0.025      0.975]\n",
      "-----------------------------------------------------------------------------------------\n",
      "const                     9.7449      0.035    276.044      0.000       9.676       9.814\n",
      "odometer                 -0.0060      0.000    -41.267      0.000      -0.006      -0.006\n",
      "F1                     2.415e-05   3.93e-06      6.145      0.000    1.64e-05    3.19e-05\n",
      "F3                        0.8454      0.081     10.497      0.000       0.687       1.003\n",
      "manufacturer_subaru       0.2998      0.031      9.605      0.000       0.239       0.361\n",
      "F4_b                      0.0310      0.020      1.574      0.115      -0.008       0.070\n",
      "F4_c                      0.0643      0.020      3.189      0.001       0.025       0.104\n",
      "paint_color_blue         -0.1447      0.029     -5.053      0.000      -0.201      -0.089\n",
      "paint_color_red          -0.1098      0.027     -4.058      0.000      -0.163      -0.057\n",
      "paint_color_silver       -0.0887      0.027     -3.228      0.001      -0.143      -0.035\n",
      "paint_color_white        -0.1175      0.023     -5.082      0.000      -0.163      -0.072\n",
      "type_pickup               0.4000      0.027     14.835      0.000       0.347       0.453\n",
      "type_sedan               -0.3202      0.023    -13.981      0.000      -0.365      -0.275\n",
      "type_truck                0.3441      0.025     13.544      0.000       0.294       0.394\n",
      "transmission_manual      -0.1203      0.039     -3.064      0.002      -0.197      -0.043\n",
      "cylinders_6 cylinders     0.1117      0.024      4.597      0.000       0.064       0.159\n",
      "cylinders_8 cylinders     0.1337      0.029      4.576      0.000       0.076       0.191\n",
      "condition_fair           -0.9878      0.047    -21.060      0.000      -1.080      -0.896\n",
      "condition_good           -0.1934      0.018    -10.595      0.000      -0.229      -0.158\n",
      "condition_like new        0.1124      0.027      4.141      0.000       0.059       0.166\n",
      "==============================================================================\n",
      "Omnibus:                     5747.531   Durbin-Watson:                   1.976\n",
      "Prob(Omnibus):                  0.000   Jarque-Bera (JB):            91845.385\n",
      "Skew:                          -2.750   Prob(JB):                         0.00\n",
      "Kurtosis:                      17.493   Cond. No.                     2.64e+04\n",
      "==============================================================================\n",
      "\n",
      "Notes:\n",
      "[1] Standard Errors assume that the covariance matrix of the errors is correctly specified.\n",
      "[2] The condition number is large, 2.64e+04. This might indicate that there are\n",
      "strong multicollinearity or other numerical problems.\n"
     ]
    }
   ],
   "source": [
    "X=clean[['odometer', 'F1', 'F3', 'manufacturer_subaru', 'F4_b',\n",
    "       'F4_c', 'paint_color_blue', 'paint_color_red', 'paint_color_silver',\n",
    "       'paint_color_white', 'type_pickup', 'type_sedan', 'type_truck',\n",
    "       'transmission_manual', 'cylinders_6 cylinders', 'cylinders_8 cylinders',\n",
    "       'condition_fair', 'condition_good', 'condition_like new']]\n",
    "Y=clean['log_price']\n",
    "X_sm=sm.add_constant(X)\n",
    "model=sm.OLS(Y,X_sm)\n",
    "results=model.fit()\n",
    "print(results.summary())"
   ]
  },
  {
   "cell_type": "markdown",
   "id": "convenient-disaster",
   "metadata": {},
   "source": [
    "A residual plot is shown below. It's still decreasing, but it looks...a little better. Maybe? The model clearly isn't good at predicting cars that have an actual value of 0. I'm not sure and I'm starting to think that a simple linear approach isn't best for this data, or I should have dropped those larger prices. But, dropping the larger prices because they're making this hard is taking the easy way out. Since this residual plot looks a bit better to me and taking the log makes sense given the somewhat skewed nature of the car price, I'm going to use the log(price) going forward."
   ]
  },
  {
   "cell_type": "code",
   "execution_count": 1029,
   "id": "supreme-refund",
   "metadata": {},
   "outputs": [
    {
     "name": "stdout",
     "output_type": "stream",
     "text": [
      "R2 score: 0.33869373716161544\n",
      "RMSE: 0.7774562525244068\n"
     ]
    },
    {
     "data": {
      "text/plain": [
       "Text(0.5, 1.0, 'Fit to log(price)')"
      ]
     },
     "execution_count": 1029,
     "metadata": {},
     "output_type": "execute_result"
    },
    {
     "data": {
      "image/png": "[encoded data removed]",
      "text/plain": [
       "<Figure size 432x288 with 1 Axes>"
      ]
     },
     "metadata": {
      "needs_background": "light"
     },
     "output_type": "display_data"
    }
   ],
   "source": [
    "preds=results.predict(X_sm)\n",
    "print('R2 score:', r2_score(Y,preds))\n",
    "print('RMSE:', sqrt(mean_squared_error(Y,preds)))\n",
    "plt.scatter(Y,preds,s=.5)\n",
    "plt.plot([0, 20], [0, 20], color = 'black', linewidth = 2)\n",
    "plt.xlim(0,20)\n",
    "plt.ylim(0,20)\n",
    "plt.xlabel('actual_log(price)')\n",
    "plt.ylabel('predicted_log(price)')\n",
    "plt.title('Fit to log(price)')"
   ]
  },
  {
   "cell_type": "code",
   "execution_count": 1030,
   "id": "promotional-digit",
   "metadata": {},
   "outputs": [
    {
     "data": {
      "text/plain": [
       "Text(0.5, 1.0, 'Residuals')"
      ]
     },
     "execution_count": 1030,
     "metadata": {},
     "output_type": "execute_result"
    },
    {
     "data": {
      "image/png": "[encoded data removed]",
      "text/plain": [
       "<Figure size 432x288 with 1 Axes>"
      ]
     },
     "metadata": {
      "needs_background": "light"
     },
     "output_type": "display_data"
    }
   ],
   "source": [
    "preds=results.predict(X_sm)\n",
    "residuals=preds-Y\n",
    "plt.scatter(Y,residuals,s=1)\n",
    "plt.plot([0, 20], [0, 0], color = 'black', linewidth = 2)\n",
    "plt.ylim((-5,10))\n",
    "plt.xlabel('actual_log(price)')\n",
    "plt.ylabel('residual')\n",
    "plt.title('Residuals')"
   ]
  },
  {
   "cell_type": "markdown",
   "id": "chief-inclusion",
   "metadata": {},
   "source": [
    "One more shot at taking the log of year, since I would like to include year in the linear model but it clearly has a non-linear relationship. The adj-R2 improves, but log(year) still has an extremely high VIF and the residuals aren't any better, so I'll leave it out of the final model comparisons"
   ]
  },
  {
   "cell_type": "code",
   "execution_count": 1031,
   "id": "pressing-baghdad",
   "metadata": {},
   "outputs": [
    {
     "name": "stdout",
     "output_type": "stream",
     "text": [
      "                            OLS Regression Results                            \n",
      "==============================================================================\n",
      "Dep. Variable:              log_price   R-squared:                       0.394\n",
      "Model:                            OLS   Adj. R-squared:                  0.392\n",
      "Method:                 Least Squares   F-statistic:                     297.0\n",
      "Date:                Wed, 10 Feb 2021   Prob (F-statistic):               0.00\n",
      "Time:                        19:57:52   Log-Likelihood:                -10310.\n",
      "No. Observations:                9174   AIC:                         2.066e+04\n",
      "Df Residuals:                    9153   BIC:                         2.081e+04\n",
      "Df Model:                          20                                         \n",
      "Covariance Type:            nonrobust                                         \n",
      "=========================================================================================\n",
      "                            coef    std err          t      P>|t|      [0.025      0.975]\n",
      "-----------------------------------------------------------------------------------------\n",
      "const                  -507.3331     17.963    -28.243      0.000    -542.545    -472.121\n",
      "log_year                 67.9555      2.361     28.785      0.000      63.328      72.583\n",
      "odometer                 -0.0051      0.000    -35.291      0.000      -0.005      -0.005\n",
      "F1                     8.713e-06    3.8e-06      2.292      0.022    1.26e-06    1.62e-05\n",
      "F3                        0.8290      0.077     10.748      0.000       0.678       0.980\n",
      "manufacturer_subaru       0.2661      0.030      8.897      0.000       0.207       0.325\n",
      "F4_b                      0.0313      0.019      1.659      0.097      -0.006       0.068\n",
      "F4_c                      0.0649      0.019      3.361      0.001       0.027       0.103\n",
      "paint_color_blue         -0.0974      0.027     -3.547      0.000      -0.151      -0.044\n",
      "paint_color_red          -0.0549      0.026     -2.111      0.035      -0.106      -0.004\n",
      "paint_color_silver       -0.0855      0.026     -3.246      0.001      -0.137      -0.034\n",
      "paint_color_white        -0.1324      0.022     -5.980      0.000      -0.176      -0.089\n",
      "type_pickup               0.3670      0.026     14.202      0.000       0.316       0.418\n",
      "type_sedan               -0.2818      0.022    -12.825      0.000      -0.325      -0.239\n",
      "type_truck                0.2989      0.024     12.259      0.000       0.251       0.347\n",
      "transmission_manual       0.1783      0.039      4.570      0.000       0.102       0.255\n",
      "cylinders_6 cylinders     0.1935      0.023      8.251      0.000       0.148       0.239\n",
      "cylinders_8 cylinders     0.3421      0.029     11.833      0.000       0.285       0.399\n",
      "condition_fair           -0.7764      0.046    -17.060      0.000      -0.866      -0.687\n",
      "condition_good           -0.1507      0.018     -8.587      0.000      -0.185      -0.116\n",
      "condition_like new        0.0629      0.026      2.414      0.016       0.012       0.114\n",
      "==============================================================================\n",
      "Omnibus:                     6300.680   Durbin-Watson:                   1.976\n",
      "Prob(Omnibus):                  0.000   Jarque-Bera (JB):           143844.286\n",
      "Skew:                          -2.993   Prob(JB):                         0.00\n",
      "Kurtosis:                      21.452   Cond. No.                     6.17e+06\n",
      "==============================================================================\n",
      "\n",
      "Notes:\n",
      "[1] Standard Errors assume that the covariance matrix of the errors is correctly specified.\n",
      "[2] The condition number is large, 6.17e+06. This might indicate that there are\n",
      "strong multicollinearity or other numerical problems.\n"
     ]
    }
   ],
   "source": [
    "clean['log_year']=np.log(clean['year'])\n",
    "X=clean[['log_year','odometer', 'F1', 'F3', 'manufacturer_subaru', 'F4_b',\n",
    "       'F4_c', 'paint_color_blue', 'paint_color_red', 'paint_color_silver',\n",
    "       'paint_color_white', 'type_pickup', 'type_sedan', 'type_truck',\n",
    "       'transmission_manual', 'cylinders_6 cylinders', 'cylinders_8 cylinders',\n",
    "       'condition_fair', 'condition_good', 'condition_like new']]\n",
    "Y=clean['log_price']\n",
    "X_sm=sm.add_constant(X)\n",
    "model=sm.OLS(Y,X_sm)\n",
    "results=model.fit()\n",
    "print(results.summary())"
   ]
  },
  {
   "cell_type": "code",
   "execution_count": 1032,
   "id": "norman-collins",
   "metadata": {},
   "outputs": [
    {
     "data": {
      "text/plain": [
       "log_year                 18.858506\n",
       "odometer                  5.133939\n",
       "F1                        1.644607\n",
       "F3                        1.981316\n",
       "manufacturer_subaru       1.476286\n",
       "F4_b                      2.046335\n",
       "F4_c                      1.950980\n",
       "paint_color_blue          1.696538\n",
       "paint_color_red           1.821829\n",
       "paint_color_silver        1.783508\n",
       "paint_color_white         2.731448\n",
       "type_pickup               1.971513\n",
       "type_sedan                2.089070\n",
       "type_truck                2.437583\n",
       "transmission_manual       1.148412\n",
       "cylinders_6 cylinders     3.226374\n",
       "cylinders_8 cylinders     4.155068\n",
       "condition_fair            1.140323\n",
       "condition_good            1.832914\n",
       "condition_like new        1.264354\n",
       "dtype: float64"
      ]
     },
     "execution_count": 1032,
     "metadata": {},
     "output_type": "execute_result"
    }
   ],
   "source": [
    "pd.Series([variance_inflation_factor(X.values, i) \n",
    "               for i in range(X.shape[1])], \n",
    "              index=X.columns)"
   ]
  },
  {
   "cell_type": "code",
   "execution_count": 1033,
   "id": "portuguese-sword",
   "metadata": {},
   "outputs": [
    {
     "data": {
      "text/plain": [
       "Text(0.5, 1.0, 'Residuals')"
      ]
     },
     "execution_count": 1033,
     "metadata": {},
     "output_type": "execute_result"
    },
    {
     "data": {
      "image/png": "[encoded data removed]",
      "text/plain": [
       "<Figure size 432x288 with 1 Axes>"
      ]
     },
     "metadata": {
      "needs_background": "light"
     },
     "output_type": "display_data"
    }
   ],
   "source": [
    "preds=results.predict(X_sm)\n",
    "residuals=preds-Y\n",
    "plt.scatter(Y,residuals,s=1)\n",
    "plt.plot([0, 20], [0, 0], color = 'black', linewidth = 2)\n",
    "plt.ylim((-5,10))\n",
    "plt.xlabel('actual_log(price)')\n",
    "plt.ylabel('residual')\n",
    "plt.title('Residuals')"
   ]
  },
  {
   "cell_type": "markdown",
   "id": "informative-blackjack",
   "metadata": {},
   "source": [
    "Now for choosing the best model. Methodology: split into training and testing data. Perform a cross validation with 5 splits on the training data. For the linear model, we know to drop year and F2 from our previous VIF scores. For Ridge, Lasso, and Elastic, we perform a grid search for the optimal parameters for that model."
   ]
  },
  {
   "cell_type": "code",
   "execution_count": 1086,
   "id": "integral-bermuda",
   "metadata": {},
   "outputs": [],
   "source": [
    "X=clean[['year','odometer', 'F1', 'F2','F3', 'manufacturer_subaru', 'F4_b',\n",
    "       'F4_c', 'paint_color_blue', 'paint_color_red', 'paint_color_silver',\n",
    "       'paint_color_white', 'type_pickup', 'type_sedan', 'type_truck',\n",
    "       'transmission_manual', 'cylinders_6 cylinders', 'cylinders_8 cylinders',\n",
    "       'condition_fair', 'condition_good', 'condition_like new']]\n",
    "Y=clean['log_price']\n",
    "x_train,x_test,y_train,y_test=train_test_split(X,Y,test_size=.2,random_state=1234)\n",
    "cv = KFold(n_splits=5, random_state=1234, shuffle=True)"
   ]
  },
  {
   "cell_type": "code",
   "execution_count": 1080,
   "id": "vital-seating",
   "metadata": {},
   "outputs": [],
   "source": [
    "linear_x=x_train.drop(columns=['year','F2'])"
   ]
  },
  {
   "cell_type": "code",
   "execution_count": 1081,
   "id": "technological-missile",
   "metadata": {},
   "outputs": [],
   "source": [
    "linreg=LinearRegression()\n",
    "linregscore=cross_val_score(linreg, linear_x, y_train, scoring='neg_root_mean_squared_error', cv=cv)"
   ]
  },
  {
   "cell_type": "code",
   "execution_count": 1082,
   "id": "bearing-defensive",
   "metadata": {},
   "outputs": [
    {
     "name": "stdout",
     "output_type": "stream",
     "text": [
      "RMSE: -0.779\n"
     ]
    }
   ],
   "source": [
    "print('RMSE: %.3f' % (mean(linregscore)))"
   ]
  },
  {
   "cell_type": "code",
   "execution_count": 1063,
   "id": "dried-vertex",
   "metadata": {},
   "outputs": [],
   "source": [
    "ridge = Ridge()\n",
    "grid = dict()\n",
    "grid['alpha'] = np.arange(0, 10, 0.1)"
   ]
  },
  {
   "cell_type": "code",
   "execution_count": 1064,
   "id": "responsible-pharmaceutical",
   "metadata": {},
   "outputs": [
    {
     "name": "stdout",
     "output_type": "stream",
     "text": [
      "RMSE: -0.747\n",
      "Config: {'alpha': 2.9000000000000004}\n"
     ]
    }
   ],
   "source": [
    "ridge_search=GridSearchCV(ridge, grid, scoring='neg_root_mean_squared_error', cv=cv)\n",
    "ridge_results = ridge_search.fit(x_train, y_train)\n",
    "print('RMSE: %.3f' % ridge_results.best_score_)\n",
    "print('Config: %s' % ridge_results.best_params_)"
   ]
  },
  {
   "cell_type": "code",
   "execution_count": 1065,
   "id": "champion-headline",
   "metadata": {},
   "outputs": [],
   "source": [
    "lasso=Lasso()\n",
    "grid = dict()\n",
    "grid['alpha'] = np.arange(0, 10, 0.1)"
   ]
  },
  {
   "cell_type": "markdown",
   "id": "electrical-sleeping",
   "metadata": {},
   "source": [
    "It is safe to ignore the warnings about the lack of convergence when alpha=0."
   ]
  },
  {
   "cell_type": "code",
   "execution_count": 1066,
   "id": "exterior-development",
   "metadata": {},
   "outputs": [
    {
     "name": "stderr",
     "output_type": "stream",
     "text": [
      "/Users/maxlee/dsci552/virtual_env/lib/python3.7/site-packages/sklearn/model_selection/_validation.py:593: UserWarning: With alpha=0, this algorithm does not converge well. You are advised to use the LinearRegression estimator\n",
      "  estimator.fit(X_train, y_train, **fit_params)\n",
      "/Users/maxlee/dsci552/virtual_env/lib/python3.7/site-packages/sklearn/linear_model/_coordinate_descent.py:532: UserWarning: Coordinate descent with no regularization may lead to unexpected results and is discouraged.\n",
      "  positive)\n",
      "/Users/maxlee/dsci552/virtual_env/lib/python3.7/site-packages/sklearn/linear_model/_coordinate_descent.py:532: ConvergenceWarning: Objective did not converge. You might want to increase the number of iterations. Duality gap: 1662.1649778984568, tolerance: 0.538544683582582\n",
      "  positive)\n",
      "/Users/maxlee/dsci552/virtual_env/lib/python3.7/site-packages/sklearn/model_selection/_validation.py:593: UserWarning: With alpha=0, this algorithm does not converge well. You are advised to use the LinearRegression estimator\n",
      "  estimator.fit(X_train, y_train, **fit_params)\n",
      "/Users/maxlee/dsci552/virtual_env/lib/python3.7/site-packages/sklearn/linear_model/_coordinate_descent.py:532: UserWarning: Coordinate descent with no regularization may lead to unexpected results and is discouraged.\n",
      "  positive)\n",
      "/Users/maxlee/dsci552/virtual_env/lib/python3.7/site-packages/sklearn/linear_model/_coordinate_descent.py:532: ConvergenceWarning: Objective did not converge. You might want to increase the number of iterations. Duality gap: 1628.5427308180208, tolerance: 0.5349171739935896\n",
      "  positive)\n",
      "/Users/maxlee/dsci552/virtual_env/lib/python3.7/site-packages/sklearn/model_selection/_validation.py:593: UserWarning: With alpha=0, this algorithm does not converge well. You are advised to use the LinearRegression estimator\n",
      "  estimator.fit(X_train, y_train, **fit_params)\n",
      "/Users/maxlee/dsci552/virtual_env/lib/python3.7/site-packages/sklearn/linear_model/_coordinate_descent.py:532: UserWarning: Coordinate descent with no regularization may lead to unexpected results and is discouraged.\n",
      "  positive)\n",
      "/Users/maxlee/dsci552/virtual_env/lib/python3.7/site-packages/sklearn/linear_model/_coordinate_descent.py:532: ConvergenceWarning: Objective did not converge. You might want to increase the number of iterations. Duality gap: 1592.283006464256, tolerance: 0.5259827255439801\n",
      "  positive)\n",
      "/Users/maxlee/dsci552/virtual_env/lib/python3.7/site-packages/sklearn/model_selection/_validation.py:593: UserWarning: With alpha=0, this algorithm does not converge well. You are advised to use the LinearRegression estimator\n",
      "  estimator.fit(X_train, y_train, **fit_params)\n",
      "/Users/maxlee/dsci552/virtual_env/lib/python3.7/site-packages/sklearn/linear_model/_coordinate_descent.py:532: UserWarning: Coordinate descent with no regularization may lead to unexpected results and is discouraged.\n",
      "  positive)\n",
      "/Users/maxlee/dsci552/virtual_env/lib/python3.7/site-packages/sklearn/linear_model/_coordinate_descent.py:532: ConvergenceWarning: Objective did not converge. You might want to increase the number of iterations. Duality gap: 1646.0526709611286, tolerance: 0.543919674493815\n",
      "  positive)\n",
      "/Users/maxlee/dsci552/virtual_env/lib/python3.7/site-packages/sklearn/model_selection/_validation.py:593: UserWarning: With alpha=0, this algorithm does not converge well. You are advised to use the LinearRegression estimator\n",
      "  estimator.fit(X_train, y_train, **fit_params)\n",
      "/Users/maxlee/dsci552/virtual_env/lib/python3.7/site-packages/sklearn/linear_model/_coordinate_descent.py:532: UserWarning: Coordinate descent with no regularization may lead to unexpected results and is discouraged.\n",
      "  positive)\n",
      "/Users/maxlee/dsci552/virtual_env/lib/python3.7/site-packages/sklearn/linear_model/_coordinate_descent.py:532: ConvergenceWarning: Objective did not converge. You might want to increase the number of iterations. Duality gap: 1602.955075848672, tolerance: 0.5294924533255315\n",
      "  positive)\n",
      "/Users/maxlee/dsci552/virtual_env/lib/python3.7/site-packages/sklearn/model_selection/_search.py:880: UserWarning: With alpha=0, this algorithm does not converge well. You are advised to use the LinearRegression estimator\n",
      "  self.best_estimator_.fit(X, y, **fit_params)\n",
      "/Users/maxlee/dsci552/virtual_env/lib/python3.7/site-packages/sklearn/linear_model/_coordinate_descent.py:532: UserWarning: Coordinate descent with no regularization may lead to unexpected results and is discouraged.\n",
      "  positive)\n"
     ]
    },
    {
     "name": "stdout",
     "output_type": "stream",
     "text": [
      "RMSE: -0.747\n",
      "Config: {'alpha': 0.0}\n"
     ]
    },
    {
     "name": "stderr",
     "output_type": "stream",
     "text": [
      "/Users/maxlee/dsci552/virtual_env/lib/python3.7/site-packages/sklearn/linear_model/_coordinate_descent.py:532: ConvergenceWarning: Objective did not converge. You might want to increase the number of iterations. Duality gap: 2034.5395550287083, tolerance: 0.6682168296836826\n",
      "  positive)\n"
     ]
    }
   ],
   "source": [
    "lasso_search=GridSearchCV(lasso, grid, scoring='neg_root_mean_squared_error', cv=cv)\n",
    "lasso_results = lasso_search.fit(x_train, y_train)\n",
    "print('RMSE: %.3f' % lasso_results.best_score_)\n",
    "print('Config: %s' % lasso_results.best_params_)"
   ]
  },
  {
   "cell_type": "code",
   "execution_count": 1073,
   "id": "removed-variance",
   "metadata": {},
   "outputs": [],
   "source": [
    "elastic=ElasticNet()\n",
    "grid = dict()\n",
    "grid['alpha'] = np.arange(0, 1, 0.05)\n",
    "grid['l1_ratio'] = np.arange(0.001, 1, 0.05)"
   ]
  },
  {
   "cell_type": "code",
   "execution_count": 1074,
   "id": "latter-arthur",
   "metadata": {},
   "outputs": [
    {
     "name": "stderr",
     "output_type": "stream",
     "text": [
      "/Users/maxlee/dsci552/virtual_env/lib/python3.7/site-packages/sklearn/model_selection/_validation.py:593: UserWarning: With alpha=0, this algorithm does not converge well. You are advised to use the LinearRegression estimator\n",
      "  estimator.fit(X_train, y_train, **fit_params)\n",
      "/Users/maxlee/dsci552/virtual_env/lib/python3.7/site-packages/sklearn/linear_model/_coordinate_descent.py:532: UserWarning: Coordinate descent with no regularization may lead to unexpected results and is discouraged.\n",
      "  positive)\n",
      "/Users/maxlee/dsci552/virtual_env/lib/python3.7/site-packages/sklearn/linear_model/_coordinate_descent.py:532: ConvergenceWarning: Objective did not converge. You might want to increase the number of iterations. Duality gap: 1662.1649778984568, tolerance: 0.538544683582582\n",
      "  positive)\n",
      "/Users/maxlee/dsci552/virtual_env/lib/python3.7/site-packages/sklearn/model_selection/_validation.py:593: UserWarning: With alpha=0, this algorithm does not converge well. You are advised to use the LinearRegression estimator\n",
      "  estimator.fit(X_train, y_train, **fit_params)\n",
      "/Users/maxlee/dsci552/virtual_env/lib/python3.7/site-packages/sklearn/linear_model/_coordinate_descent.py:532: UserWarning: Coordinate descent with no regularization may lead to unexpected results and is discouraged.\n",
      "  positive)\n",
      "/Users/maxlee/dsci552/virtual_env/lib/python3.7/site-packages/sklearn/linear_model/_coordinate_descent.py:532: ConvergenceWarning: Objective did not converge. You might want to increase the number of iterations. Duality gap: 1628.5427308180208, tolerance: 0.5349171739935896\n",
      "  positive)\n",
      "/Users/maxlee/dsci552/virtual_env/lib/python3.7/site-packages/sklearn/model_selection/_validation.py:593: UserWarning: With alpha=0, this algorithm does not converge well. You are advised to use the LinearRegression estimator\n",
      "  estimator.fit(X_train, y_train, **fit_params)\n",
      "/Users/maxlee/dsci552/virtual_env/lib/python3.7/site-packages/sklearn/linear_model/_coordinate_descent.py:532: UserWarning: Coordinate descent with no regularization may lead to unexpected results and is discouraged.\n",
      "  positive)\n",
      "/Users/maxlee/dsci552/virtual_env/lib/python3.7/site-packages/sklearn/linear_model/_coordinate_descent.py:532: ConvergenceWarning: Objective did not converge. You might want to increase the number of iterations. Duality gap: 1592.283006464256, tolerance: 0.5259827255439801\n",
      "  positive)\n",
      "/Users/maxlee/dsci552/virtual_env/lib/python3.7/site-packages/sklearn/model_selection/_validation.py:593: UserWarning: With alpha=0, this algorithm does not converge well. You are advised to use the LinearRegression estimator\n",
      "  estimator.fit(X_train, y_train, **fit_params)\n",
      "/Users/maxlee/dsci552/virtual_env/lib/python3.7/site-packages/sklearn/linear_model/_coordinate_descent.py:532: UserWarning: Coordinate descent with no regularization may lead to unexpected results and is discouraged.\n",
      "  positive)\n",
      "/Users/maxlee/dsci552/virtual_env/lib/python3.7/site-packages/sklearn/linear_model/_coordinate_descent.py:532: ConvergenceWarning: Objective did not converge. You might want to increase the number of iterations. Duality gap: 1646.0526709611286, tolerance: 0.543919674493815\n",
      "  positive)\n",
      "/Users/maxlee/dsci552/virtual_env/lib/python3.7/site-packages/sklearn/model_selection/_validation.py:593: UserWarning: With alpha=0, this algorithm does not converge well. You are advised to use the LinearRegression estimator\n",
      "  estimator.fit(X_train, y_train, **fit_params)\n",
      "/Users/maxlee/dsci552/virtual_env/lib/python3.7/site-packages/sklearn/linear_model/_coordinate_descent.py:532: UserWarning: Coordinate descent with no regularization may lead to unexpected results and is discouraged.\n",
      "  positive)\n",
      "/Users/maxlee/dsci552/virtual_env/lib/python3.7/site-packages/sklearn/linear_model/_coordinate_descent.py:532: ConvergenceWarning: Objective did not converge. You might want to increase the number of iterations. Duality gap: 1602.955075848672, tolerance: 0.5294924533255315\n",
      "  positive)\n",
      "/Users/maxlee/dsci552/virtual_env/lib/python3.7/site-packages/sklearn/model_selection/_validation.py:593: UserWarning: With alpha=0, this algorithm does not converge well. You are advised to use the LinearRegression estimator\n",
      "  estimator.fit(X_train, y_train, **fit_params)\n",
      "/Users/maxlee/dsci552/virtual_env/lib/python3.7/site-packages/sklearn/linear_model/_coordinate_descent.py:532: UserWarning: Coordinate descent with no regularization may lead to unexpected results and is discouraged.\n",
      "  positive)\n",
      "/Users/maxlee/dsci552/virtual_env/lib/python3.7/site-packages/sklearn/linear_model/_coordinate_descent.py:532: ConvergenceWarning: Objective did not converge. You might want to increase the number of iterations. Duality gap: 1662.1649778984568, tolerance: 0.538544683582582\n",
      "  positive)\n",
      "/Users/maxlee/dsci552/virtual_env/lib/python3.7/site-packages/sklearn/model_selection/_validation.py:593: UserWarning: With alpha=0, this algorithm does not converge well. You are advised to use the LinearRegression estimator\n",
      "  estimator.fit(X_train, y_train, **fit_params)\n",
      "/Users/maxlee/dsci552/virtual_env/lib/python3.7/site-packages/sklearn/linear_model/_coordinate_descent.py:532: UserWarning: Coordinate descent with no regularization may lead to unexpected results and is discouraged.\n",
      "  positive)\n",
      "/Users/maxlee/dsci552/virtual_env/lib/python3.7/site-packages/sklearn/linear_model/_coordinate_descent.py:532: ConvergenceWarning: Objective did not converge. You might want to increase the number of iterations. Duality gap: 1628.5427308180208, tolerance: 0.5349171739935896\n",
      "  positive)\n",
      "/Users/maxlee/dsci552/virtual_env/lib/python3.7/site-packages/sklearn/model_selection/_validation.py:593: UserWarning: With alpha=0, this algorithm does not converge well. You are advised to use the LinearRegression estimator\n",
      "  estimator.fit(X_train, y_train, **fit_params)\n",
      "/Users/maxlee/dsci552/virtual_env/lib/python3.7/site-packages/sklearn/linear_model/_coordinate_descent.py:532: UserWarning: Coordinate descent with no regularization may lead to unexpected results and is discouraged.\n",
      "  positive)\n",
      "/Users/maxlee/dsci552/virtual_env/lib/python3.7/site-packages/sklearn/linear_model/_coordinate_descent.py:532: ConvergenceWarning: Objective did not converge. You might want to increase the number of iterations. Duality gap: 1592.283006464256, tolerance: 0.5259827255439801\n",
      "  positive)\n",
      "/Users/maxlee/dsci552/virtual_env/lib/python3.7/site-packages/sklearn/model_selection/_validation.py:593: UserWarning: With alpha=0, this algorithm does not converge well. You are advised to use the LinearRegression estimator\n",
      "  estimator.fit(X_train, y_train, **fit_params)\n",
      "/Users/maxlee/dsci552/virtual_env/lib/python3.7/site-packages/sklearn/linear_model/_coordinate_descent.py:532: UserWarning: Coordinate descent with no regularization may lead to unexpected results and is discouraged.\n",
      "  positive)\n",
      "/Users/maxlee/dsci552/virtual_env/lib/python3.7/site-packages/sklearn/linear_model/_coordinate_descent.py:532: ConvergenceWarning: Objective did not converge. You might want to increase the number of iterations. Duality gap: 1646.0526709611286, tolerance: 0.543919674493815\n",
      "  positive)\n",
      "/Users/maxlee/dsci552/virtual_env/lib/python3.7/site-packages/sklearn/model_selection/_validation.py:593: UserWarning: With alpha=0, this algorithm does not converge well. You are advised to use the LinearRegression estimator\n",
      "  estimator.fit(X_train, y_train, **fit_params)\n",
      "/Users/maxlee/dsci552/virtual_env/lib/python3.7/site-packages/sklearn/linear_model/_coordinate_descent.py:532: UserWarning: Coordinate descent with no regularization may lead to unexpected results and is discouraged.\n",
      "  positive)\n",
      "/Users/maxlee/dsci552/virtual_env/lib/python3.7/site-packages/sklearn/linear_model/_coordinate_descent.py:532: ConvergenceWarning: Objective did not converge. You might want to increase the number of iterations. Duality gap: 1602.955075848672, tolerance: 0.5294924533255315\n",
      "  positive)\n",
      "/Users/maxlee/dsci552/virtual_env/lib/python3.7/site-packages/sklearn/model_selection/_validation.py:593: UserWarning: With alpha=0, this algorithm does not converge well. You are advised to use the LinearRegression estimator\n",
      "  estimator.fit(X_train, y_train, **fit_params)\n",
      "/Users/maxlee/dsci552/virtual_env/lib/python3.7/site-packages/sklearn/linear_model/_coordinate_descent.py:532: UserWarning: Coordinate descent with no regularization may lead to unexpected results and is discouraged.\n",
      "  positive)\n"
     ]
    },
    {
     "name": "stderr",
     "output_type": "stream",
     "text": [
      "/Users/maxlee/dsci552/virtual_env/lib/python3.7/site-packages/sklearn/linear_model/_coordinate_descent.py:532: ConvergenceWarning: Objective did not converge. You might want to increase the number of iterations. Duality gap: 1662.1649778984568, tolerance: 0.538544683582582\n",
      "  positive)\n",
      "/Users/maxlee/dsci552/virtual_env/lib/python3.7/site-packages/sklearn/model_selection/_validation.py:593: UserWarning: With alpha=0, this algorithm does not converge well. You are advised to use the LinearRegression estimator\n",
      "  estimator.fit(X_train, y_train, **fit_params)\n",
      "/Users/maxlee/dsci552/virtual_env/lib/python3.7/site-packages/sklearn/linear_model/_coordinate_descent.py:532: UserWarning: Coordinate descent with no regularization may lead to unexpected results and is discouraged.\n",
      "  positive)\n",
      "/Users/maxlee/dsci552/virtual_env/lib/python3.7/site-packages/sklearn/linear_model/_coordinate_descent.py:532: ConvergenceWarning: Objective did not converge. You might want to increase the number of iterations. Duality gap: 1628.5427308180208, tolerance: 0.5349171739935896\n",
      "  positive)\n",
      "/Users/maxlee/dsci552/virtual_env/lib/python3.7/site-packages/sklearn/model_selection/_validation.py:593: UserWarning: With alpha=0, this algorithm does not converge well. You are advised to use the LinearRegression estimator\n",
      "  estimator.fit(X_train, y_train, **fit_params)\n",
      "/Users/maxlee/dsci552/virtual_env/lib/python3.7/site-packages/sklearn/linear_model/_coordinate_descent.py:532: UserWarning: Coordinate descent with no regularization may lead to unexpected results and is discouraged.\n",
      "  positive)\n",
      "/Users/maxlee/dsci552/virtual_env/lib/python3.7/site-packages/sklearn/linear_model/_coordinate_descent.py:532: ConvergenceWarning: Objective did not converge. You might want to increase the number of iterations. Duality gap: 1592.283006464256, tolerance: 0.5259827255439801\n",
      "  positive)\n",
      "/Users/maxlee/dsci552/virtual_env/lib/python3.7/site-packages/sklearn/model_selection/_validation.py:593: UserWarning: With alpha=0, this algorithm does not converge well. You are advised to use the LinearRegression estimator\n",
      "  estimator.fit(X_train, y_train, **fit_params)\n",
      "/Users/maxlee/dsci552/virtual_env/lib/python3.7/site-packages/sklearn/linear_model/_coordinate_descent.py:532: UserWarning: Coordinate descent with no regularization may lead to unexpected results and is discouraged.\n",
      "  positive)\n",
      "/Users/maxlee/dsci552/virtual_env/lib/python3.7/site-packages/sklearn/linear_model/_coordinate_descent.py:532: ConvergenceWarning: Objective did not converge. You might want to increase the number of iterations. Duality gap: 1646.0526709611286, tolerance: 0.543919674493815\n",
      "  positive)\n",
      "/Users/maxlee/dsci552/virtual_env/lib/python3.7/site-packages/sklearn/model_selection/_validation.py:593: UserWarning: With alpha=0, this algorithm does not converge well. You are advised to use the LinearRegression estimator\n",
      "  estimator.fit(X_train, y_train, **fit_params)\n",
      "/Users/maxlee/dsci552/virtual_env/lib/python3.7/site-packages/sklearn/linear_model/_coordinate_descent.py:532: UserWarning: Coordinate descent with no regularization may lead to unexpected results and is discouraged.\n",
      "  positive)\n",
      "/Users/maxlee/dsci552/virtual_env/lib/python3.7/site-packages/sklearn/linear_model/_coordinate_descent.py:532: ConvergenceWarning: Objective did not converge. You might want to increase the number of iterations. Duality gap: 1602.955075848672, tolerance: 0.5294924533255315\n",
      "  positive)\n",
      "/Users/maxlee/dsci552/virtual_env/lib/python3.7/site-packages/sklearn/model_selection/_validation.py:593: UserWarning: With alpha=0, this algorithm does not converge well. You are advised to use the LinearRegression estimator\n",
      "  estimator.fit(X_train, y_train, **fit_params)\n",
      "/Users/maxlee/dsci552/virtual_env/lib/python3.7/site-packages/sklearn/linear_model/_coordinate_descent.py:532: UserWarning: Coordinate descent with no regularization may lead to unexpected results and is discouraged.\n",
      "  positive)\n",
      "/Users/maxlee/dsci552/virtual_env/lib/python3.7/site-packages/sklearn/linear_model/_coordinate_descent.py:532: ConvergenceWarning: Objective did not converge. You might want to increase the number of iterations. Duality gap: 1662.1649778984568, tolerance: 0.538544683582582\n",
      "  positive)\n",
      "/Users/maxlee/dsci552/virtual_env/lib/python3.7/site-packages/sklearn/model_selection/_validation.py:593: UserWarning: With alpha=0, this algorithm does not converge well. You are advised to use the LinearRegression estimator\n",
      "  estimator.fit(X_train, y_train, **fit_params)\n",
      "/Users/maxlee/dsci552/virtual_env/lib/python3.7/site-packages/sklearn/linear_model/_coordinate_descent.py:532: UserWarning: Coordinate descent with no regularization may lead to unexpected results and is discouraged.\n",
      "  positive)\n",
      "/Users/maxlee/dsci552/virtual_env/lib/python3.7/site-packages/sklearn/linear_model/_coordinate_descent.py:532: ConvergenceWarning: Objective did not converge. You might want to increase the number of iterations. Duality gap: 1628.5427308180208, tolerance: 0.5349171739935896\n",
      "  positive)\n",
      "/Users/maxlee/dsci552/virtual_env/lib/python3.7/site-packages/sklearn/model_selection/_validation.py:593: UserWarning: With alpha=0, this algorithm does not converge well. You are advised to use the LinearRegression estimator\n",
      "  estimator.fit(X_train, y_train, **fit_params)\n",
      "/Users/maxlee/dsci552/virtual_env/lib/python3.7/site-packages/sklearn/linear_model/_coordinate_descent.py:532: UserWarning: Coordinate descent with no regularization may lead to unexpected results and is discouraged.\n",
      "  positive)\n",
      "/Users/maxlee/dsci552/virtual_env/lib/python3.7/site-packages/sklearn/linear_model/_coordinate_descent.py:532: ConvergenceWarning: Objective did not converge. You might want to increase the number of iterations. Duality gap: 1592.283006464256, tolerance: 0.5259827255439801\n",
      "  positive)\n",
      "/Users/maxlee/dsci552/virtual_env/lib/python3.7/site-packages/sklearn/model_selection/_validation.py:593: UserWarning: With alpha=0, this algorithm does not converge well. You are advised to use the LinearRegression estimator\n",
      "  estimator.fit(X_train, y_train, **fit_params)\n",
      "/Users/maxlee/dsci552/virtual_env/lib/python3.7/site-packages/sklearn/linear_model/_coordinate_descent.py:532: UserWarning: Coordinate descent with no regularization may lead to unexpected results and is discouraged.\n",
      "  positive)\n",
      "/Users/maxlee/dsci552/virtual_env/lib/python3.7/site-packages/sklearn/linear_model/_coordinate_descent.py:532: ConvergenceWarning: Objective did not converge. You might want to increase the number of iterations. Duality gap: 1646.0526709611286, tolerance: 0.543919674493815\n",
      "  positive)\n",
      "/Users/maxlee/dsci552/virtual_env/lib/python3.7/site-packages/sklearn/model_selection/_validation.py:593: UserWarning: With alpha=0, this algorithm does not converge well. You are advised to use the LinearRegression estimator\n",
      "  estimator.fit(X_train, y_train, **fit_params)\n",
      "/Users/maxlee/dsci552/virtual_env/lib/python3.7/site-packages/sklearn/linear_model/_coordinate_descent.py:532: UserWarning: Coordinate descent with no regularization may lead to unexpected results and is discouraged.\n",
      "  positive)\n",
      "/Users/maxlee/dsci552/virtual_env/lib/python3.7/site-packages/sklearn/linear_model/_coordinate_descent.py:532: ConvergenceWarning: Objective did not converge. You might want to increase the number of iterations. Duality gap: 1602.955075848672, tolerance: 0.5294924533255315\n",
      "  positive)\n",
      "/Users/maxlee/dsci552/virtual_env/lib/python3.7/site-packages/sklearn/model_selection/_validation.py:593: UserWarning: With alpha=0, this algorithm does not converge well. You are advised to use the LinearRegression estimator\n",
      "  estimator.fit(X_train, y_train, **fit_params)\n",
      "/Users/maxlee/dsci552/virtual_env/lib/python3.7/site-packages/sklearn/linear_model/_coordinate_descent.py:532: UserWarning: Coordinate descent with no regularization may lead to unexpected results and is discouraged.\n",
      "  positive)\n",
      "/Users/maxlee/dsci552/virtual_env/lib/python3.7/site-packages/sklearn/linear_model/_coordinate_descent.py:532: ConvergenceWarning: Objective did not converge. You might want to increase the number of iterations. Duality gap: 1662.1649778984568, tolerance: 0.538544683582582\n",
      "  positive)\n",
      "/Users/maxlee/dsci552/virtual_env/lib/python3.7/site-packages/sklearn/model_selection/_validation.py:593: UserWarning: With alpha=0, this algorithm does not converge well. You are advised to use the LinearRegression estimator\n",
      "  estimator.fit(X_train, y_train, **fit_params)\n",
      "/Users/maxlee/dsci552/virtual_env/lib/python3.7/site-packages/sklearn/linear_model/_coordinate_descent.py:532: UserWarning: Coordinate descent with no regularization may lead to unexpected results and is discouraged.\n",
      "  positive)\n"
     ]
    },
    {
     "name": "stderr",
     "output_type": "stream",
     "text": [
      "/Users/maxlee/dsci552/virtual_env/lib/python3.7/site-packages/sklearn/linear_model/_coordinate_descent.py:532: ConvergenceWarning: Objective did not converge. You might want to increase the number of iterations. Duality gap: 1628.5427308180208, tolerance: 0.5349171739935896\n",
      "  positive)\n",
      "/Users/maxlee/dsci552/virtual_env/lib/python3.7/site-packages/sklearn/model_selection/_validation.py:593: UserWarning: With alpha=0, this algorithm does not converge well. You are advised to use the LinearRegression estimator\n",
      "  estimator.fit(X_train, y_train, **fit_params)\n",
      "/Users/maxlee/dsci552/virtual_env/lib/python3.7/site-packages/sklearn/linear_model/_coordinate_descent.py:532: UserWarning: Coordinate descent with no regularization may lead to unexpected results and is discouraged.\n",
      "  positive)\n",
      "/Users/maxlee/dsci552/virtual_env/lib/python3.7/site-packages/sklearn/linear_model/_coordinate_descent.py:532: ConvergenceWarning: Objective did not converge. You might want to increase the number of iterations. Duality gap: 1592.283006464256, tolerance: 0.5259827255439801\n",
      "  positive)\n",
      "/Users/maxlee/dsci552/virtual_env/lib/python3.7/site-packages/sklearn/model_selection/_validation.py:593: UserWarning: With alpha=0, this algorithm does not converge well. You are advised to use the LinearRegression estimator\n",
      "  estimator.fit(X_train, y_train, **fit_params)\n",
      "/Users/maxlee/dsci552/virtual_env/lib/python3.7/site-packages/sklearn/linear_model/_coordinate_descent.py:532: UserWarning: Coordinate descent with no regularization may lead to unexpected results and is discouraged.\n",
      "  positive)\n",
      "/Users/maxlee/dsci552/virtual_env/lib/python3.7/site-packages/sklearn/linear_model/_coordinate_descent.py:532: ConvergenceWarning: Objective did not converge. You might want to increase the number of iterations. Duality gap: 1646.0526709611286, tolerance: 0.543919674493815\n",
      "  positive)\n",
      "/Users/maxlee/dsci552/virtual_env/lib/python3.7/site-packages/sklearn/model_selection/_validation.py:593: UserWarning: With alpha=0, this algorithm does not converge well. You are advised to use the LinearRegression estimator\n",
      "  estimator.fit(X_train, y_train, **fit_params)\n",
      "/Users/maxlee/dsci552/virtual_env/lib/python3.7/site-packages/sklearn/linear_model/_coordinate_descent.py:532: UserWarning: Coordinate descent with no regularization may lead to unexpected results and is discouraged.\n",
      "  positive)\n",
      "/Users/maxlee/dsci552/virtual_env/lib/python3.7/site-packages/sklearn/linear_model/_coordinate_descent.py:532: ConvergenceWarning: Objective did not converge. You might want to increase the number of iterations. Duality gap: 1602.955075848672, tolerance: 0.5294924533255315\n",
      "  positive)\n",
      "/Users/maxlee/dsci552/virtual_env/lib/python3.7/site-packages/sklearn/model_selection/_validation.py:593: UserWarning: With alpha=0, this algorithm does not converge well. You are advised to use the LinearRegression estimator\n",
      "  estimator.fit(X_train, y_train, **fit_params)\n",
      "/Users/maxlee/dsci552/virtual_env/lib/python3.7/site-packages/sklearn/linear_model/_coordinate_descent.py:532: UserWarning: Coordinate descent with no regularization may lead to unexpected results and is discouraged.\n",
      "  positive)\n",
      "/Users/maxlee/dsci552/virtual_env/lib/python3.7/site-packages/sklearn/linear_model/_coordinate_descent.py:532: ConvergenceWarning: Objective did not converge. You might want to increase the number of iterations. Duality gap: 1662.1649778984568, tolerance: 0.538544683582582\n",
      "  positive)\n",
      "/Users/maxlee/dsci552/virtual_env/lib/python3.7/site-packages/sklearn/model_selection/_validation.py:593: UserWarning: With alpha=0, this algorithm does not converge well. You are advised to use the LinearRegression estimator\n",
      "  estimator.fit(X_train, y_train, **fit_params)\n",
      "/Users/maxlee/dsci552/virtual_env/lib/python3.7/site-packages/sklearn/linear_model/_coordinate_descent.py:532: UserWarning: Coordinate descent with no regularization may lead to unexpected results and is discouraged.\n",
      "  positive)\n",
      "/Users/maxlee/dsci552/virtual_env/lib/python3.7/site-packages/sklearn/linear_model/_coordinate_descent.py:532: ConvergenceWarning: Objective did not converge. You might want to increase the number of iterations. Duality gap: 1628.5427308180208, tolerance: 0.5349171739935896\n",
      "  positive)\n",
      "/Users/maxlee/dsci552/virtual_env/lib/python3.7/site-packages/sklearn/model_selection/_validation.py:593: UserWarning: With alpha=0, this algorithm does not converge well. You are advised to use the LinearRegression estimator\n",
      "  estimator.fit(X_train, y_train, **fit_params)\n",
      "/Users/maxlee/dsci552/virtual_env/lib/python3.7/site-packages/sklearn/linear_model/_coordinate_descent.py:532: UserWarning: Coordinate descent with no regularization may lead to unexpected results and is discouraged.\n",
      "  positive)\n",
      "/Users/maxlee/dsci552/virtual_env/lib/python3.7/site-packages/sklearn/linear_model/_coordinate_descent.py:532: ConvergenceWarning: Objective did not converge. You might want to increase the number of iterations. Duality gap: 1592.283006464256, tolerance: 0.5259827255439801\n",
      "  positive)\n",
      "/Users/maxlee/dsci552/virtual_env/lib/python3.7/site-packages/sklearn/model_selection/_validation.py:593: UserWarning: With alpha=0, this algorithm does not converge well. You are advised to use the LinearRegression estimator\n",
      "  estimator.fit(X_train, y_train, **fit_params)\n",
      "/Users/maxlee/dsci552/virtual_env/lib/python3.7/site-packages/sklearn/linear_model/_coordinate_descent.py:532: UserWarning: Coordinate descent with no regularization may lead to unexpected results and is discouraged.\n",
      "  positive)\n",
      "/Users/maxlee/dsci552/virtual_env/lib/python3.7/site-packages/sklearn/linear_model/_coordinate_descent.py:532: ConvergenceWarning: Objective did not converge. You might want to increase the number of iterations. Duality gap: 1646.0526709611286, tolerance: 0.543919674493815\n",
      "  positive)\n",
      "/Users/maxlee/dsci552/virtual_env/lib/python3.7/site-packages/sklearn/model_selection/_validation.py:593: UserWarning: With alpha=0, this algorithm does not converge well. You are advised to use the LinearRegression estimator\n",
      "  estimator.fit(X_train, y_train, **fit_params)\n",
      "/Users/maxlee/dsci552/virtual_env/lib/python3.7/site-packages/sklearn/linear_model/_coordinate_descent.py:532: UserWarning: Coordinate descent with no regularization may lead to unexpected results and is discouraged.\n",
      "  positive)\n",
      "/Users/maxlee/dsci552/virtual_env/lib/python3.7/site-packages/sklearn/linear_model/_coordinate_descent.py:532: ConvergenceWarning: Objective did not converge. You might want to increase the number of iterations. Duality gap: 1602.955075848672, tolerance: 0.5294924533255315\n",
      "  positive)\n",
      "/Users/maxlee/dsci552/virtual_env/lib/python3.7/site-packages/sklearn/model_selection/_validation.py:593: UserWarning: With alpha=0, this algorithm does not converge well. You are advised to use the LinearRegression estimator\n",
      "  estimator.fit(X_train, y_train, **fit_params)\n",
      "/Users/maxlee/dsci552/virtual_env/lib/python3.7/site-packages/sklearn/linear_model/_coordinate_descent.py:532: UserWarning: Coordinate descent with no regularization may lead to unexpected results and is discouraged.\n",
      "  positive)\n",
      "/Users/maxlee/dsci552/virtual_env/lib/python3.7/site-packages/sklearn/linear_model/_coordinate_descent.py:532: ConvergenceWarning: Objective did not converge. You might want to increase the number of iterations. Duality gap: 1662.1649778984568, tolerance: 0.538544683582582\n",
      "  positive)\n",
      "/Users/maxlee/dsci552/virtual_env/lib/python3.7/site-packages/sklearn/model_selection/_validation.py:593: UserWarning: With alpha=0, this algorithm does not converge well. You are advised to use the LinearRegression estimator\n",
      "  estimator.fit(X_train, y_train, **fit_params)\n",
      "/Users/maxlee/dsci552/virtual_env/lib/python3.7/site-packages/sklearn/linear_model/_coordinate_descent.py:532: UserWarning: Coordinate descent with no regularization may lead to unexpected results and is discouraged.\n",
      "  positive)\n",
      "/Users/maxlee/dsci552/virtual_env/lib/python3.7/site-packages/sklearn/linear_model/_coordinate_descent.py:532: ConvergenceWarning: Objective did not converge. You might want to increase the number of iterations. Duality gap: 1628.5427308180208, tolerance: 0.5349171739935896\n",
      "  positive)\n",
      "/Users/maxlee/dsci552/virtual_env/lib/python3.7/site-packages/sklearn/model_selection/_validation.py:593: UserWarning: With alpha=0, this algorithm does not converge well. You are advised to use the LinearRegression estimator\n",
      "  estimator.fit(X_train, y_train, **fit_params)\n",
      "/Users/maxlee/dsci552/virtual_env/lib/python3.7/site-packages/sklearn/linear_model/_coordinate_descent.py:532: UserWarning: Coordinate descent with no regularization may lead to unexpected results and is discouraged.\n",
      "  positive)\n",
      "/Users/maxlee/dsci552/virtual_env/lib/python3.7/site-packages/sklearn/linear_model/_coordinate_descent.py:532: ConvergenceWarning: Objective did not converge. You might want to increase the number of iterations. Duality gap: 1592.283006464256, tolerance: 0.5259827255439801\n",
      "  positive)\n"
     ]
    },
    {
     "name": "stderr",
     "output_type": "stream",
     "text": [
      "/Users/maxlee/dsci552/virtual_env/lib/python3.7/site-packages/sklearn/model_selection/_validation.py:593: UserWarning: With alpha=0, this algorithm does not converge well. You are advised to use the LinearRegression estimator\n",
      "  estimator.fit(X_train, y_train, **fit_params)\n",
      "/Users/maxlee/dsci552/virtual_env/lib/python3.7/site-packages/sklearn/linear_model/_coordinate_descent.py:532: UserWarning: Coordinate descent with no regularization may lead to unexpected results and is discouraged.\n",
      "  positive)\n",
      "/Users/maxlee/dsci552/virtual_env/lib/python3.7/site-packages/sklearn/linear_model/_coordinate_descent.py:532: ConvergenceWarning: Objective did not converge. You might want to increase the number of iterations. Duality gap: 1646.0526709611286, tolerance: 0.543919674493815\n",
      "  positive)\n",
      "/Users/maxlee/dsci552/virtual_env/lib/python3.7/site-packages/sklearn/model_selection/_validation.py:593: UserWarning: With alpha=0, this algorithm does not converge well. You are advised to use the LinearRegression estimator\n",
      "  estimator.fit(X_train, y_train, **fit_params)\n",
      "/Users/maxlee/dsci552/virtual_env/lib/python3.7/site-packages/sklearn/linear_model/_coordinate_descent.py:532: UserWarning: Coordinate descent with no regularization may lead to unexpected results and is discouraged.\n",
      "  positive)\n",
      "/Users/maxlee/dsci552/virtual_env/lib/python3.7/site-packages/sklearn/linear_model/_coordinate_descent.py:532: ConvergenceWarning: Objective did not converge. You might want to increase the number of iterations. Duality gap: 1602.955075848672, tolerance: 0.5294924533255315\n",
      "  positive)\n",
      "/Users/maxlee/dsci552/virtual_env/lib/python3.7/site-packages/sklearn/model_selection/_validation.py:593: UserWarning: With alpha=0, this algorithm does not converge well. You are advised to use the LinearRegression estimator\n",
      "  estimator.fit(X_train, y_train, **fit_params)\n",
      "/Users/maxlee/dsci552/virtual_env/lib/python3.7/site-packages/sklearn/linear_model/_coordinate_descent.py:532: UserWarning: Coordinate descent with no regularization may lead to unexpected results and is discouraged.\n",
      "  positive)\n",
      "/Users/maxlee/dsci552/virtual_env/lib/python3.7/site-packages/sklearn/linear_model/_coordinate_descent.py:532: ConvergenceWarning: Objective did not converge. You might want to increase the number of iterations. Duality gap: 1662.1649778984568, tolerance: 0.538544683582582\n",
      "  positive)\n",
      "/Users/maxlee/dsci552/virtual_env/lib/python3.7/site-packages/sklearn/model_selection/_validation.py:593: UserWarning: With alpha=0, this algorithm does not converge well. You are advised to use the LinearRegression estimator\n",
      "  estimator.fit(X_train, y_train, **fit_params)\n",
      "/Users/maxlee/dsci552/virtual_env/lib/python3.7/site-packages/sklearn/linear_model/_coordinate_descent.py:532: UserWarning: Coordinate descent with no regularization may lead to unexpected results and is discouraged.\n",
      "  positive)\n",
      "/Users/maxlee/dsci552/virtual_env/lib/python3.7/site-packages/sklearn/linear_model/_coordinate_descent.py:532: ConvergenceWarning: Objective did not converge. You might want to increase the number of iterations. Duality gap: 1628.5427308180208, tolerance: 0.5349171739935896\n",
      "  positive)\n",
      "/Users/maxlee/dsci552/virtual_env/lib/python3.7/site-packages/sklearn/model_selection/_validation.py:593: UserWarning: With alpha=0, this algorithm does not converge well. You are advised to use the LinearRegression estimator\n",
      "  estimator.fit(X_train, y_train, **fit_params)\n",
      "/Users/maxlee/dsci552/virtual_env/lib/python3.7/site-packages/sklearn/linear_model/_coordinate_descent.py:532: UserWarning: Coordinate descent with no regularization may lead to unexpected results and is discouraged.\n",
      "  positive)\n",
      "/Users/maxlee/dsci552/virtual_env/lib/python3.7/site-packages/sklearn/linear_model/_coordinate_descent.py:532: ConvergenceWarning: Objective did not converge. You might want to increase the number of iterations. Duality gap: 1592.283006464256, tolerance: 0.5259827255439801\n",
      "  positive)\n",
      "/Users/maxlee/dsci552/virtual_env/lib/python3.7/site-packages/sklearn/model_selection/_validation.py:593: UserWarning: With alpha=0, this algorithm does not converge well. You are advised to use the LinearRegression estimator\n",
      "  estimator.fit(X_train, y_train, **fit_params)\n",
      "/Users/maxlee/dsci552/virtual_env/lib/python3.7/site-packages/sklearn/linear_model/_coordinate_descent.py:532: UserWarning: Coordinate descent with no regularization may lead to unexpected results and is discouraged.\n",
      "  positive)\n",
      "/Users/maxlee/dsci552/virtual_env/lib/python3.7/site-packages/sklearn/linear_model/_coordinate_descent.py:532: ConvergenceWarning: Objective did not converge. You might want to increase the number of iterations. Duality gap: 1646.0526709611286, tolerance: 0.543919674493815\n",
      "  positive)\n",
      "/Users/maxlee/dsci552/virtual_env/lib/python3.7/site-packages/sklearn/model_selection/_validation.py:593: UserWarning: With alpha=0, this algorithm does not converge well. You are advised to use the LinearRegression estimator\n",
      "  estimator.fit(X_train, y_train, **fit_params)\n",
      "/Users/maxlee/dsci552/virtual_env/lib/python3.7/site-packages/sklearn/linear_model/_coordinate_descent.py:532: UserWarning: Coordinate descent with no regularization may lead to unexpected results and is discouraged.\n",
      "  positive)\n",
      "/Users/maxlee/dsci552/virtual_env/lib/python3.7/site-packages/sklearn/linear_model/_coordinate_descent.py:532: ConvergenceWarning: Objective did not converge. You might want to increase the number of iterations. Duality gap: 1602.955075848672, tolerance: 0.5294924533255315\n",
      "  positive)\n",
      "/Users/maxlee/dsci552/virtual_env/lib/python3.7/site-packages/sklearn/model_selection/_validation.py:593: UserWarning: With alpha=0, this algorithm does not converge well. You are advised to use the LinearRegression estimator\n",
      "  estimator.fit(X_train, y_train, **fit_params)\n",
      "/Users/maxlee/dsci552/virtual_env/lib/python3.7/site-packages/sklearn/linear_model/_coordinate_descent.py:532: UserWarning: Coordinate descent with no regularization may lead to unexpected results and is discouraged.\n",
      "  positive)\n",
      "/Users/maxlee/dsci552/virtual_env/lib/python3.7/site-packages/sklearn/linear_model/_coordinate_descent.py:532: ConvergenceWarning: Objective did not converge. You might want to increase the number of iterations. Duality gap: 1662.1649778984568, tolerance: 0.538544683582582\n",
      "  positive)\n",
      "/Users/maxlee/dsci552/virtual_env/lib/python3.7/site-packages/sklearn/model_selection/_validation.py:593: UserWarning: With alpha=0, this algorithm does not converge well. You are advised to use the LinearRegression estimator\n",
      "  estimator.fit(X_train, y_train, **fit_params)\n",
      "/Users/maxlee/dsci552/virtual_env/lib/python3.7/site-packages/sklearn/linear_model/_coordinate_descent.py:532: UserWarning: Coordinate descent with no regularization may lead to unexpected results and is discouraged.\n",
      "  positive)\n",
      "/Users/maxlee/dsci552/virtual_env/lib/python3.7/site-packages/sklearn/linear_model/_coordinate_descent.py:532: ConvergenceWarning: Objective did not converge. You might want to increase the number of iterations. Duality gap: 1628.5427308180208, tolerance: 0.5349171739935896\n",
      "  positive)\n",
      "/Users/maxlee/dsci552/virtual_env/lib/python3.7/site-packages/sklearn/model_selection/_validation.py:593: UserWarning: With alpha=0, this algorithm does not converge well. You are advised to use the LinearRegression estimator\n",
      "  estimator.fit(X_train, y_train, **fit_params)\n",
      "/Users/maxlee/dsci552/virtual_env/lib/python3.7/site-packages/sklearn/linear_model/_coordinate_descent.py:532: UserWarning: Coordinate descent with no regularization may lead to unexpected results and is discouraged.\n",
      "  positive)\n",
      "/Users/maxlee/dsci552/virtual_env/lib/python3.7/site-packages/sklearn/linear_model/_coordinate_descent.py:532: ConvergenceWarning: Objective did not converge. You might want to increase the number of iterations. Duality gap: 1592.283006464256, tolerance: 0.5259827255439801\n",
      "  positive)\n",
      "/Users/maxlee/dsci552/virtual_env/lib/python3.7/site-packages/sklearn/model_selection/_validation.py:593: UserWarning: With alpha=0, this algorithm does not converge well. You are advised to use the LinearRegression estimator\n",
      "  estimator.fit(X_train, y_train, **fit_params)\n",
      "/Users/maxlee/dsci552/virtual_env/lib/python3.7/site-packages/sklearn/linear_model/_coordinate_descent.py:532: UserWarning: Coordinate descent with no regularization may lead to unexpected results and is discouraged.\n",
      "  positive)\n",
      "/Users/maxlee/dsci552/virtual_env/lib/python3.7/site-packages/sklearn/linear_model/_coordinate_descent.py:532: ConvergenceWarning: Objective did not converge. You might want to increase the number of iterations. Duality gap: 1646.0526709611286, tolerance: 0.543919674493815\n",
      "  positive)\n"
     ]
    },
    {
     "name": "stderr",
     "output_type": "stream",
     "text": [
      "/Users/maxlee/dsci552/virtual_env/lib/python3.7/site-packages/sklearn/model_selection/_validation.py:593: UserWarning: With alpha=0, this algorithm does not converge well. You are advised to use the LinearRegression estimator\n",
      "  estimator.fit(X_train, y_train, **fit_params)\n",
      "/Users/maxlee/dsci552/virtual_env/lib/python3.7/site-packages/sklearn/linear_model/_coordinate_descent.py:532: UserWarning: Coordinate descent with no regularization may lead to unexpected results and is discouraged.\n",
      "  positive)\n",
      "/Users/maxlee/dsci552/virtual_env/lib/python3.7/site-packages/sklearn/linear_model/_coordinate_descent.py:532: ConvergenceWarning: Objective did not converge. You might want to increase the number of iterations. Duality gap: 1602.955075848672, tolerance: 0.5294924533255315\n",
      "  positive)\n",
      "/Users/maxlee/dsci552/virtual_env/lib/python3.7/site-packages/sklearn/model_selection/_validation.py:593: UserWarning: With alpha=0, this algorithm does not converge well. You are advised to use the LinearRegression estimator\n",
      "  estimator.fit(X_train, y_train, **fit_params)\n",
      "/Users/maxlee/dsci552/virtual_env/lib/python3.7/site-packages/sklearn/linear_model/_coordinate_descent.py:532: UserWarning: Coordinate descent with no regularization may lead to unexpected results and is discouraged.\n",
      "  positive)\n",
      "/Users/maxlee/dsci552/virtual_env/lib/python3.7/site-packages/sklearn/linear_model/_coordinate_descent.py:532: ConvergenceWarning: Objective did not converge. You might want to increase the number of iterations. Duality gap: 1662.1649778984568, tolerance: 0.538544683582582\n",
      "  positive)\n",
      "/Users/maxlee/dsci552/virtual_env/lib/python3.7/site-packages/sklearn/model_selection/_validation.py:593: UserWarning: With alpha=0, this algorithm does not converge well. You are advised to use the LinearRegression estimator\n",
      "  estimator.fit(X_train, y_train, **fit_params)\n",
      "/Users/maxlee/dsci552/virtual_env/lib/python3.7/site-packages/sklearn/linear_model/_coordinate_descent.py:532: UserWarning: Coordinate descent with no regularization may lead to unexpected results and is discouraged.\n",
      "  positive)\n",
      "/Users/maxlee/dsci552/virtual_env/lib/python3.7/site-packages/sklearn/linear_model/_coordinate_descent.py:532: ConvergenceWarning: Objective did not converge. You might want to increase the number of iterations. Duality gap: 1628.5427308180208, tolerance: 0.5349171739935896\n",
      "  positive)\n",
      "/Users/maxlee/dsci552/virtual_env/lib/python3.7/site-packages/sklearn/model_selection/_validation.py:593: UserWarning: With alpha=0, this algorithm does not converge well. You are advised to use the LinearRegression estimator\n",
      "  estimator.fit(X_train, y_train, **fit_params)\n",
      "/Users/maxlee/dsci552/virtual_env/lib/python3.7/site-packages/sklearn/linear_model/_coordinate_descent.py:532: UserWarning: Coordinate descent with no regularization may lead to unexpected results and is discouraged.\n",
      "  positive)\n",
      "/Users/maxlee/dsci552/virtual_env/lib/python3.7/site-packages/sklearn/linear_model/_coordinate_descent.py:532: ConvergenceWarning: Objective did not converge. You might want to increase the number of iterations. Duality gap: 1592.283006464256, tolerance: 0.5259827255439801\n",
      "  positive)\n",
      "/Users/maxlee/dsci552/virtual_env/lib/python3.7/site-packages/sklearn/model_selection/_validation.py:593: UserWarning: With alpha=0, this algorithm does not converge well. You are advised to use the LinearRegression estimator\n",
      "  estimator.fit(X_train, y_train, **fit_params)\n",
      "/Users/maxlee/dsci552/virtual_env/lib/python3.7/site-packages/sklearn/linear_model/_coordinate_descent.py:532: UserWarning: Coordinate descent with no regularization may lead to unexpected results and is discouraged.\n",
      "  positive)\n",
      "/Users/maxlee/dsci552/virtual_env/lib/python3.7/site-packages/sklearn/linear_model/_coordinate_descent.py:532: ConvergenceWarning: Objective did not converge. You might want to increase the number of iterations. Duality gap: 1646.0526709611286, tolerance: 0.543919674493815\n",
      "  positive)\n",
      "/Users/maxlee/dsci552/virtual_env/lib/python3.7/site-packages/sklearn/model_selection/_validation.py:593: UserWarning: With alpha=0, this algorithm does not converge well. You are advised to use the LinearRegression estimator\n",
      "  estimator.fit(X_train, y_train, **fit_params)\n",
      "/Users/maxlee/dsci552/virtual_env/lib/python3.7/site-packages/sklearn/linear_model/_coordinate_descent.py:532: UserWarning: Coordinate descent with no regularization may lead to unexpected results and is discouraged.\n",
      "  positive)\n",
      "/Users/maxlee/dsci552/virtual_env/lib/python3.7/site-packages/sklearn/linear_model/_coordinate_descent.py:532: ConvergenceWarning: Objective did not converge. You might want to increase the number of iterations. Duality gap: 1602.955075848672, tolerance: 0.5294924533255315\n",
      "  positive)\n",
      "/Users/maxlee/dsci552/virtual_env/lib/python3.7/site-packages/sklearn/model_selection/_validation.py:593: UserWarning: With alpha=0, this algorithm does not converge well. You are advised to use the LinearRegression estimator\n",
      "  estimator.fit(X_train, y_train, **fit_params)\n",
      "/Users/maxlee/dsci552/virtual_env/lib/python3.7/site-packages/sklearn/linear_model/_coordinate_descent.py:532: UserWarning: Coordinate descent with no regularization may lead to unexpected results and is discouraged.\n",
      "  positive)\n",
      "/Users/maxlee/dsci552/virtual_env/lib/python3.7/site-packages/sklearn/linear_model/_coordinate_descent.py:532: ConvergenceWarning: Objective did not converge. You might want to increase the number of iterations. Duality gap: 1662.1649778984568, tolerance: 0.538544683582582\n",
      "  positive)\n",
      "/Users/maxlee/dsci552/virtual_env/lib/python3.7/site-packages/sklearn/model_selection/_validation.py:593: UserWarning: With alpha=0, this algorithm does not converge well. You are advised to use the LinearRegression estimator\n",
      "  estimator.fit(X_train, y_train, **fit_params)\n",
      "/Users/maxlee/dsci552/virtual_env/lib/python3.7/site-packages/sklearn/linear_model/_coordinate_descent.py:532: UserWarning: Coordinate descent with no regularization may lead to unexpected results and is discouraged.\n",
      "  positive)\n",
      "/Users/maxlee/dsci552/virtual_env/lib/python3.7/site-packages/sklearn/linear_model/_coordinate_descent.py:532: ConvergenceWarning: Objective did not converge. You might want to increase the number of iterations. Duality gap: 1628.5427308180208, tolerance: 0.5349171739935896\n",
      "  positive)\n",
      "/Users/maxlee/dsci552/virtual_env/lib/python3.7/site-packages/sklearn/model_selection/_validation.py:593: UserWarning: With alpha=0, this algorithm does not converge well. You are advised to use the LinearRegression estimator\n",
      "  estimator.fit(X_train, y_train, **fit_params)\n",
      "/Users/maxlee/dsci552/virtual_env/lib/python3.7/site-packages/sklearn/linear_model/_coordinate_descent.py:532: UserWarning: Coordinate descent with no regularization may lead to unexpected results and is discouraged.\n",
      "  positive)\n",
      "/Users/maxlee/dsci552/virtual_env/lib/python3.7/site-packages/sklearn/linear_model/_coordinate_descent.py:532: ConvergenceWarning: Objective did not converge. You might want to increase the number of iterations. Duality gap: 1592.283006464256, tolerance: 0.5259827255439801\n",
      "  positive)\n",
      "/Users/maxlee/dsci552/virtual_env/lib/python3.7/site-packages/sklearn/model_selection/_validation.py:593: UserWarning: With alpha=0, this algorithm does not converge well. You are advised to use the LinearRegression estimator\n",
      "  estimator.fit(X_train, y_train, **fit_params)\n",
      "/Users/maxlee/dsci552/virtual_env/lib/python3.7/site-packages/sklearn/linear_model/_coordinate_descent.py:532: UserWarning: Coordinate descent with no regularization may lead to unexpected results and is discouraged.\n",
      "  positive)\n",
      "/Users/maxlee/dsci552/virtual_env/lib/python3.7/site-packages/sklearn/linear_model/_coordinate_descent.py:532: ConvergenceWarning: Objective did not converge. You might want to increase the number of iterations. Duality gap: 1646.0526709611286, tolerance: 0.543919674493815\n",
      "  positive)\n",
      "/Users/maxlee/dsci552/virtual_env/lib/python3.7/site-packages/sklearn/model_selection/_validation.py:593: UserWarning: With alpha=0, this algorithm does not converge well. You are advised to use the LinearRegression estimator\n",
      "  estimator.fit(X_train, y_train, **fit_params)\n",
      "/Users/maxlee/dsci552/virtual_env/lib/python3.7/site-packages/sklearn/linear_model/_coordinate_descent.py:532: UserWarning: Coordinate descent with no regularization may lead to unexpected results and is discouraged.\n",
      "  positive)\n",
      "/Users/maxlee/dsci552/virtual_env/lib/python3.7/site-packages/sklearn/linear_model/_coordinate_descent.py:532: ConvergenceWarning: Objective did not converge. You might want to increase the number of iterations. Duality gap: 1602.955075848672, tolerance: 0.5294924533255315\n",
      "  positive)\n"
     ]
    },
    {
     "name": "stderr",
     "output_type": "stream",
     "text": [
      "/Users/maxlee/dsci552/virtual_env/lib/python3.7/site-packages/sklearn/model_selection/_validation.py:593: UserWarning: With alpha=0, this algorithm does not converge well. You are advised to use the LinearRegression estimator\n",
      "  estimator.fit(X_train, y_train, **fit_params)\n",
      "/Users/maxlee/dsci552/virtual_env/lib/python3.7/site-packages/sklearn/linear_model/_coordinate_descent.py:532: UserWarning: Coordinate descent with no regularization may lead to unexpected results and is discouraged.\n",
      "  positive)\n",
      "/Users/maxlee/dsci552/virtual_env/lib/python3.7/site-packages/sklearn/linear_model/_coordinate_descent.py:532: ConvergenceWarning: Objective did not converge. You might want to increase the number of iterations. Duality gap: 1662.1649778984568, tolerance: 0.538544683582582\n",
      "  positive)\n",
      "/Users/maxlee/dsci552/virtual_env/lib/python3.7/site-packages/sklearn/model_selection/_validation.py:593: UserWarning: With alpha=0, this algorithm does not converge well. You are advised to use the LinearRegression estimator\n",
      "  estimator.fit(X_train, y_train, **fit_params)\n",
      "/Users/maxlee/dsci552/virtual_env/lib/python3.7/site-packages/sklearn/linear_model/_coordinate_descent.py:532: UserWarning: Coordinate descent with no regularization may lead to unexpected results and is discouraged.\n",
      "  positive)\n",
      "/Users/maxlee/dsci552/virtual_env/lib/python3.7/site-packages/sklearn/linear_model/_coordinate_descent.py:532: ConvergenceWarning: Objective did not converge. You might want to increase the number of iterations. Duality gap: 1628.5427308180208, tolerance: 0.5349171739935896\n",
      "  positive)\n",
      "/Users/maxlee/dsci552/virtual_env/lib/python3.7/site-packages/sklearn/model_selection/_validation.py:593: UserWarning: With alpha=0, this algorithm does not converge well. You are advised to use the LinearRegression estimator\n",
      "  estimator.fit(X_train, y_train, **fit_params)\n",
      "/Users/maxlee/dsci552/virtual_env/lib/python3.7/site-packages/sklearn/linear_model/_coordinate_descent.py:532: UserWarning: Coordinate descent with no regularization may lead to unexpected results and is discouraged.\n",
      "  positive)\n",
      "/Users/maxlee/dsci552/virtual_env/lib/python3.7/site-packages/sklearn/linear_model/_coordinate_descent.py:532: ConvergenceWarning: Objective did not converge. You might want to increase the number of iterations. Duality gap: 1592.283006464256, tolerance: 0.5259827255439801\n",
      "  positive)\n",
      "/Users/maxlee/dsci552/virtual_env/lib/python3.7/site-packages/sklearn/model_selection/_validation.py:593: UserWarning: With alpha=0, this algorithm does not converge well. You are advised to use the LinearRegression estimator\n",
      "  estimator.fit(X_train, y_train, **fit_params)\n",
      "/Users/maxlee/dsci552/virtual_env/lib/python3.7/site-packages/sklearn/linear_model/_coordinate_descent.py:532: UserWarning: Coordinate descent with no regularization may lead to unexpected results and is discouraged.\n",
      "  positive)\n",
      "/Users/maxlee/dsci552/virtual_env/lib/python3.7/site-packages/sklearn/linear_model/_coordinate_descent.py:532: ConvergenceWarning: Objective did not converge. You might want to increase the number of iterations. Duality gap: 1646.0526709611286, tolerance: 0.543919674493815\n",
      "  positive)\n",
      "/Users/maxlee/dsci552/virtual_env/lib/python3.7/site-packages/sklearn/model_selection/_validation.py:593: UserWarning: With alpha=0, this algorithm does not converge well. You are advised to use the LinearRegression estimator\n",
      "  estimator.fit(X_train, y_train, **fit_params)\n",
      "/Users/maxlee/dsci552/virtual_env/lib/python3.7/site-packages/sklearn/linear_model/_coordinate_descent.py:532: UserWarning: Coordinate descent with no regularization may lead to unexpected results and is discouraged.\n",
      "  positive)\n",
      "/Users/maxlee/dsci552/virtual_env/lib/python3.7/site-packages/sklearn/linear_model/_coordinate_descent.py:532: ConvergenceWarning: Objective did not converge. You might want to increase the number of iterations. Duality gap: 1602.955075848672, tolerance: 0.5294924533255315\n",
      "  positive)\n",
      "/Users/maxlee/dsci552/virtual_env/lib/python3.7/site-packages/sklearn/model_selection/_validation.py:593: UserWarning: With alpha=0, this algorithm does not converge well. You are advised to use the LinearRegression estimator\n",
      "  estimator.fit(X_train, y_train, **fit_params)\n",
      "/Users/maxlee/dsci552/virtual_env/lib/python3.7/site-packages/sklearn/linear_model/_coordinate_descent.py:532: UserWarning: Coordinate descent with no regularization may lead to unexpected results and is discouraged.\n",
      "  positive)\n",
      "/Users/maxlee/dsci552/virtual_env/lib/python3.7/site-packages/sklearn/linear_model/_coordinate_descent.py:532: ConvergenceWarning: Objective did not converge. You might want to increase the number of iterations. Duality gap: 1662.1649778984568, tolerance: 0.538544683582582\n",
      "  positive)\n",
      "/Users/maxlee/dsci552/virtual_env/lib/python3.7/site-packages/sklearn/model_selection/_validation.py:593: UserWarning: With alpha=0, this algorithm does not converge well. You are advised to use the LinearRegression estimator\n",
      "  estimator.fit(X_train, y_train, **fit_params)\n",
      "/Users/maxlee/dsci552/virtual_env/lib/python3.7/site-packages/sklearn/linear_model/_coordinate_descent.py:532: UserWarning: Coordinate descent with no regularization may lead to unexpected results and is discouraged.\n",
      "  positive)\n",
      "/Users/maxlee/dsci552/virtual_env/lib/python3.7/site-packages/sklearn/linear_model/_coordinate_descent.py:532: ConvergenceWarning: Objective did not converge. You might want to increase the number of iterations. Duality gap: 1628.5427308180208, tolerance: 0.5349171739935896\n",
      "  positive)\n",
      "/Users/maxlee/dsci552/virtual_env/lib/python3.7/site-packages/sklearn/model_selection/_validation.py:593: UserWarning: With alpha=0, this algorithm does not converge well. You are advised to use the LinearRegression estimator\n",
      "  estimator.fit(X_train, y_train, **fit_params)\n",
      "/Users/maxlee/dsci552/virtual_env/lib/python3.7/site-packages/sklearn/linear_model/_coordinate_descent.py:532: UserWarning: Coordinate descent with no regularization may lead to unexpected results and is discouraged.\n",
      "  positive)\n",
      "/Users/maxlee/dsci552/virtual_env/lib/python3.7/site-packages/sklearn/linear_model/_coordinate_descent.py:532: ConvergenceWarning: Objective did not converge. You might want to increase the number of iterations. Duality gap: 1592.283006464256, tolerance: 0.5259827255439801\n",
      "  positive)\n",
      "/Users/maxlee/dsci552/virtual_env/lib/python3.7/site-packages/sklearn/model_selection/_validation.py:593: UserWarning: With alpha=0, this algorithm does not converge well. You are advised to use the LinearRegression estimator\n",
      "  estimator.fit(X_train, y_train, **fit_params)\n",
      "/Users/maxlee/dsci552/virtual_env/lib/python3.7/site-packages/sklearn/linear_model/_coordinate_descent.py:532: UserWarning: Coordinate descent with no regularization may lead to unexpected results and is discouraged.\n",
      "  positive)\n",
      "/Users/maxlee/dsci552/virtual_env/lib/python3.7/site-packages/sklearn/linear_model/_coordinate_descent.py:532: ConvergenceWarning: Objective did not converge. You might want to increase the number of iterations. Duality gap: 1646.0526709611286, tolerance: 0.543919674493815\n",
      "  positive)\n",
      "/Users/maxlee/dsci552/virtual_env/lib/python3.7/site-packages/sklearn/model_selection/_validation.py:593: UserWarning: With alpha=0, this algorithm does not converge well. You are advised to use the LinearRegression estimator\n",
      "  estimator.fit(X_train, y_train, **fit_params)\n",
      "/Users/maxlee/dsci552/virtual_env/lib/python3.7/site-packages/sklearn/linear_model/_coordinate_descent.py:532: UserWarning: Coordinate descent with no regularization may lead to unexpected results and is discouraged.\n",
      "  positive)\n",
      "/Users/maxlee/dsci552/virtual_env/lib/python3.7/site-packages/sklearn/linear_model/_coordinate_descent.py:532: ConvergenceWarning: Objective did not converge. You might want to increase the number of iterations. Duality gap: 1602.955075848672, tolerance: 0.5294924533255315\n",
      "  positive)\n",
      "/Users/maxlee/dsci552/virtual_env/lib/python3.7/site-packages/sklearn/model_selection/_validation.py:593: UserWarning: With alpha=0, this algorithm does not converge well. You are advised to use the LinearRegression estimator\n",
      "  estimator.fit(X_train, y_train, **fit_params)\n",
      "/Users/maxlee/dsci552/virtual_env/lib/python3.7/site-packages/sklearn/linear_model/_coordinate_descent.py:532: UserWarning: Coordinate descent with no regularization may lead to unexpected results and is discouraged.\n",
      "  positive)\n"
     ]
    },
    {
     "name": "stderr",
     "output_type": "stream",
     "text": [
      "/Users/maxlee/dsci552/virtual_env/lib/python3.7/site-packages/sklearn/linear_model/_coordinate_descent.py:532: ConvergenceWarning: Objective did not converge. You might want to increase the number of iterations. Duality gap: 1662.1649778984568, tolerance: 0.538544683582582\n",
      "  positive)\n",
      "/Users/maxlee/dsci552/virtual_env/lib/python3.7/site-packages/sklearn/model_selection/_validation.py:593: UserWarning: With alpha=0, this algorithm does not converge well. You are advised to use the LinearRegression estimator\n",
      "  estimator.fit(X_train, y_train, **fit_params)\n",
      "/Users/maxlee/dsci552/virtual_env/lib/python3.7/site-packages/sklearn/linear_model/_coordinate_descent.py:532: UserWarning: Coordinate descent with no regularization may lead to unexpected results and is discouraged.\n",
      "  positive)\n",
      "/Users/maxlee/dsci552/virtual_env/lib/python3.7/site-packages/sklearn/linear_model/_coordinate_descent.py:532: ConvergenceWarning: Objective did not converge. You might want to increase the number of iterations. Duality gap: 1628.5427308180208, tolerance: 0.5349171739935896\n",
      "  positive)\n",
      "/Users/maxlee/dsci552/virtual_env/lib/python3.7/site-packages/sklearn/model_selection/_validation.py:593: UserWarning: With alpha=0, this algorithm does not converge well. You are advised to use the LinearRegression estimator\n",
      "  estimator.fit(X_train, y_train, **fit_params)\n",
      "/Users/maxlee/dsci552/virtual_env/lib/python3.7/site-packages/sklearn/linear_model/_coordinate_descent.py:532: UserWarning: Coordinate descent with no regularization may lead to unexpected results and is discouraged.\n",
      "  positive)\n",
      "/Users/maxlee/dsci552/virtual_env/lib/python3.7/site-packages/sklearn/linear_model/_coordinate_descent.py:532: ConvergenceWarning: Objective did not converge. You might want to increase the number of iterations. Duality gap: 1592.283006464256, tolerance: 0.5259827255439801\n",
      "  positive)\n",
      "/Users/maxlee/dsci552/virtual_env/lib/python3.7/site-packages/sklearn/model_selection/_validation.py:593: UserWarning: With alpha=0, this algorithm does not converge well. You are advised to use the LinearRegression estimator\n",
      "  estimator.fit(X_train, y_train, **fit_params)\n",
      "/Users/maxlee/dsci552/virtual_env/lib/python3.7/site-packages/sklearn/linear_model/_coordinate_descent.py:532: UserWarning: Coordinate descent with no regularization may lead to unexpected results and is discouraged.\n",
      "  positive)\n",
      "/Users/maxlee/dsci552/virtual_env/lib/python3.7/site-packages/sklearn/linear_model/_coordinate_descent.py:532: ConvergenceWarning: Objective did not converge. You might want to increase the number of iterations. Duality gap: 1646.0526709611286, tolerance: 0.543919674493815\n",
      "  positive)\n",
      "/Users/maxlee/dsci552/virtual_env/lib/python3.7/site-packages/sklearn/model_selection/_validation.py:593: UserWarning: With alpha=0, this algorithm does not converge well. You are advised to use the LinearRegression estimator\n",
      "  estimator.fit(X_train, y_train, **fit_params)\n",
      "/Users/maxlee/dsci552/virtual_env/lib/python3.7/site-packages/sklearn/linear_model/_coordinate_descent.py:532: UserWarning: Coordinate descent with no regularization may lead to unexpected results and is discouraged.\n",
      "  positive)\n",
      "/Users/maxlee/dsci552/virtual_env/lib/python3.7/site-packages/sklearn/linear_model/_coordinate_descent.py:532: ConvergenceWarning: Objective did not converge. You might want to increase the number of iterations. Duality gap: 1602.955075848672, tolerance: 0.5294924533255315\n",
      "  positive)\n",
      "/Users/maxlee/dsci552/virtual_env/lib/python3.7/site-packages/sklearn/model_selection/_validation.py:593: UserWarning: With alpha=0, this algorithm does not converge well. You are advised to use the LinearRegression estimator\n",
      "  estimator.fit(X_train, y_train, **fit_params)\n",
      "/Users/maxlee/dsci552/virtual_env/lib/python3.7/site-packages/sklearn/linear_model/_coordinate_descent.py:532: UserWarning: Coordinate descent with no regularization may lead to unexpected results and is discouraged.\n",
      "  positive)\n",
      "/Users/maxlee/dsci552/virtual_env/lib/python3.7/site-packages/sklearn/linear_model/_coordinate_descent.py:532: ConvergenceWarning: Objective did not converge. You might want to increase the number of iterations. Duality gap: 1662.1649778984568, tolerance: 0.538544683582582\n",
      "  positive)\n",
      "/Users/maxlee/dsci552/virtual_env/lib/python3.7/site-packages/sklearn/model_selection/_validation.py:593: UserWarning: With alpha=0, this algorithm does not converge well. You are advised to use the LinearRegression estimator\n",
      "  estimator.fit(X_train, y_train, **fit_params)\n",
      "/Users/maxlee/dsci552/virtual_env/lib/python3.7/site-packages/sklearn/linear_model/_coordinate_descent.py:532: UserWarning: Coordinate descent with no regularization may lead to unexpected results and is discouraged.\n",
      "  positive)\n",
      "/Users/maxlee/dsci552/virtual_env/lib/python3.7/site-packages/sklearn/linear_model/_coordinate_descent.py:532: ConvergenceWarning: Objective did not converge. You might want to increase the number of iterations. Duality gap: 1628.5427308180208, tolerance: 0.5349171739935896\n",
      "  positive)\n",
      "/Users/maxlee/dsci552/virtual_env/lib/python3.7/site-packages/sklearn/model_selection/_validation.py:593: UserWarning: With alpha=0, this algorithm does not converge well. You are advised to use the LinearRegression estimator\n",
      "  estimator.fit(X_train, y_train, **fit_params)\n",
      "/Users/maxlee/dsci552/virtual_env/lib/python3.7/site-packages/sklearn/linear_model/_coordinate_descent.py:532: UserWarning: Coordinate descent with no regularization may lead to unexpected results and is discouraged.\n",
      "  positive)\n",
      "/Users/maxlee/dsci552/virtual_env/lib/python3.7/site-packages/sklearn/linear_model/_coordinate_descent.py:532: ConvergenceWarning: Objective did not converge. You might want to increase the number of iterations. Duality gap: 1592.283006464256, tolerance: 0.5259827255439801\n",
      "  positive)\n",
      "/Users/maxlee/dsci552/virtual_env/lib/python3.7/site-packages/sklearn/model_selection/_validation.py:593: UserWarning: With alpha=0, this algorithm does not converge well. You are advised to use the LinearRegression estimator\n",
      "  estimator.fit(X_train, y_train, **fit_params)\n",
      "/Users/maxlee/dsci552/virtual_env/lib/python3.7/site-packages/sklearn/linear_model/_coordinate_descent.py:532: UserWarning: Coordinate descent with no regularization may lead to unexpected results and is discouraged.\n",
      "  positive)\n",
      "/Users/maxlee/dsci552/virtual_env/lib/python3.7/site-packages/sklearn/linear_model/_coordinate_descent.py:532: ConvergenceWarning: Objective did not converge. You might want to increase the number of iterations. Duality gap: 1646.0526709611286, tolerance: 0.543919674493815\n",
      "  positive)\n",
      "/Users/maxlee/dsci552/virtual_env/lib/python3.7/site-packages/sklearn/model_selection/_validation.py:593: UserWarning: With alpha=0, this algorithm does not converge well. You are advised to use the LinearRegression estimator\n",
      "  estimator.fit(X_train, y_train, **fit_params)\n",
      "/Users/maxlee/dsci552/virtual_env/lib/python3.7/site-packages/sklearn/linear_model/_coordinate_descent.py:532: UserWarning: Coordinate descent with no regularization may lead to unexpected results and is discouraged.\n",
      "  positive)\n",
      "/Users/maxlee/dsci552/virtual_env/lib/python3.7/site-packages/sklearn/linear_model/_coordinate_descent.py:532: ConvergenceWarning: Objective did not converge. You might want to increase the number of iterations. Duality gap: 1602.955075848672, tolerance: 0.5294924533255315\n",
      "  positive)\n",
      "/Users/maxlee/dsci552/virtual_env/lib/python3.7/site-packages/sklearn/model_selection/_validation.py:593: UserWarning: With alpha=0, this algorithm does not converge well. You are advised to use the LinearRegression estimator\n",
      "  estimator.fit(X_train, y_train, **fit_params)\n",
      "/Users/maxlee/dsci552/virtual_env/lib/python3.7/site-packages/sklearn/linear_model/_coordinate_descent.py:532: UserWarning: Coordinate descent with no regularization may lead to unexpected results and is discouraged.\n",
      "  positive)\n",
      "/Users/maxlee/dsci552/virtual_env/lib/python3.7/site-packages/sklearn/linear_model/_coordinate_descent.py:532: ConvergenceWarning: Objective did not converge. You might want to increase the number of iterations. Duality gap: 1662.1649778984568, tolerance: 0.538544683582582\n",
      "  positive)\n",
      "/Users/maxlee/dsci552/virtual_env/lib/python3.7/site-packages/sklearn/model_selection/_validation.py:593: UserWarning: With alpha=0, this algorithm does not converge well. You are advised to use the LinearRegression estimator\n",
      "  estimator.fit(X_train, y_train, **fit_params)\n",
      "/Users/maxlee/dsci552/virtual_env/lib/python3.7/site-packages/sklearn/linear_model/_coordinate_descent.py:532: UserWarning: Coordinate descent with no regularization may lead to unexpected results and is discouraged.\n",
      "  positive)\n"
     ]
    },
    {
     "name": "stderr",
     "output_type": "stream",
     "text": [
      "/Users/maxlee/dsci552/virtual_env/lib/python3.7/site-packages/sklearn/linear_model/_coordinate_descent.py:532: ConvergenceWarning: Objective did not converge. You might want to increase the number of iterations. Duality gap: 1628.5427308180208, tolerance: 0.5349171739935896\n",
      "  positive)\n",
      "/Users/maxlee/dsci552/virtual_env/lib/python3.7/site-packages/sklearn/model_selection/_validation.py:593: UserWarning: With alpha=0, this algorithm does not converge well. You are advised to use the LinearRegression estimator\n",
      "  estimator.fit(X_train, y_train, **fit_params)\n",
      "/Users/maxlee/dsci552/virtual_env/lib/python3.7/site-packages/sklearn/linear_model/_coordinate_descent.py:532: UserWarning: Coordinate descent with no regularization may lead to unexpected results and is discouraged.\n",
      "  positive)\n",
      "/Users/maxlee/dsci552/virtual_env/lib/python3.7/site-packages/sklearn/linear_model/_coordinate_descent.py:532: ConvergenceWarning: Objective did not converge. You might want to increase the number of iterations. Duality gap: 1592.283006464256, tolerance: 0.5259827255439801\n",
      "  positive)\n",
      "/Users/maxlee/dsci552/virtual_env/lib/python3.7/site-packages/sklearn/model_selection/_validation.py:593: UserWarning: With alpha=0, this algorithm does not converge well. You are advised to use the LinearRegression estimator\n",
      "  estimator.fit(X_train, y_train, **fit_params)\n",
      "/Users/maxlee/dsci552/virtual_env/lib/python3.7/site-packages/sklearn/linear_model/_coordinate_descent.py:532: UserWarning: Coordinate descent with no regularization may lead to unexpected results and is discouraged.\n",
      "  positive)\n",
      "/Users/maxlee/dsci552/virtual_env/lib/python3.7/site-packages/sklearn/linear_model/_coordinate_descent.py:532: ConvergenceWarning: Objective did not converge. You might want to increase the number of iterations. Duality gap: 1646.0526709611286, tolerance: 0.543919674493815\n",
      "  positive)\n",
      "/Users/maxlee/dsci552/virtual_env/lib/python3.7/site-packages/sklearn/model_selection/_validation.py:593: UserWarning: With alpha=0, this algorithm does not converge well. You are advised to use the LinearRegression estimator\n",
      "  estimator.fit(X_train, y_train, **fit_params)\n",
      "/Users/maxlee/dsci552/virtual_env/lib/python3.7/site-packages/sklearn/linear_model/_coordinate_descent.py:532: UserWarning: Coordinate descent with no regularization may lead to unexpected results and is discouraged.\n",
      "  positive)\n",
      "/Users/maxlee/dsci552/virtual_env/lib/python3.7/site-packages/sklearn/linear_model/_coordinate_descent.py:532: ConvergenceWarning: Objective did not converge. You might want to increase the number of iterations. Duality gap: 1602.955075848672, tolerance: 0.5294924533255315\n",
      "  positive)\n",
      "/Users/maxlee/dsci552/virtual_env/lib/python3.7/site-packages/sklearn/model_selection/_validation.py:593: UserWarning: With alpha=0, this algorithm does not converge well. You are advised to use the LinearRegression estimator\n",
      "  estimator.fit(X_train, y_train, **fit_params)\n",
      "/Users/maxlee/dsci552/virtual_env/lib/python3.7/site-packages/sklearn/linear_model/_coordinate_descent.py:532: UserWarning: Coordinate descent with no regularization may lead to unexpected results and is discouraged.\n",
      "  positive)\n",
      "/Users/maxlee/dsci552/virtual_env/lib/python3.7/site-packages/sklearn/linear_model/_coordinate_descent.py:532: ConvergenceWarning: Objective did not converge. You might want to increase the number of iterations. Duality gap: 1662.1649778984568, tolerance: 0.538544683582582\n",
      "  positive)\n",
      "/Users/maxlee/dsci552/virtual_env/lib/python3.7/site-packages/sklearn/model_selection/_validation.py:593: UserWarning: With alpha=0, this algorithm does not converge well. You are advised to use the LinearRegression estimator\n",
      "  estimator.fit(X_train, y_train, **fit_params)\n",
      "/Users/maxlee/dsci552/virtual_env/lib/python3.7/site-packages/sklearn/linear_model/_coordinate_descent.py:532: UserWarning: Coordinate descent with no regularization may lead to unexpected results and is discouraged.\n",
      "  positive)\n",
      "/Users/maxlee/dsci552/virtual_env/lib/python3.7/site-packages/sklearn/linear_model/_coordinate_descent.py:532: ConvergenceWarning: Objective did not converge. You might want to increase the number of iterations. Duality gap: 1628.5427308180208, tolerance: 0.5349171739935896\n",
      "  positive)\n",
      "/Users/maxlee/dsci552/virtual_env/lib/python3.7/site-packages/sklearn/model_selection/_validation.py:593: UserWarning: With alpha=0, this algorithm does not converge well. You are advised to use the LinearRegression estimator\n",
      "  estimator.fit(X_train, y_train, **fit_params)\n",
      "/Users/maxlee/dsci552/virtual_env/lib/python3.7/site-packages/sklearn/linear_model/_coordinate_descent.py:532: UserWarning: Coordinate descent with no regularization may lead to unexpected results and is discouraged.\n",
      "  positive)\n",
      "/Users/maxlee/dsci552/virtual_env/lib/python3.7/site-packages/sklearn/linear_model/_coordinate_descent.py:532: ConvergenceWarning: Objective did not converge. You might want to increase the number of iterations. Duality gap: 1592.283006464256, tolerance: 0.5259827255439801\n",
      "  positive)\n",
      "/Users/maxlee/dsci552/virtual_env/lib/python3.7/site-packages/sklearn/model_selection/_validation.py:593: UserWarning: With alpha=0, this algorithm does not converge well. You are advised to use the LinearRegression estimator\n",
      "  estimator.fit(X_train, y_train, **fit_params)\n",
      "/Users/maxlee/dsci552/virtual_env/lib/python3.7/site-packages/sklearn/linear_model/_coordinate_descent.py:532: UserWarning: Coordinate descent with no regularization may lead to unexpected results and is discouraged.\n",
      "  positive)\n",
      "/Users/maxlee/dsci552/virtual_env/lib/python3.7/site-packages/sklearn/linear_model/_coordinate_descent.py:532: ConvergenceWarning: Objective did not converge. You might want to increase the number of iterations. Duality gap: 1646.0526709611286, tolerance: 0.543919674493815\n",
      "  positive)\n",
      "/Users/maxlee/dsci552/virtual_env/lib/python3.7/site-packages/sklearn/model_selection/_validation.py:593: UserWarning: With alpha=0, this algorithm does not converge well. You are advised to use the LinearRegression estimator\n",
      "  estimator.fit(X_train, y_train, **fit_params)\n",
      "/Users/maxlee/dsci552/virtual_env/lib/python3.7/site-packages/sklearn/linear_model/_coordinate_descent.py:532: UserWarning: Coordinate descent with no regularization may lead to unexpected results and is discouraged.\n",
      "  positive)\n",
      "/Users/maxlee/dsci552/virtual_env/lib/python3.7/site-packages/sklearn/linear_model/_coordinate_descent.py:532: ConvergenceWarning: Objective did not converge. You might want to increase the number of iterations. Duality gap: 1602.955075848672, tolerance: 0.5294924533255315\n",
      "  positive)\n",
      "/Users/maxlee/dsci552/virtual_env/lib/python3.7/site-packages/sklearn/model_selection/_validation.py:593: UserWarning: With alpha=0, this algorithm does not converge well. You are advised to use the LinearRegression estimator\n",
      "  estimator.fit(X_train, y_train, **fit_params)\n",
      "/Users/maxlee/dsci552/virtual_env/lib/python3.7/site-packages/sklearn/linear_model/_coordinate_descent.py:532: UserWarning: Coordinate descent with no regularization may lead to unexpected results and is discouraged.\n",
      "  positive)\n",
      "/Users/maxlee/dsci552/virtual_env/lib/python3.7/site-packages/sklearn/linear_model/_coordinate_descent.py:532: ConvergenceWarning: Objective did not converge. You might want to increase the number of iterations. Duality gap: 1662.1649778984568, tolerance: 0.538544683582582\n",
      "  positive)\n",
      "/Users/maxlee/dsci552/virtual_env/lib/python3.7/site-packages/sklearn/model_selection/_validation.py:593: UserWarning: With alpha=0, this algorithm does not converge well. You are advised to use the LinearRegression estimator\n",
      "  estimator.fit(X_train, y_train, **fit_params)\n",
      "/Users/maxlee/dsci552/virtual_env/lib/python3.7/site-packages/sklearn/linear_model/_coordinate_descent.py:532: UserWarning: Coordinate descent with no regularization may lead to unexpected results and is discouraged.\n",
      "  positive)\n",
      "/Users/maxlee/dsci552/virtual_env/lib/python3.7/site-packages/sklearn/linear_model/_coordinate_descent.py:532: ConvergenceWarning: Objective did not converge. You might want to increase the number of iterations. Duality gap: 1628.5427308180208, tolerance: 0.5349171739935896\n",
      "  positive)\n",
      "/Users/maxlee/dsci552/virtual_env/lib/python3.7/site-packages/sklearn/model_selection/_validation.py:593: UserWarning: With alpha=0, this algorithm does not converge well. You are advised to use the LinearRegression estimator\n",
      "  estimator.fit(X_train, y_train, **fit_params)\n",
      "/Users/maxlee/dsci552/virtual_env/lib/python3.7/site-packages/sklearn/linear_model/_coordinate_descent.py:532: UserWarning: Coordinate descent with no regularization may lead to unexpected results and is discouraged.\n",
      "  positive)\n",
      "/Users/maxlee/dsci552/virtual_env/lib/python3.7/site-packages/sklearn/linear_model/_coordinate_descent.py:532: ConvergenceWarning: Objective did not converge. You might want to increase the number of iterations. Duality gap: 1592.283006464256, tolerance: 0.5259827255439801\n",
      "  positive)\n"
     ]
    },
    {
     "name": "stderr",
     "output_type": "stream",
     "text": [
      "/Users/maxlee/dsci552/virtual_env/lib/python3.7/site-packages/sklearn/model_selection/_validation.py:593: UserWarning: With alpha=0, this algorithm does not converge well. You are advised to use the LinearRegression estimator\n",
      "  estimator.fit(X_train, y_train, **fit_params)\n",
      "/Users/maxlee/dsci552/virtual_env/lib/python3.7/site-packages/sklearn/linear_model/_coordinate_descent.py:532: UserWarning: Coordinate descent with no regularization may lead to unexpected results and is discouraged.\n",
      "  positive)\n",
      "/Users/maxlee/dsci552/virtual_env/lib/python3.7/site-packages/sklearn/linear_model/_coordinate_descent.py:532: ConvergenceWarning: Objective did not converge. You might want to increase the number of iterations. Duality gap: 1646.0526709611286, tolerance: 0.543919674493815\n",
      "  positive)\n",
      "/Users/maxlee/dsci552/virtual_env/lib/python3.7/site-packages/sklearn/model_selection/_validation.py:593: UserWarning: With alpha=0, this algorithm does not converge well. You are advised to use the LinearRegression estimator\n",
      "  estimator.fit(X_train, y_train, **fit_params)\n",
      "/Users/maxlee/dsci552/virtual_env/lib/python3.7/site-packages/sklearn/linear_model/_coordinate_descent.py:532: UserWarning: Coordinate descent with no regularization may lead to unexpected results and is discouraged.\n",
      "  positive)\n",
      "/Users/maxlee/dsci552/virtual_env/lib/python3.7/site-packages/sklearn/linear_model/_coordinate_descent.py:532: ConvergenceWarning: Objective did not converge. You might want to increase the number of iterations. Duality gap: 1602.955075848672, tolerance: 0.5294924533255315\n",
      "  positive)\n",
      "/Users/maxlee/dsci552/virtual_env/lib/python3.7/site-packages/sklearn/model_selection/_validation.py:593: UserWarning: With alpha=0, this algorithm does not converge well. You are advised to use the LinearRegression estimator\n",
      "  estimator.fit(X_train, y_train, **fit_params)\n",
      "/Users/maxlee/dsci552/virtual_env/lib/python3.7/site-packages/sklearn/linear_model/_coordinate_descent.py:532: UserWarning: Coordinate descent with no regularization may lead to unexpected results and is discouraged.\n",
      "  positive)\n",
      "/Users/maxlee/dsci552/virtual_env/lib/python3.7/site-packages/sklearn/linear_model/_coordinate_descent.py:532: ConvergenceWarning: Objective did not converge. You might want to increase the number of iterations. Duality gap: 1662.1649778984568, tolerance: 0.538544683582582\n",
      "  positive)\n",
      "/Users/maxlee/dsci552/virtual_env/lib/python3.7/site-packages/sklearn/model_selection/_validation.py:593: UserWarning: With alpha=0, this algorithm does not converge well. You are advised to use the LinearRegression estimator\n",
      "  estimator.fit(X_train, y_train, **fit_params)\n",
      "/Users/maxlee/dsci552/virtual_env/lib/python3.7/site-packages/sklearn/linear_model/_coordinate_descent.py:532: UserWarning: Coordinate descent with no regularization may lead to unexpected results and is discouraged.\n",
      "  positive)\n",
      "/Users/maxlee/dsci552/virtual_env/lib/python3.7/site-packages/sklearn/linear_model/_coordinate_descent.py:532: ConvergenceWarning: Objective did not converge. You might want to increase the number of iterations. Duality gap: 1628.5427308180208, tolerance: 0.5349171739935896\n",
      "  positive)\n",
      "/Users/maxlee/dsci552/virtual_env/lib/python3.7/site-packages/sklearn/model_selection/_validation.py:593: UserWarning: With alpha=0, this algorithm does not converge well. You are advised to use the LinearRegression estimator\n",
      "  estimator.fit(X_train, y_train, **fit_params)\n",
      "/Users/maxlee/dsci552/virtual_env/lib/python3.7/site-packages/sklearn/linear_model/_coordinate_descent.py:532: UserWarning: Coordinate descent with no regularization may lead to unexpected results and is discouraged.\n",
      "  positive)\n",
      "/Users/maxlee/dsci552/virtual_env/lib/python3.7/site-packages/sklearn/linear_model/_coordinate_descent.py:532: ConvergenceWarning: Objective did not converge. You might want to increase the number of iterations. Duality gap: 1592.283006464256, tolerance: 0.5259827255439801\n",
      "  positive)\n",
      "/Users/maxlee/dsci552/virtual_env/lib/python3.7/site-packages/sklearn/model_selection/_validation.py:593: UserWarning: With alpha=0, this algorithm does not converge well. You are advised to use the LinearRegression estimator\n",
      "  estimator.fit(X_train, y_train, **fit_params)\n",
      "/Users/maxlee/dsci552/virtual_env/lib/python3.7/site-packages/sklearn/linear_model/_coordinate_descent.py:532: UserWarning: Coordinate descent with no regularization may lead to unexpected results and is discouraged.\n",
      "  positive)\n",
      "/Users/maxlee/dsci552/virtual_env/lib/python3.7/site-packages/sklearn/linear_model/_coordinate_descent.py:532: ConvergenceWarning: Objective did not converge. You might want to increase the number of iterations. Duality gap: 1646.0526709611286, tolerance: 0.543919674493815\n",
      "  positive)\n",
      "/Users/maxlee/dsci552/virtual_env/lib/python3.7/site-packages/sklearn/model_selection/_validation.py:593: UserWarning: With alpha=0, this algorithm does not converge well. You are advised to use the LinearRegression estimator\n",
      "  estimator.fit(X_train, y_train, **fit_params)\n",
      "/Users/maxlee/dsci552/virtual_env/lib/python3.7/site-packages/sklearn/linear_model/_coordinate_descent.py:532: UserWarning: Coordinate descent with no regularization may lead to unexpected results and is discouraged.\n",
      "  positive)\n",
      "/Users/maxlee/dsci552/virtual_env/lib/python3.7/site-packages/sklearn/linear_model/_coordinate_descent.py:532: ConvergenceWarning: Objective did not converge. You might want to increase the number of iterations. Duality gap: 1602.955075848672, tolerance: 0.5294924533255315\n",
      "  positive)\n",
      "/Users/maxlee/dsci552/virtual_env/lib/python3.7/site-packages/sklearn/model_selection/_validation.py:593: UserWarning: With alpha=0, this algorithm does not converge well. You are advised to use the LinearRegression estimator\n",
      "  estimator.fit(X_train, y_train, **fit_params)\n",
      "/Users/maxlee/dsci552/virtual_env/lib/python3.7/site-packages/sklearn/linear_model/_coordinate_descent.py:532: UserWarning: Coordinate descent with no regularization may lead to unexpected results and is discouraged.\n",
      "  positive)\n",
      "/Users/maxlee/dsci552/virtual_env/lib/python3.7/site-packages/sklearn/linear_model/_coordinate_descent.py:532: ConvergenceWarning: Objective did not converge. You might want to increase the number of iterations. Duality gap: 1662.1649778984568, tolerance: 0.538544683582582\n",
      "  positive)\n",
      "/Users/maxlee/dsci552/virtual_env/lib/python3.7/site-packages/sklearn/model_selection/_validation.py:593: UserWarning: With alpha=0, this algorithm does not converge well. You are advised to use the LinearRegression estimator\n",
      "  estimator.fit(X_train, y_train, **fit_params)\n",
      "/Users/maxlee/dsci552/virtual_env/lib/python3.7/site-packages/sklearn/linear_model/_coordinate_descent.py:532: UserWarning: Coordinate descent with no regularization may lead to unexpected results and is discouraged.\n",
      "  positive)\n",
      "/Users/maxlee/dsci552/virtual_env/lib/python3.7/site-packages/sklearn/linear_model/_coordinate_descent.py:532: ConvergenceWarning: Objective did not converge. You might want to increase the number of iterations. Duality gap: 1628.5427308180208, tolerance: 0.5349171739935896\n",
      "  positive)\n",
      "/Users/maxlee/dsci552/virtual_env/lib/python3.7/site-packages/sklearn/model_selection/_validation.py:593: UserWarning: With alpha=0, this algorithm does not converge well. You are advised to use the LinearRegression estimator\n",
      "  estimator.fit(X_train, y_train, **fit_params)\n",
      "/Users/maxlee/dsci552/virtual_env/lib/python3.7/site-packages/sklearn/linear_model/_coordinate_descent.py:532: UserWarning: Coordinate descent with no regularization may lead to unexpected results and is discouraged.\n",
      "  positive)\n",
      "/Users/maxlee/dsci552/virtual_env/lib/python3.7/site-packages/sklearn/linear_model/_coordinate_descent.py:532: ConvergenceWarning: Objective did not converge. You might want to increase the number of iterations. Duality gap: 1592.283006464256, tolerance: 0.5259827255439801\n",
      "  positive)\n",
      "/Users/maxlee/dsci552/virtual_env/lib/python3.7/site-packages/sklearn/model_selection/_validation.py:593: UserWarning: With alpha=0, this algorithm does not converge well. You are advised to use the LinearRegression estimator\n",
      "  estimator.fit(X_train, y_train, **fit_params)\n",
      "/Users/maxlee/dsci552/virtual_env/lib/python3.7/site-packages/sklearn/linear_model/_coordinate_descent.py:532: UserWarning: Coordinate descent with no regularization may lead to unexpected results and is discouraged.\n",
      "  positive)\n"
     ]
    },
    {
     "name": "stderr",
     "output_type": "stream",
     "text": [
      "/Users/maxlee/dsci552/virtual_env/lib/python3.7/site-packages/sklearn/linear_model/_coordinate_descent.py:532: ConvergenceWarning: Objective did not converge. You might want to increase the number of iterations. Duality gap: 1646.0526709611286, tolerance: 0.543919674493815\n",
      "  positive)\n",
      "/Users/maxlee/dsci552/virtual_env/lib/python3.7/site-packages/sklearn/model_selection/_validation.py:593: UserWarning: With alpha=0, this algorithm does not converge well. You are advised to use the LinearRegression estimator\n",
      "  estimator.fit(X_train, y_train, **fit_params)\n",
      "/Users/maxlee/dsci552/virtual_env/lib/python3.7/site-packages/sklearn/linear_model/_coordinate_descent.py:532: UserWarning: Coordinate descent with no regularization may lead to unexpected results and is discouraged.\n",
      "  positive)\n",
      "/Users/maxlee/dsci552/virtual_env/lib/python3.7/site-packages/sklearn/linear_model/_coordinate_descent.py:532: ConvergenceWarning: Objective did not converge. You might want to increase the number of iterations. Duality gap: 1602.955075848672, tolerance: 0.5294924533255315\n",
      "  positive)\n",
      "/Users/maxlee/dsci552/virtual_env/lib/python3.7/site-packages/sklearn/model_selection/_search.py:880: UserWarning: With alpha=0, this algorithm does not converge well. You are advised to use the LinearRegression estimator\n",
      "  self.best_estimator_.fit(X, y, **fit_params)\n",
      "/Users/maxlee/dsci552/virtual_env/lib/python3.7/site-packages/sklearn/linear_model/_coordinate_descent.py:532: UserWarning: Coordinate descent with no regularization may lead to unexpected results and is discouraged.\n",
      "  positive)\n",
      "/Users/maxlee/dsci552/virtual_env/lib/python3.7/site-packages/sklearn/linear_model/_coordinate_descent.py:532: ConvergenceWarning: Objective did not converge. You might want to increase the number of iterations. Duality gap: 2034.5395550287083, tolerance: 0.6682168296836826\n",
      "  positive)\n"
     ]
    }
   ],
   "source": [
    "elastic_search=GridSearchCV(elastic, grid, scoring='neg_root_mean_squared_error', cv=cv)\n",
    "elastic_results = elastic_search.fit(x_train, y_train)\n"
   ]
  },
  {
   "cell_type": "code",
   "execution_count": 1075,
   "id": "bronze-german",
   "metadata": {},
   "outputs": [
    {
     "name": "stdout",
     "output_type": "stream",
     "text": [
      "RMSE: -0.747\n",
      "Config: {'alpha': 0.0, 'l1_ratio': 0.001}\n"
     ]
    }
   ],
   "source": [
    "print('RMSE: %.3f' % elastic_results.best_score_)\n",
    "print('Config: %s' % elastic_results.best_params_)"
   ]
  },
  {
   "cell_type": "markdown",
   "id": "altered-qualification",
   "metadata": {},
   "source": [
    "Interestingly, the performance of Ridge, Lasso, and Elastic Net are all equivalent. Further, the optimal value of Lasso is alpha=0, which is just a linear model! So maybe we shouldn't have dropped year and F2. Now rerun the linear model, with all features just to verify."
   ]
  },
  {
   "cell_type": "code",
   "execution_count": 1067,
   "id": "developing-account",
   "metadata": {},
   "outputs": [],
   "source": [
    "linreg=LinearRegression()\n",
    "linregscore=cross_val_score(linreg, x_train, y_train, scoring='neg_root_mean_squared_error', cv=cv)"
   ]
  },
  {
   "cell_type": "code",
   "execution_count": 1068,
   "id": "portable-litigation",
   "metadata": {},
   "outputs": [
    {
     "name": "stdout",
     "output_type": "stream",
     "text": [
      "RMSE: -0.747\n"
     ]
    }
   ],
   "source": [
    "print('RMSE: %.3f' % (mean(linregscore)))"
   ]
  },
  {
   "cell_type": "code",
   "execution_count": 1089,
   "id": "freelance-investigator",
   "metadata": {},
   "outputs": [
    {
     "name": "stdout",
     "output_type": "stream",
     "text": [
      "                            OLS Regression Results                            \n",
      "==============================================================================\n",
      "Dep. Variable:              log_price   R-squared:                       0.391\n",
      "Model:                            OLS   Adj. R-squared:                  0.389\n",
      "Method:                 Least Squares   F-statistic:                     223.8\n",
      "Date:                Wed, 10 Feb 2021   Prob (F-statistic):               0.00\n",
      "Time:                        21:47:35   Log-Likelihood:                -8249.4\n",
      "No. Observations:                7339   AIC:                         1.654e+04\n",
      "Df Residuals:                    7317   BIC:                         1.669e+04\n",
      "Df Model:                          21                                         \n",
      "Covariance Type:            nonrobust                                         \n",
      "=========================================================================================\n",
      "                            coef    std err          t      P>|t|      [0.025      0.975]\n",
      "-----------------------------------------------------------------------------------------\n",
      "const                   -57.3157      4.676    -12.257      0.000     -66.482     -48.149\n",
      "year                      0.0332      0.002     13.812      0.000       0.028       0.038\n",
      "odometer                 -0.0049      0.000    -30.816      0.000      -0.005      -0.005\n",
      "F1                     9.273e-06   4.22e-06      2.195      0.028    9.92e-07    1.76e-05\n",
      "F2                        0.0183      0.087      0.209      0.834      -0.153       0.190\n",
      "F3                        0.8156      0.086      9.436      0.000       0.646       0.985\n",
      "manufacturer_subaru       0.2914      0.034      8.665      0.000       0.225       0.357\n",
      "F4_b                      0.0555      0.021      2.627      0.009       0.014       0.097\n",
      "F4_c                      0.0855      0.022      3.960      0.000       0.043       0.128\n",
      "paint_color_blue         -0.0968      0.031     -3.152      0.002      -0.157      -0.037\n",
      "paint_color_red          -0.0410      0.029     -1.410      0.159      -0.098       0.016\n",
      "paint_color_silver       -0.0801      0.030     -2.714      0.007      -0.138      -0.022\n",
      "paint_color_white        -0.1329      0.025     -5.384      0.000      -0.181      -0.085\n",
      "type_pickup               0.3842      0.029     13.322      0.000       0.328       0.441\n",
      "type_sedan               -0.2763      0.025    -11.271      0.000      -0.324      -0.228\n",
      "type_truck                0.2941      0.027     10.836      0.000       0.241       0.347\n",
      "transmission_manual       0.1944      0.044      4.457      0.000       0.109       0.280\n",
      "cylinders_6 cylinders     0.2056      0.026      7.843      0.000       0.154       0.257\n",
      "cylinders_8 cylinders     0.3404      0.032     10.550      0.000       0.277       0.404\n",
      "condition_fair           -0.7573      0.052    -14.661      0.000      -0.859      -0.656\n",
      "condition_good           -0.1562      0.020     -7.964      0.000      -0.195      -0.118\n",
      "condition_like new        0.1001      0.029      3.444      0.001       0.043       0.157\n",
      "==============================================================================\n",
      "Omnibus:                     4799.646   Durbin-Watson:                   2.008\n",
      "Prob(Omnibus):                  0.000   Jarque-Bera (JB):            94687.967\n",
      "Skew:                          -2.834   Prob(JB):                         0.00\n",
      "Kurtosis:                      19.659   Cond. No.                     1.62e+06\n",
      "==============================================================================\n",
      "\n",
      "Notes:\n",
      "[1] Standard Errors assume that the covariance matrix of the errors is correctly specified.\n",
      "[2] The condition number is large, 1.62e+06. This might indicate that there are\n",
      "strong multicollinearity or other numerical problems.\n"
     ]
    }
   ],
   "source": [
    "X=x_train\n",
    "Y=y_train\n",
    "X_sm=sm.add_constant(X)\n",
    "X_test=sm.add_constant(x_test)\n",
    "model=sm.OLS(Y,X_sm)\n",
    "results=model.fit()\n",
    "print(results.summary())"
   ]
  },
  {
   "cell_type": "code",
   "execution_count": 1090,
   "id": "external-sweden",
   "metadata": {},
   "outputs": [],
   "source": [
    "y_preds=results.predict(X_test)"
   ]
  },
  {
   "cell_type": "markdown",
   "id": "ready-universe",
   "metadata": {},
   "source": [
    "Now for the final results:"
   ]
  },
  {
   "cell_type": "code",
   "execution_count": 1093,
   "id": "official-closer",
   "metadata": {},
   "outputs": [
    {
     "name": "stdout",
     "output_type": "stream",
     "text": [
      "R2 score: 0.40444857395852807\n",
      "RMSE: 0.743016996982773\n"
     ]
    },
    {
     "data": {
      "text/plain": [
       "Text(0.5, 1.0, 'OLS All Features')"
      ]
     },
     "execution_count": 1093,
     "metadata": {},
     "output_type": "execute_result"
    },
    {
     "data": {
      "image/png": "[encoded data removed]",
      "text/plain": [
       "<Figure size 432x288 with 1 Axes>"
      ]
     },
     "metadata": {
      "needs_background": "light"
     },
     "output_type": "display_data"
    }
   ],
   "source": [
    "print('R2 score:', r2_score(y_test,y_preds))\n",
    "print('RMSE:', sqrt(mean_squared_error(y_test,y_preds)))\n",
    "plt.scatter(y_test,y_preds,s=1)\n",
    "plt.plot([0, 20], [0, 20], color = 'black', linewidth = 2)\n",
    "plt.xlim(0,20)\n",
    "plt.ylim(0,20)\n",
    "plt.xlabel('actual_log(price)')\n",
    "plt.ylabel('predicted_log(price)')\n",
    "plt.title('OLS All Features')"
   ]
  },
  {
   "cell_type": "markdown",
   "id": "innocent-muslim",
   "metadata": {},
   "source": [
    "Not bad! We have a decent R2 value of .4, and our RMSE in cross validation of .747 is actually beat in testing, albeit barely. There is clearly a positive trend between our prediction and the actual prediction. It is not perfectly linear, as we will see in the residual, but it's looking okay."
   ]
  },
  {
   "cell_type": "code",
   "execution_count": 1095,
   "id": "spare-reminder",
   "metadata": {},
   "outputs": [
    {
     "data": {
      "text/plain": [
       "Text(0.5, 1.0, 'OLS All Features Residual')"
      ]
     },
     "execution_count": 1095,
     "metadata": {},
     "output_type": "execute_result"
    },
    {
     "data": {
      "image/png": "[encoded data removed]",
      "text/plain": [
       "<Figure size 432x288 with 1 Axes>"
      ]
     },
     "metadata": {
      "needs_background": "light"
     },
     "output_type": "display_data"
    }
   ],
   "source": [
    "residuals=y_preds-y_test\n",
    "plt.scatter(y_test,residuals,s=1)\n",
    "plt.plot([0, 20], [0, 0], color = 'black', linewidth = 2)\n",
    "plt.xlabel('actual_price')\n",
    "plt.ylabel('residual')\n",
    "plt.title('OLS All Features Residual')"
   ]
  },
  {
   "cell_type": "markdown",
   "id": "provincial-error",
   "metadata": {},
   "source": [
    "The residuals still aren't ideal, as they have a clear negative slope. They do look better than our initial attempt without the log, as the variance looks relatively consistent. There's more that could be done, such as looking at some non-linear models or implementing stricter outlier rejection. But for the sake of maintaining most of the data and keeping the model simple, this should be sufficient."
   ]
  },
  {
   "cell_type": "code",
   "execution_count": null,
   "id": "colonial-swimming",
   "metadata": {},
   "outputs": [],
   "source": []
  }
 ],
 "metadata": {
  "kernelspec": {
   "display_name": "Python 3",
   "language": "python",
   "name": "python3"
  },
  "language_info": {
   "codemirror_mode": {
    "name": "ipython",
    "version": 3
   },
   "file_extension": ".py",
   "mimetype": "text/x-python",
   "name": "python",
   "nbconvert_exporter": "python",
   "pygments_lexer": "ipython3",
   "version": "3.7.4"
  }
 },
 "nbformat": 4,
 "nbformat_minor": 5
}
