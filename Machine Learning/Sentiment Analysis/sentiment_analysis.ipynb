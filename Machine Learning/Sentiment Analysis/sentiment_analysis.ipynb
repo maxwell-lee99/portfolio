{
 "cells": [
  {
   "cell_type": "code",
   "execution_count": 131,
   "id": "unnecessary-patrick",
   "metadata": {},
   "outputs": [],
   "source": [
    "import pandas as pd\n",
    "import numpy as np\n",
    "import re\n",
    "from keras.preprocessing.text import Tokenizer\n",
    "from keras.preprocessing.sequence import pad_sequences\n",
    "from keras.models import Sequential\n",
    "from keras.layers import Dense\n",
    "from keras.layers import Flatten\n",
    "from keras.layers import Embedding\n",
    "from keras.layers import LSTM\n",
    "from keras.layers import Dropout\n",
    "from keras.layers import RepeatVector\n",
    "from keras.layers import TimeDistributed\n",
    "from keras.layers import SpatialDropout1D\n",
    "import tensorflow as tf\n",
    "import matplotlib.pyplot as plt"
   ]
  },
  {
   "cell_type": "code",
   "execution_count": 132,
   "id": "helpful-collect",
   "metadata": {},
   "outputs": [
    {
     "data": {
      "text/html": [
       "<div>\n",
       "<style scoped>\n",
       "    .dataframe tbody tr th:only-of-type {\n",
       "        vertical-align: middle;\n",
       "    }\n",
       "\n",
       "    .dataframe tbody tr th {\n",
       "        vertical-align: top;\n",
       "    }\n",
       "\n",
       "    .dataframe thead th {\n",
       "        text-align: right;\n",
       "    }\n",
       "</style>\n",
       "<table border=\"1\" class=\"dataframe\">\n",
       "  <thead>\n",
       "    <tr style=\"text-align: right;\">\n",
       "      <th></th>\n",
       "      <th>Id</th>\n",
       "      <th>text</th>\n",
       "    </tr>\n",
       "  </thead>\n",
       "  <tbody>\n",
       "    <tr>\n",
       "      <th>0</th>\n",
       "      <td>0</td>\n",
       "      <td>https://t.co/UpjxfOgQs8\\r\\r\\n\\r\\r\\nGaisss! Ple...</td>\n",
       "    </tr>\n",
       "    <tr>\n",
       "      <th>1</th>\n",
       "      <td>1</td>\n",
       "      <td>@mygovindia Today just after a week of lockdow...</td>\n",
       "    </tr>\n",
       "    <tr>\n",
       "      <th>2</th>\n",
       "      <td>2</td>\n",
       "      <td>Tuskys partners with Amref to provide on groun...</td>\n",
       "    </tr>\n",
       "    <tr>\n",
       "      <th>3</th>\n",
       "      <td>3</td>\n",
       "      <td>@chrissyteigen are u doing ur own grocery shop...</td>\n",
       "    </tr>\n",
       "    <tr>\n",
       "      <th>4</th>\n",
       "      <td>4</td>\n",
       "      <td>UK Critical Care Nurse Cries at Empty SuperMar...</td>\n",
       "    </tr>\n",
       "    <tr>\n",
       "      <th>...</th>\n",
       "      <td>...</td>\n",
       "      <td>...</td>\n",
       "    </tr>\n",
       "    <tr>\n",
       "      <th>37036</th>\n",
       "      <td>37036</td>\n",
       "      <td>Minnesota classifies grocery store workers as ...</td>\n",
       "    </tr>\n",
       "    <tr>\n",
       "      <th>37037</th>\n",
       "      <td>37037</td>\n",
       "      <td>US Senator @ewarren has asked for information ...</td>\n",
       "    </tr>\n",
       "    <tr>\n",
       "      <th>37038</th>\n",
       "      <td>37038</td>\n",
       "      <td>Just commented on @thejournal_ie: Poll: Are yo...</td>\n",
       "    </tr>\n",
       "    <tr>\n",
       "      <th>37039</th>\n",
       "      <td>37039</td>\n",
       "      <td>My wife got laid off yesterday because the sma...</td>\n",
       "    </tr>\n",
       "    <tr>\n",
       "      <th>37040</th>\n",
       "      <td>37040</td>\n",
       "      <td>Humanity is doomed\\r\\r\\n#coronavirus #coronacr...</td>\n",
       "    </tr>\n",
       "  </tbody>\n",
       "</table>\n",
       "<p>37041 rows × 2 columns</p>\n",
       "</div>"
      ],
      "text/plain": [
       "          Id                                               text\n",
       "0          0  https://t.co/UpjxfOgQs8\\r\\r\\n\\r\\r\\nGaisss! Ple...\n",
       "1          1  @mygovindia Today just after a week of lockdow...\n",
       "2          2  Tuskys partners with Amref to provide on groun...\n",
       "3          3  @chrissyteigen are u doing ur own grocery shop...\n",
       "4          4  UK Critical Care Nurse Cries at Empty SuperMar...\n",
       "...      ...                                                ...\n",
       "37036  37036  Minnesota classifies grocery store workers as ...\n",
       "37037  37037  US Senator @ewarren has asked for information ...\n",
       "37038  37038  Just commented on @thejournal_ie: Poll: Are yo...\n",
       "37039  37039  My wife got laid off yesterday because the sma...\n",
       "37040  37040  Humanity is doomed\\r\\r\\n#coronavirus #coronacr...\n",
       "\n",
       "[37041 rows x 2 columns]"
      ]
     },
     "execution_count": 132,
     "metadata": {},
     "output_type": "execute_result"
    }
   ],
   "source": [
    "df=pd.read_csv('../data/ps5_tweets_text.csv')\n",
    "df=df.rename(columns={'Tweet':'text'})\n",
    "df"
   ]
  },
  {
   "cell_type": "code",
   "execution_count": 133,
   "id": "urban-draft",
   "metadata": {},
   "outputs": [
    {
     "data": {
      "text/html": [
       "<div>\n",
       "<style scoped>\n",
       "    .dataframe tbody tr th:only-of-type {\n",
       "        vertical-align: middle;\n",
       "    }\n",
       "\n",
       "    .dataframe tbody tr th {\n",
       "        vertical-align: top;\n",
       "    }\n",
       "\n",
       "    .dataframe thead th {\n",
       "        text-align: right;\n",
       "    }\n",
       "</style>\n",
       "<table border=\"1\" class=\"dataframe\">\n",
       "  <thead>\n",
       "    <tr style=\"text-align: right;\">\n",
       "      <th></th>\n",
       "      <th>Id</th>\n",
       "      <th>Label</th>\n",
       "    </tr>\n",
       "  </thead>\n",
       "  <tbody>\n",
       "    <tr>\n",
       "      <th>0</th>\n",
       "      <td>0</td>\n",
       "      <td>4</td>\n",
       "    </tr>\n",
       "    <tr>\n",
       "      <th>1</th>\n",
       "      <td>1</td>\n",
       "      <td>1</td>\n",
       "    </tr>\n",
       "    <tr>\n",
       "      <th>2</th>\n",
       "      <td>2</td>\n",
       "      <td>2</td>\n",
       "    </tr>\n",
       "    <tr>\n",
       "      <th>3</th>\n",
       "      <td>3</td>\n",
       "      <td>1</td>\n",
       "    </tr>\n",
       "    <tr>\n",
       "      <th>4</th>\n",
       "      <td>4</td>\n",
       "      <td>0</td>\n",
       "    </tr>\n",
       "    <tr>\n",
       "      <th>...</th>\n",
       "      <td>...</td>\n",
       "      <td>...</td>\n",
       "    </tr>\n",
       "    <tr>\n",
       "      <th>37036</th>\n",
       "      <td>37036</td>\n",
       "      <td>1</td>\n",
       "    </tr>\n",
       "    <tr>\n",
       "      <th>37037</th>\n",
       "      <td>37037</td>\n",
       "      <td>1</td>\n",
       "    </tr>\n",
       "    <tr>\n",
       "      <th>37038</th>\n",
       "      <td>37038</td>\n",
       "      <td>0</td>\n",
       "    </tr>\n",
       "    <tr>\n",
       "      <th>37039</th>\n",
       "      <td>37039</td>\n",
       "      <td>2</td>\n",
       "    </tr>\n",
       "    <tr>\n",
       "      <th>37040</th>\n",
       "      <td>37040</td>\n",
       "      <td>0</td>\n",
       "    </tr>\n",
       "  </tbody>\n",
       "</table>\n",
       "<p>37041 rows × 2 columns</p>\n",
       "</div>"
      ],
      "text/plain": [
       "          Id  Label\n",
       "0          0      4\n",
       "1          1      1\n",
       "2          2      2\n",
       "3          3      1\n",
       "4          4      0\n",
       "...      ...    ...\n",
       "37036  37036      1\n",
       "37037  37037      1\n",
       "37038  37038      0\n",
       "37039  37039      2\n",
       "37040  37040      0\n",
       "\n",
       "[37041 rows x 2 columns]"
      ]
     },
     "execution_count": 133,
     "metadata": {},
     "output_type": "execute_result"
    }
   ],
   "source": [
    "labels_df=pd.read_csv('../data/ps5_tweets_labels_as_numbers.csv')\n",
    "labels_df"
   ]
  },
  {
   "cell_type": "code",
   "execution_count": 134,
   "id": "applied-anthony",
   "metadata": {},
   "outputs": [
    {
     "data": {
      "text/plain": [
       "(array([ 4946.,     0.,  8930.,     0.,     0.,  6930.,     0., 10282.,\n",
       "            0.,  5953.]),\n",
       " array([0. , 0.4, 0.8, 1.2, 1.6, 2. , 2.4, 2.8, 3.2, 3.6, 4. ]),\n",
       " <BarContainer object of 10 artists>)"
      ]
     },
     "execution_count": 134,
     "metadata": {},
     "output_type": "execute_result"
    },
    {
     "data": {
      "image/png": "[encoded data removed]",
      "text/plain": [
       "<Figure size 432x288 with 1 Axes>"
      ]
     },
     "metadata": {
      "needs_background": "light"
     },
     "output_type": "display_data"
    }
   ],
   "source": [
    "plt.hist(labels_df.Label)"
   ]
  },
  {
   "cell_type": "code",
   "execution_count": 135,
   "id": "broad-celtic",
   "metadata": {},
   "outputs": [
    {
     "data": {
      "text/plain": [
       "Id      0\n",
       "text    0\n",
       "dtype: int64"
      ]
     },
     "execution_count": 135,
     "metadata": {},
     "output_type": "execute_result"
    }
   ],
   "source": [
    "df.isna().sum()"
   ]
  },
  {
   "cell_type": "code",
   "execution_count": 136,
   "id": "sweet-straight",
   "metadata": {},
   "outputs": [],
   "source": [
    "df['text'] = df['text'].apply(lambda x: re.sub('((www\\.[^\\s]+)|(https?://[^\\s]+))', 'URL', x))\n",
    "df['text'] = df['text'].apply(lambda x: re.sub('@[^\\s]+', 'AT_USER', x))\n",
    "df['text'] = df['text'].apply(lambda x: re.sub(r'#([^\\s]+)', r'\\1', x))\n",
    "df['text'] = df['text'].apply(lambda x: re.sub(r'\\n', r' ', x))\n",
    "df['text'] = df['text'].apply(lambda x: re.sub(r'\\r', r' ', x))\n",
    "df['text'] = df['text'].apply(lambda x: x.lower())\n",
    "df['text'] = df['text'].apply((lambda x: re.sub('[^a-zA-z0-9\\s]','',x)))"
   ]
  },
  {
   "cell_type": "code",
   "execution_count": 137,
   "id": "opposite-exemption",
   "metadata": {},
   "outputs": [
    {
     "data": {
      "text/html": [
       "<div>\n",
       "<style scoped>\n",
       "    .dataframe tbody tr th:only-of-type {\n",
       "        vertical-align: middle;\n",
       "    }\n",
       "\n",
       "    .dataframe tbody tr th {\n",
       "        vertical-align: top;\n",
       "    }\n",
       "\n",
       "    .dataframe thead th {\n",
       "        text-align: right;\n",
       "    }\n",
       "</style>\n",
       "<table border=\"1\" class=\"dataframe\">\n",
       "  <thead>\n",
       "    <tr style=\"text-align: right;\">\n",
       "      <th></th>\n",
       "      <th>Id</th>\n",
       "      <th>text</th>\n",
       "    </tr>\n",
       "  </thead>\n",
       "  <tbody>\n",
       "    <tr>\n",
       "      <th>0</th>\n",
       "      <td>0</td>\n",
       "      <td>url      gaisss please read thisand please lim...</td>\n",
       "    </tr>\n",
       "    <tr>\n",
       "      <th>1</th>\n",
       "      <td>1</td>\n",
       "      <td>at_user today just after a week of lockdown lo...</td>\n",
       "    </tr>\n",
       "    <tr>\n",
       "      <th>2</th>\n",
       "      <td>2</td>\n",
       "      <td>tuskys partners with amref to provide on groun...</td>\n",
       "    </tr>\n",
       "    <tr>\n",
       "      <th>3</th>\n",
       "      <td>3</td>\n",
       "      <td>at_user are u doing ur own grocery shopping no...</td>\n",
       "    </tr>\n",
       "    <tr>\n",
       "      <th>4</th>\n",
       "      <td>4</td>\n",
       "      <td>uk critical care nurse cries at empty supermar...</td>\n",
       "    </tr>\n",
       "    <tr>\n",
       "      <th>...</th>\n",
       "      <td>...</td>\n",
       "      <td>...</td>\n",
       "    </tr>\n",
       "    <tr>\n",
       "      <th>37036</th>\n",
       "      <td>37036</td>\n",
       "      <td>minnesota classifies grocery store workers as ...</td>\n",
       "    </tr>\n",
       "    <tr>\n",
       "      <th>37037</th>\n",
       "      <td>37037</td>\n",
       "      <td>us senator at_user has asked for information a...</td>\n",
       "    </tr>\n",
       "    <tr>\n",
       "      <th>37038</th>\n",
       "      <td>37038</td>\n",
       "      <td>just commented on at_user poll are you doing m...</td>\n",
       "    </tr>\n",
       "    <tr>\n",
       "      <th>37039</th>\n",
       "      <td>37039</td>\n",
       "      <td>my wife got laid off yesterday because the sma...</td>\n",
       "    </tr>\n",
       "    <tr>\n",
       "      <th>37040</th>\n",
       "      <td>37040</td>\n",
       "      <td>humanity is doomed   coronavirus coronacrisis ...</td>\n",
       "    </tr>\n",
       "  </tbody>\n",
       "</table>\n",
       "<p>37041 rows × 2 columns</p>\n",
       "</div>"
      ],
      "text/plain": [
       "          Id                                               text\n",
       "0          0  url      gaisss please read thisand please lim...\n",
       "1          1  at_user today just after a week of lockdown lo...\n",
       "2          2  tuskys partners with amref to provide on groun...\n",
       "3          3  at_user are u doing ur own grocery shopping no...\n",
       "4          4  uk critical care nurse cries at empty supermar...\n",
       "...      ...                                                ...\n",
       "37036  37036  minnesota classifies grocery store workers as ...\n",
       "37037  37037  us senator at_user has asked for information a...\n",
       "37038  37038  just commented on at_user poll are you doing m...\n",
       "37039  37039  my wife got laid off yesterday because the sma...\n",
       "37040  37040  humanity is doomed   coronavirus coronacrisis ...\n",
       "\n",
       "[37041 rows x 2 columns]"
      ]
     },
     "execution_count": 137,
     "metadata": {},
     "output_type": "execute_result"
    }
   ],
   "source": [
    "df"
   ]
  },
  {
   "cell_type": "code",
   "execution_count": 138,
   "id": "gothic-province",
   "metadata": {},
   "outputs": [],
   "source": [
    "tokenizer = Tokenizer(num_words=2500, lower=True,split=' ')\n",
    "tokenizer.fit_on_texts(df['text'].values)"
   ]
  },
  {
   "cell_type": "code",
   "execution_count": 139,
   "id": "pursuant-lyric",
   "metadata": {},
   "outputs": [],
   "source": [
    "X = tokenizer.texts_to_sequences(df['text'].values)\n",
    "X = pad_sequences(X)"
   ]
  },
  {
   "cell_type": "code",
   "execution_count": 140,
   "id": "strategic-generic",
   "metadata": {},
   "outputs": [],
   "source": [
    "Y=pd.get_dummies(labels_df['Label'].values)"
   ]
  },
  {
   "cell_type": "code",
   "execution_count": 141,
   "id": "funded-corner",
   "metadata": {},
   "outputs": [],
   "source": [
    "from sklearn.model_selection import train_test_split\n",
    "X_train, X_test, Y_train, Y_test = train_test_split(X,Y, test_size = 0.20, random_state = 36)\n",
    "X_train, X_val, Y_train, Y_val = train_test_split(X_train,Y_train, test_size = 0.10, random_state = 36)"
   ]
  },
  {
   "cell_type": "code",
   "execution_count": 142,
   "id": "crucial-creation",
   "metadata": {},
   "outputs": [
    {
     "name": "stdout",
     "output_type": "stream",
     "text": [
      "Model: \"sequential_2\"\n",
      "_________________________________________________________________\n",
      "Layer (type)                 Output Shape              Param #   \n",
      "=================================================================\n",
      "embedding_2 (Embedding)      (None, 60, 128)           320000    \n",
      "_________________________________________________________________\n",
      "spatial_dropout1d_2 (Spatial (None, 60, 128)           0         \n",
      "_________________________________________________________________\n",
      "lstm_2 (LSTM)                (None, 196)               254800    \n",
      "_________________________________________________________________\n",
      "dense_2 (Dense)              (None, 5)                 985       \n",
      "=================================================================\n",
      "Total params: 575,785\n",
      "Trainable params: 575,785\n",
      "Non-trainable params: 0\n",
      "_________________________________________________________________\n",
      "None\n"
     ]
    }
   ],
   "source": [
    "batch_size = 32\n",
    "embed_dim = 128\n",
    "lstm_out = 196\n",
    "\n",
    "model = Sequential()\n",
    "model.add(Embedding(2500, embed_dim,input_length = X.shape[1]))\n",
    "model.add(SpatialDropout1D(0.4))\n",
    "model.add(LSTM(lstm_out, dropout=0.2, recurrent_dropout=0.2))\n",
    "model.add(Dense(5,activation='softmax'))\n",
    "model.compile(loss = 'categorical_crossentropy', optimizer='adam',metrics = ['accuracy'])\n",
    "print(model.summary())"
   ]
  },
  {
   "cell_type": "code",
   "execution_count": 143,
   "id": "artistic-fundamental",
   "metadata": {},
   "outputs": [
    {
     "name": "stdout",
     "output_type": "stream",
     "text": [
      "Epoch 1/20\n",
      "834/834 [==============================] - 228s 267ms/step - loss: 1.3984 - accuracy: 0.3756 - val_loss: 0.9763 - val_accuracy: 0.6275\n",
      "Epoch 2/20\n",
      "834/834 [==============================] - 191s 229ms/step - loss: 0.8953 - accuracy: 0.6636 - val_loss: 0.9123 - val_accuracy: 0.6748\n",
      "Epoch 3/20\n",
      "834/834 [==============================] - 196s 235ms/step - loss: 0.8273 - accuracy: 0.7046 - val_loss: 0.9005 - val_accuracy: 0.6727\n",
      "Epoch 4/20\n",
      "834/834 [==============================] - 195s 234ms/step - loss: 0.7900 - accuracy: 0.7178 - val_loss: 0.8705 - val_accuracy: 0.6906\n",
      "Epoch 5/20\n",
      "834/834 [==============================] - 191s 229ms/step - loss: 0.7315 - accuracy: 0.7346 - val_loss: 0.8604 - val_accuracy: 0.6913\n",
      "Epoch 6/20\n",
      "834/834 [==============================] - 193s 232ms/step - loss: 0.7164 - accuracy: 0.7441 - val_loss: 0.8615 - val_accuracy: 0.6974\n",
      "Epoch 7/20\n",
      "834/834 [==============================] - 206s 247ms/step - loss: 0.6583 - accuracy: 0.7634 - val_loss: 0.8593 - val_accuracy: 0.6906\n",
      "Epoch 8/20\n",
      "834/834 [==============================] - 197s 236ms/step - loss: 0.6212 - accuracy: 0.7765 - val_loss: 0.9211 - val_accuracy: 0.6835\n",
      "Epoch 9/20\n",
      "834/834 [==============================] - 194s 232ms/step - loss: 0.5773 - accuracy: 0.7952 - val_loss: 0.9033 - val_accuracy: 0.6832\n",
      "Epoch 10/20\n",
      "834/834 [==============================] - 195s 234ms/step - loss: 0.5557 - accuracy: 0.8007 - val_loss: 0.9196 - val_accuracy: 0.6856\n"
     ]
    }
   ],
   "source": [
    "history=model.fit(X_train, Y_train, batch_size =batch_size,epochs=20,  verbose = 1, validation_data=(X_val,Y_val),callbacks=tf.keras.callbacks.EarlyStopping(patience=3))"
   ]
  },
  {
   "cell_type": "code",
   "execution_count": 154,
   "id": "established-keeping",
   "metadata": {},
   "outputs": [],
   "source": [
    "score,acc=model.evaluate(X_test,Y_test,batch_size=batch_size,verbose=5)"
   ]
  },
  {
   "cell_type": "code",
   "execution_count": 155,
   "id": "chicken-karma",
   "metadata": {},
   "outputs": [
    {
     "name": "stdout",
     "output_type": "stream",
     "text": [
      "0.6956404447555542\n"
     ]
    }
   ],
   "source": [
    "print(acc)"
   ]
  },
  {
   "cell_type": "code",
   "execution_count": 146,
   "id": "governmental-capitol",
   "metadata": {},
   "outputs": [],
   "source": [
    "y_pred=model.predict(X_test,batch_size=batch_size,verbose=5)"
   ]
  },
  {
   "cell_type": "code",
   "execution_count": 147,
   "id": "immune-headquarters",
   "metadata": {},
   "outputs": [],
   "source": [
    "from sklearn.metrics import classification_report"
   ]
  },
  {
   "cell_type": "code",
   "execution_count": 148,
   "id": "continued-jenny",
   "metadata": {},
   "outputs": [],
   "source": [
    "y_pred_bool = np.argmax(y_pred, axis=1)"
   ]
  },
  {
   "cell_type": "code",
   "execution_count": 149,
   "id": "polished-apparatus",
   "metadata": {},
   "outputs": [],
   "source": [
    "Y_test_reset=Y_test.reset_index()"
   ]
  },
  {
   "cell_type": "code",
   "execution_count": 150,
   "id": "clear-superior",
   "metadata": {},
   "outputs": [
    {
     "data": {
      "text/html": [
       "<div>\n",
       "<style scoped>\n",
       "    .dataframe tbody tr th:only-of-type {\n",
       "        vertical-align: middle;\n",
       "    }\n",
       "\n",
       "    .dataframe tbody tr th {\n",
       "        vertical-align: top;\n",
       "    }\n",
       "\n",
       "    .dataframe thead th {\n",
       "        text-align: right;\n",
       "    }\n",
       "</style>\n",
       "<table border=\"1\" class=\"dataframe\">\n",
       "  <thead>\n",
       "    <tr style=\"text-align: right;\">\n",
       "      <th></th>\n",
       "      <th>index</th>\n",
       "      <th>0</th>\n",
       "      <th>1</th>\n",
       "      <th>2</th>\n",
       "      <th>3</th>\n",
       "      <th>4</th>\n",
       "    </tr>\n",
       "  </thead>\n",
       "  <tbody>\n",
       "    <tr>\n",
       "      <th>0</th>\n",
       "      <td>22941</td>\n",
       "      <td>1</td>\n",
       "      <td>0</td>\n",
       "      <td>0</td>\n",
       "      <td>0</td>\n",
       "      <td>0</td>\n",
       "    </tr>\n",
       "    <tr>\n",
       "      <th>1</th>\n",
       "      <td>31108</td>\n",
       "      <td>0</td>\n",
       "      <td>0</td>\n",
       "      <td>0</td>\n",
       "      <td>0</td>\n",
       "      <td>1</td>\n",
       "    </tr>\n",
       "    <tr>\n",
       "      <th>2</th>\n",
       "      <td>16858</td>\n",
       "      <td>0</td>\n",
       "      <td>0</td>\n",
       "      <td>0</td>\n",
       "      <td>1</td>\n",
       "      <td>0</td>\n",
       "    </tr>\n",
       "    <tr>\n",
       "      <th>3</th>\n",
       "      <td>13328</td>\n",
       "      <td>1</td>\n",
       "      <td>0</td>\n",
       "      <td>0</td>\n",
       "      <td>0</td>\n",
       "      <td>0</td>\n",
       "    </tr>\n",
       "    <tr>\n",
       "      <th>4</th>\n",
       "      <td>23267</td>\n",
       "      <td>0</td>\n",
       "      <td>0</td>\n",
       "      <td>1</td>\n",
       "      <td>0</td>\n",
       "      <td>0</td>\n",
       "    </tr>\n",
       "    <tr>\n",
       "      <th>...</th>\n",
       "      <td>...</td>\n",
       "      <td>...</td>\n",
       "      <td>...</td>\n",
       "      <td>...</td>\n",
       "      <td>...</td>\n",
       "      <td>...</td>\n",
       "    </tr>\n",
       "    <tr>\n",
       "      <th>7404</th>\n",
       "      <td>6780</td>\n",
       "      <td>0</td>\n",
       "      <td>0</td>\n",
       "      <td>0</td>\n",
       "      <td>1</td>\n",
       "      <td>0</td>\n",
       "    </tr>\n",
       "    <tr>\n",
       "      <th>7405</th>\n",
       "      <td>32621</td>\n",
       "      <td>0</td>\n",
       "      <td>0</td>\n",
       "      <td>0</td>\n",
       "      <td>1</td>\n",
       "      <td>0</td>\n",
       "    </tr>\n",
       "    <tr>\n",
       "      <th>7406</th>\n",
       "      <td>4846</td>\n",
       "      <td>0</td>\n",
       "      <td>0</td>\n",
       "      <td>0</td>\n",
       "      <td>1</td>\n",
       "      <td>0</td>\n",
       "    </tr>\n",
       "    <tr>\n",
       "      <th>7407</th>\n",
       "      <td>7871</td>\n",
       "      <td>0</td>\n",
       "      <td>0</td>\n",
       "      <td>0</td>\n",
       "      <td>1</td>\n",
       "      <td>0</td>\n",
       "    </tr>\n",
       "    <tr>\n",
       "      <th>7408</th>\n",
       "      <td>36832</td>\n",
       "      <td>0</td>\n",
       "      <td>0</td>\n",
       "      <td>0</td>\n",
       "      <td>1</td>\n",
       "      <td>0</td>\n",
       "    </tr>\n",
       "  </tbody>\n",
       "</table>\n",
       "<p>7409 rows × 6 columns</p>\n",
       "</div>"
      ],
      "text/plain": [
       "      index  0  1  2  3  4\n",
       "0     22941  1  0  0  0  0\n",
       "1     31108  0  0  0  0  1\n",
       "2     16858  0  0  0  1  0\n",
       "3     13328  1  0  0  0  0\n",
       "4     23267  0  0  1  0  0\n",
       "...     ... .. .. .. .. ..\n",
       "7404   6780  0  0  0  1  0\n",
       "7405  32621  0  0  0  1  0\n",
       "7406   4846  0  0  0  1  0\n",
       "7407   7871  0  0  0  1  0\n",
       "7408  36832  0  0  0  1  0\n",
       "\n",
       "[7409 rows x 6 columns]"
      ]
     },
     "execution_count": 150,
     "metadata": {},
     "output_type": "execute_result"
    }
   ],
   "source": [
    "Y_test_reset"
   ]
  },
  {
   "cell_type": "code",
   "execution_count": 151,
   "id": "passive-parks",
   "metadata": {},
   "outputs": [],
   "source": [
    "labels=[]\n",
    "for row in range(len(Y_test_reset)):\n",
    "    if Y_test_reset.iloc[row,1]==1:\n",
    "        labels.append(0)\n",
    "    elif Y_test_reset.iloc[row,2]==1:\n",
    "        labels.append(1)\n",
    "    elif Y_test_reset.iloc[row,3]==1:\n",
    "        labels.append(2)\n",
    "    elif Y_test_reset.iloc[row,4]==1:\n",
    "        labels.append(3)\n",
    "    else:\n",
    "        labels.append(4)"
   ]
  },
  {
   "cell_type": "code",
   "execution_count": 152,
   "id": "dental-transfer",
   "metadata": {},
   "outputs": [
    {
     "name": "stdout",
     "output_type": "stream",
     "text": [
      "              precision    recall  f1-score   support\n",
      "\n",
      "           0       0.76      0.62      0.69       995\n",
      "           1       0.62      0.64      0.63      1786\n",
      "           2       0.75      0.76      0.75      1417\n",
      "           3       0.66      0.70      0.68      2013\n",
      "           4       0.78      0.74      0.76      1198\n",
      "\n",
      "    accuracy                           0.70      7409\n",
      "   macro avg       0.71      0.69      0.70      7409\n",
      "weighted avg       0.70      0.70      0.70      7409\n",
      "\n"
     ]
    }
   ],
   "source": [
    "print(classification_report(labels,y_pred_bool))"
   ]
  },
  {
   "cell_type": "code",
   "execution_count": 175,
   "id": "dressed-consideration",
   "metadata": {},
   "outputs": [],
   "source": [
    "from sklearn.metrics import confusion_matrix\n",
    "cm=confusion_matrix(labels,y_pred_bool)"
   ]
  },
  {
   "cell_type": "code",
   "execution_count": 174,
   "id": "uniform-baltimore",
   "metadata": {},
   "outputs": [],
   "source": [
    "def plot_confusion_matrix(cm,\n",
    "                          target_names,\n",
    "                          title='Confusion matrix',\n",
    "                          cmap=None,\n",
    "                          normalize=True):\n",
    "    \"\"\"\n",
    "    given a sklearn confusion matrix (cm), make a nice plot\n",
    "\n",
    "    Arguments\n",
    "    ---------\n",
    "    cm:           confusion matrix from sklearn.metrics.confusion_matrix\n",
    "\n",
    "    target_names: given classification classes such as [0, 1, 2]\n",
    "                  the class names, for example: ['high', 'medium', 'low']\n",
    "\n",
    "    title:        the text to display at the top of the matrix\n",
    "\n",
    "    cmap:         the gradient of the values displayed from matplotlib.pyplot.cm\n",
    "                  see http://matplotlib.org/examples/color/colormaps_reference.html\n",
    "                  plt.get_cmap('jet') or plt.cm.Blues\n",
    "\n",
    "    normalize:    If False, plot the raw numbers\n",
    "                  If True, plot the proportions\n",
    "\n",
    "    Usage\n",
    "    -----\n",
    "    plot_confusion_matrix(cm           = cm,                  # confusion matrix created by\n",
    "                                                              # sklearn.metrics.confusion_matrix\n",
    "                          normalize    = True,                # show proportions\n",
    "                          target_names = y_labels_vals,       # list of names of the classes\n",
    "                          title        = best_estimator_name) # title of graph\n",
    "\n",
    "    Citiation\n",
    "    ---------\n",
    "    http://scikit-learn.org/stable/auto_examples/model_selection/plot_confusion_matrix.html\n",
    "\n",
    "    \"\"\"\n",
    "    import matplotlib.pyplot as plt\n",
    "    import numpy as np\n",
    "    import itertools\n",
    "\n",
    "    accuracy = np.trace(cm) / np.sum(cm).astype('float')\n",
    "    misclass = 1 - accuracy\n",
    "\n",
    "    if cmap is None:\n",
    "        cmap = plt.get_cmap('Blues')\n",
    "\n",
    "    plt.figure(figsize=(8, 6))\n",
    "    plt.imshow(cm, interpolation='nearest', cmap=cmap)\n",
    "    plt.title(title)\n",
    "    plt.colorbar()\n",
    "\n",
    "    if target_names is not None:\n",
    "        tick_marks = np.arange(len(target_names))\n",
    "        plt.xticks(tick_marks, target_names, rotation=45)\n",
    "        plt.yticks(tick_marks, target_names)\n",
    "\n",
    "    if normalize:\n",
    "        cm = cm.astype('float') / cm.sum(axis=1)[:, np.newaxis]\n",
    "\n",
    "\n",
    "    thresh = cm.max() / 1.5 if normalize else cm.max() / 2\n",
    "    for i, j in itertools.product(range(cm.shape[0]), range(cm.shape[1])):\n",
    "        if normalize:\n",
    "            plt.text(j, i, \"{:0.4f}\".format(cm[i, j]),\n",
    "                     horizontalalignment=\"center\",\n",
    "                     color=\"white\" if cm[i, j] > thresh else \"black\")\n",
    "        else:\n",
    "            plt.text(j, i, \"{:,}\".format(cm[i, j]),\n",
    "                     horizontalalignment=\"center\",\n",
    "                     color=\"white\" if cm[i, j] > thresh else \"black\")\n",
    "\n",
    "\n",
    "    plt.tight_layout()\n",
    "    plt.ylabel('True label')\n",
    "    plt.xlabel('Predicted label\\naccuracy={:0.4f}; misclass={:0.4f}'.format(accuracy, misclass))"
   ]
  },
  {
   "cell_type": "code",
   "execution_count": 177,
   "id": "recognized-quarterly",
   "metadata": {},
   "outputs": [
    {
     "data": {
      "image/png": "[encoded data removed]",
      "text/plain": [
       "<Figure size 576x432 with 2 Axes>"
      ]
     },
     "metadata": {
      "needs_background": "light"
     },
     "output_type": "display_data"
    }
   ],
   "source": [
    "plot_confusion_matrix(cm,[0,1,2,3,4],normalize=False)"
   ]
  },
  {
   "cell_type": "code",
   "execution_count": null,
   "id": "proper-festival",
   "metadata": {},
   "outputs": [],
   "source": []
  }
 ],
 "metadata": {
  "kernelspec": {
   "display_name": "Python 3",
   "language": "python",
   "name": "python3"
  },
  "language_info": {
   "codemirror_mode": {
    "name": "ipython",
    "version": 3
   },
   "file_extension": ".py",
   "mimetype": "text/x-python",
   "name": "python",
   "nbconvert_exporter": "python",
   "pygments_lexer": "ipython3",
   "version": "3.7.4"
  }
 },
 "nbformat": 4,
 "nbformat_minor": 5
}
